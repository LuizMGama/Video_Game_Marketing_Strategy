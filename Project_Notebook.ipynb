{
 "cells": [
  {
   "cell_type": "markdown",
   "metadata": {},
   "source": [
    "\n",
    "\n",
    "Olá estudante!\n",
    "\n",
    "Me chamo Rafael Meirelles e irei revisar o seu projeto hoje e em eventuais futuras submissões até que ele cumpra todos os requisitos para o aceite.\n",
    "Conte comigo nessa jornada e não se preocupe se precisar ajustar alguns detalhes, é parte do processo e fundamental para que você exercite os conceitos que vem aprendendo e assim melhore a qualidade dos seus códigos e análises.\n",
    "\n",
    "**Peço que mantenha e não altereos comentários que eu fizer por aqui para que possamos nos localizar posteriormente, ok?**\n",
    "\n",
    "Mais uma coisa, vamos utilizar um código de cores para você entender os meus feedbacks no seu notebook. Funciona assim:\n",
    "\n",
    "\n",
    "<div class=\"alert alert-danger\">\n",
    "<strong>Vermelho</strong>\n",
    "\n",
    "Erro que precisa ser consertado, caso contrário, seu projeto não pode ser aceito\n",
    "\n",
    "</div>\n",
    "\n",
    "<div class=\"alert alert-warning\">\n",
    "<strong>Amarelo</strong>\n",
    "\n",
    "Alerta de um erro não crítco, mas que pode ser corrigido para melhoria geral no seu código/análise\n",
    "\n",
    "</div>\n",
    "\n",
    "<div class=\"alert alert-success\">\n",
    "<strong>Verde</strong>\n",
    "\n",
    "Elogios\n",
    "</div>\n",
    "\n",
    "<div class=\"alert alert-info\">\n",
    "<strong>Comentário do estudante</strong>\n",
    "\n",
    "Use uma caixa azul como essa para eventuais comentários que você gostaria de fazer para mim.\n",
    "</div>\n",
    "\n",
    "\n",
    "\n"
   ]
  },
  {
   "cell_type": "code",
   "execution_count": null,
   "metadata": {},
   "outputs": [],
   "source": []
  },
  {
   "cell_type": "code",
   "execution_count": null,
   "metadata": {},
   "outputs": [],
   "source": []
  },
  {
   "cell_type": "markdown",
   "metadata": {},
   "source": [
    "\n",
    "<div class=\"alert alert-danger\">\n",
    "<strong>Comentário do revisor v1</strong>\n",
    "\n",
    "Estamos no caminho certo com essa versão, mas retocar os pontos indicados abaixo nos fará chegar em um resultado ainda mais incrível.\n",
    "    \n",
    "Conte comigo para ajudá-lo (a) em qualquer questão que possa vir a ter! Lembre-se de usar as caixas azuis para se comunicar comigo.\n",
    "    \n",
    "Até breve.\n",
    "</div>\n"
   ]
  },
  {
   "cell_type": "markdown",
   "metadata": {},
   "source": [
    "# Projeto Integrado 1 Análise de Dados para loja online Ice"
   ]
  },
  {
   "cell_type": "markdown",
   "metadata": {},
   "source": [
    "Objetivo: \n",
    "\n",
    "Entender padrões e estabelecer um comportamento de consumidor que ajude a preparar futuras campanhas publicitárias para jogos, aumentando as vendas."
   ]
  },
  {
   "cell_type": "markdown",
   "metadata": {},
   "source": [
    "## Bibliotecas"
   ]
  },
  {
   "cell_type": "code",
   "execution_count": 39,
   "metadata": {},
   "outputs": [],
   "source": [
    "import pandas as pd\n",
    "import numpy as np\n",
    "import matplotlib.pyplot as plt\n",
    "import seaborn as sns\n",
    "from scipy.stats import ttest_ind"
   ]
  },
  {
   "cell_type": "markdown",
   "metadata": {},
   "source": [
    "## Carregando os Dados"
   ]
  },
  {
   "cell_type": "code",
   "execution_count": 40,
   "metadata": {},
   "outputs": [],
   "source": [
    "df = pd.read_csv('/datasets/games.csv')"
   ]
  },
  {
   "cell_type": "code",
   "execution_count": 41,
   "metadata": {},
   "outputs": [
    {
     "data": {
      "text/html": [
       "<div>\n",
       "<style scoped>\n",
       "    .dataframe tbody tr th:only-of-type {\n",
       "        vertical-align: middle;\n",
       "    }\n",
       "\n",
       "    .dataframe tbody tr th {\n",
       "        vertical-align: top;\n",
       "    }\n",
       "\n",
       "    .dataframe thead th {\n",
       "        text-align: right;\n",
       "    }\n",
       "</style>\n",
       "<table border=\"1\" class=\"dataframe\">\n",
       "  <thead>\n",
       "    <tr style=\"text-align: right;\">\n",
       "      <th></th>\n",
       "      <th>Name</th>\n",
       "      <th>Platform</th>\n",
       "      <th>Year_of_Release</th>\n",
       "      <th>Genre</th>\n",
       "      <th>NA_sales</th>\n",
       "      <th>EU_sales</th>\n",
       "      <th>JP_sales</th>\n",
       "      <th>Other_sales</th>\n",
       "      <th>Critic_Score</th>\n",
       "      <th>User_Score</th>\n",
       "      <th>Rating</th>\n",
       "    </tr>\n",
       "  </thead>\n",
       "  <tbody>\n",
       "    <tr>\n",
       "      <th>0</th>\n",
       "      <td>Wii Sports</td>\n",
       "      <td>Wii</td>\n",
       "      <td>2006.0</td>\n",
       "      <td>Sports</td>\n",
       "      <td>41.36</td>\n",
       "      <td>28.96</td>\n",
       "      <td>3.77</td>\n",
       "      <td>8.45</td>\n",
       "      <td>76.0</td>\n",
       "      <td>8</td>\n",
       "      <td>E</td>\n",
       "    </tr>\n",
       "    <tr>\n",
       "      <th>1</th>\n",
       "      <td>Super Mario Bros.</td>\n",
       "      <td>NES</td>\n",
       "      <td>1985.0</td>\n",
       "      <td>Platform</td>\n",
       "      <td>29.08</td>\n",
       "      <td>3.58</td>\n",
       "      <td>6.81</td>\n",
       "      <td>0.77</td>\n",
       "      <td>NaN</td>\n",
       "      <td>NaN</td>\n",
       "      <td>NaN</td>\n",
       "    </tr>\n",
       "    <tr>\n",
       "      <th>2</th>\n",
       "      <td>Mario Kart Wii</td>\n",
       "      <td>Wii</td>\n",
       "      <td>2008.0</td>\n",
       "      <td>Racing</td>\n",
       "      <td>15.68</td>\n",
       "      <td>12.76</td>\n",
       "      <td>3.79</td>\n",
       "      <td>3.29</td>\n",
       "      <td>82.0</td>\n",
       "      <td>8.3</td>\n",
       "      <td>E</td>\n",
       "    </tr>\n",
       "    <tr>\n",
       "      <th>3</th>\n",
       "      <td>Wii Sports Resort</td>\n",
       "      <td>Wii</td>\n",
       "      <td>2009.0</td>\n",
       "      <td>Sports</td>\n",
       "      <td>15.61</td>\n",
       "      <td>10.93</td>\n",
       "      <td>3.28</td>\n",
       "      <td>2.95</td>\n",
       "      <td>80.0</td>\n",
       "      <td>8</td>\n",
       "      <td>E</td>\n",
       "    </tr>\n",
       "    <tr>\n",
       "      <th>4</th>\n",
       "      <td>Pokemon Red/Pokemon Blue</td>\n",
       "      <td>GB</td>\n",
       "      <td>1996.0</td>\n",
       "      <td>Role-Playing</td>\n",
       "      <td>11.27</td>\n",
       "      <td>8.89</td>\n",
       "      <td>10.22</td>\n",
       "      <td>1.00</td>\n",
       "      <td>NaN</td>\n",
       "      <td>NaN</td>\n",
       "      <td>NaN</td>\n",
       "    </tr>\n",
       "  </tbody>\n",
       "</table>\n",
       "</div>"
      ],
      "text/plain": [
       "                       Name Platform  Year_of_Release         Genre  NA_sales  \\\n",
       "0                Wii Sports      Wii           2006.0        Sports     41.36   \n",
       "1         Super Mario Bros.      NES           1985.0      Platform     29.08   \n",
       "2            Mario Kart Wii      Wii           2008.0        Racing     15.68   \n",
       "3         Wii Sports Resort      Wii           2009.0        Sports     15.61   \n",
       "4  Pokemon Red/Pokemon Blue       GB           1996.0  Role-Playing     11.27   \n",
       "\n",
       "   EU_sales  JP_sales  Other_sales  Critic_Score User_Score Rating  \n",
       "0     28.96      3.77         8.45          76.0          8      E  \n",
       "1      3.58      6.81         0.77           NaN        NaN    NaN  \n",
       "2     12.76      3.79         3.29          82.0        8.3      E  \n",
       "3     10.93      3.28         2.95          80.0          8      E  \n",
       "4      8.89     10.22         1.00           NaN        NaN    NaN  "
      ]
     },
     "execution_count": 41,
     "metadata": {},
     "output_type": "execute_result"
    }
   ],
   "source": [
    "df.head()"
   ]
  },
  {
   "cell_type": "markdown",
   "metadata": {},
   "source": [
    "## Análise dos Dados"
   ]
  },
  {
   "cell_type": "markdown",
   "metadata": {},
   "source": [
    "### Informações Gerais"
   ]
  },
  {
   "cell_type": "code",
   "execution_count": 42,
   "metadata": {},
   "outputs": [
    {
     "name": "stdout",
     "output_type": "stream",
     "text": [
      "<class 'pandas.core.frame.DataFrame'>\n",
      "RangeIndex: 16715 entries, 0 to 16714\n",
      "Data columns (total 11 columns):\n",
      " #   Column           Non-Null Count  Dtype  \n",
      "---  ------           --------------  -----  \n",
      " 0   Name             16713 non-null  object \n",
      " 1   Platform         16715 non-null  object \n",
      " 2   Year_of_Release  16446 non-null  float64\n",
      " 3   Genre            16713 non-null  object \n",
      " 4   NA_sales         16715 non-null  float64\n",
      " 5   EU_sales         16715 non-null  float64\n",
      " 6   JP_sales         16715 non-null  float64\n",
      " 7   Other_sales      16715 non-null  float64\n",
      " 8   Critic_Score     8137 non-null   float64\n",
      " 9   User_Score       10014 non-null  object \n",
      " 10  Rating           9949 non-null   object \n",
      "dtypes: float64(6), object(5)\n",
      "memory usage: 1.4+ MB\n"
     ]
    }
   ],
   "source": [
    "df.info()"
   ]
  },
  {
   "cell_type": "markdown",
   "metadata": {},
   "source": [
    "A coluna 'year_of_release' está como float. Isso não faz sentido. Seria melhor que fosse do tipo object ou do tipo int. Para poder fazer operações referentes a idade dos jogos, caso entenda que é necessário, vou deixar como tipo int.\n",
    "\n",
    "A coluna 'User_Score' é do tipo object, mas deveria ser do tipo int ou float. O melhor será tipo float, provavelmente.\n",
    "\n",
    "Existem colunas com valores faltantes. É necessário entender porque certos valores não são apresentados na tabela"
   ]
  },
  {
   "cell_type": "markdown",
   "metadata": {},
   "source": [
    "### Substituir os nomes das colunas (Tudo minúsculo)"
   ]
  },
  {
   "cell_type": "code",
   "execution_count": 43,
   "metadata": {},
   "outputs": [],
   "source": [
    "df.columns = df.columns.str.lower()"
   ]
  },
  {
   "cell_type": "code",
   "execution_count": 44,
   "metadata": {},
   "outputs": [
    {
     "name": "stdout",
     "output_type": "stream",
     "text": [
      "Index(['name', 'platform', 'year_of_release', 'genre', 'na_sales', 'eu_sales',\n",
      "       'jp_sales', 'other_sales', 'critic_score', 'user_score', 'rating'],\n",
      "      dtype='object')\n"
     ]
    }
   ],
   "source": [
    "print(df.columns)"
   ]
  },
  {
   "cell_type": "markdown",
   "metadata": {},
   "source": [
    "### Convertendo Dados"
   ]
  },
  {
   "cell_type": "markdown",
   "metadata": {},
   "source": [
    "#### Convertendo user_score"
   ]
  },
  {
   "cell_type": "markdown",
   "metadata": {},
   "source": [
    "Começando por 'user_score', é muito provável que o tipo object se de ao fato de \"tbd\" ter sido atribuído para muitos jogos que ainda não têm a nota dos usuários. Mas, para confirmar isso, vamos chamar o value counts."
   ]
  },
  {
   "cell_type": "code",
   "execution_count": 45,
   "metadata": {},
   "outputs": [
    {
     "data": {
      "text/plain": [
       "tbd    2424\n",
       "7.8     324\n",
       "8       290\n",
       "8.2     282\n",
       "8.3     254\n",
       "8.5     253\n",
       "7.5     251\n",
       "7.9     249\n",
       "8.1     244\n",
       "7.7     240\n",
       "Name: user_score, dtype: int64"
      ]
     },
     "execution_count": 45,
     "metadata": {},
     "output_type": "execute_result"
    }
   ],
   "source": [
    "df['user_score'].value_counts()[:10]"
   ]
  },
  {
   "cell_type": "code",
   "execution_count": 46,
   "metadata": {},
   "outputs": [
    {
     "name": "stdout",
     "output_type": "stream",
     "text": [
      "object\n"
     ]
    }
   ],
   "source": [
    "print(df['user_score'].dtype)"
   ]
  },
  {
   "cell_type": "markdown",
   "metadata": {},
   "source": [
    "Aqui, confirmamos como \"tbd\" aparece em grande quantidade e como o tipo de dado é mesmo object. Vamos transformar os valores \"tbd\" em Nan e converter toda a coluna para o tipo float."
   ]
  },
  {
   "cell_type": "code",
   "execution_count": 47,
   "metadata": {},
   "outputs": [],
   "source": [
    "df['user_score'] = df['user_score'].replace(\"tbd\", np.nan)\n",
    "df['user_score'] = df['user_score'].astype(float)"
   ]
  },
  {
   "cell_type": "code",
   "execution_count": 48,
   "metadata": {},
   "outputs": [
    {
     "name": "stdout",
     "output_type": "stream",
     "text": [
      "<class 'pandas.core.frame.DataFrame'>\n",
      "RangeIndex: 16715 entries, 0 to 16714\n",
      "Data columns (total 11 columns):\n",
      " #   Column           Non-Null Count  Dtype  \n",
      "---  ------           --------------  -----  \n",
      " 0   name             16713 non-null  object \n",
      " 1   platform         16715 non-null  object \n",
      " 2   year_of_release  16446 non-null  float64\n",
      " 3   genre            16713 non-null  object \n",
      " 4   na_sales         16715 non-null  float64\n",
      " 5   eu_sales         16715 non-null  float64\n",
      " 6   jp_sales         16715 non-null  float64\n",
      " 7   other_sales      16715 non-null  float64\n",
      " 8   critic_score     8137 non-null   float64\n",
      " 9   user_score       7590 non-null   float64\n",
      " 10  rating           9949 non-null   object \n",
      "dtypes: float64(7), object(4)\n",
      "memory usage: 1.4+ MB\n"
     ]
    }
   ],
   "source": [
    "df.info()"
   ]
  },
  {
   "cell_type": "markdown",
   "metadata": {},
   "source": [
    "#### Convertendo \"year_of_release\""
   ]
  },
  {
   "cell_type": "markdown",
   "metadata": {},
   "source": [
    "Seguindo para 'year_of_release', gostaríamos que esses dados fossem do tipo int, mas eles são do tipo float. Isso, certamente, porque existem valores na, indicados no método info. Vamos testar a hipótese. "
   ]
  },
  {
   "cell_type": "code",
   "execution_count": 49,
   "metadata": {},
   "outputs": [
    {
     "data": {
      "text/plain": [
       "269"
      ]
     },
     "execution_count": 49,
     "metadata": {},
     "output_type": "execute_result"
    }
   ],
   "source": [
    "df['year_of_release'].isna().sum()"
   ]
  },
  {
   "cell_type": "code",
   "execution_count": 50,
   "metadata": {},
   "outputs": [
    {
     "data": {
      "text/html": [
       "<div>\n",
       "<style scoped>\n",
       "    .dataframe tbody tr th:only-of-type {\n",
       "        vertical-align: middle;\n",
       "    }\n",
       "\n",
       "    .dataframe tbody tr th {\n",
       "        vertical-align: top;\n",
       "    }\n",
       "\n",
       "    .dataframe thead th {\n",
       "        text-align: right;\n",
       "    }\n",
       "</style>\n",
       "<table border=\"1\" class=\"dataframe\">\n",
       "  <thead>\n",
       "    <tr style=\"text-align: right;\">\n",
       "      <th></th>\n",
       "      <th>name</th>\n",
       "      <th>platform</th>\n",
       "      <th>year_of_release</th>\n",
       "      <th>genre</th>\n",
       "      <th>na_sales</th>\n",
       "      <th>eu_sales</th>\n",
       "      <th>jp_sales</th>\n",
       "      <th>other_sales</th>\n",
       "      <th>critic_score</th>\n",
       "      <th>user_score</th>\n",
       "      <th>rating</th>\n",
       "    </tr>\n",
       "  </thead>\n",
       "  <tbody>\n",
       "    <tr>\n",
       "      <th>183</th>\n",
       "      <td>Madden NFL 2004</td>\n",
       "      <td>PS2</td>\n",
       "      <td>NaN</td>\n",
       "      <td>Sports</td>\n",
       "      <td>4.26</td>\n",
       "      <td>0.26</td>\n",
       "      <td>0.01</td>\n",
       "      <td>0.71</td>\n",
       "      <td>94.0</td>\n",
       "      <td>8.5</td>\n",
       "      <td>E</td>\n",
       "    </tr>\n",
       "    <tr>\n",
       "      <th>377</th>\n",
       "      <td>FIFA Soccer 2004</td>\n",
       "      <td>PS2</td>\n",
       "      <td>NaN</td>\n",
       "      <td>Sports</td>\n",
       "      <td>0.59</td>\n",
       "      <td>2.36</td>\n",
       "      <td>0.04</td>\n",
       "      <td>0.51</td>\n",
       "      <td>84.0</td>\n",
       "      <td>6.4</td>\n",
       "      <td>E</td>\n",
       "    </tr>\n",
       "    <tr>\n",
       "      <th>456</th>\n",
       "      <td>LEGO Batman: The Videogame</td>\n",
       "      <td>Wii</td>\n",
       "      <td>NaN</td>\n",
       "      <td>Action</td>\n",
       "      <td>1.80</td>\n",
       "      <td>0.97</td>\n",
       "      <td>0.00</td>\n",
       "      <td>0.29</td>\n",
       "      <td>74.0</td>\n",
       "      <td>7.9</td>\n",
       "      <td>E10+</td>\n",
       "    </tr>\n",
       "    <tr>\n",
       "      <th>475</th>\n",
       "      <td>wwe Smackdown vs. Raw 2006</td>\n",
       "      <td>PS2</td>\n",
       "      <td>NaN</td>\n",
       "      <td>Fighting</td>\n",
       "      <td>1.57</td>\n",
       "      <td>1.02</td>\n",
       "      <td>0.00</td>\n",
       "      <td>0.41</td>\n",
       "      <td>NaN</td>\n",
       "      <td>NaN</td>\n",
       "      <td>NaN</td>\n",
       "    </tr>\n",
       "    <tr>\n",
       "      <th>609</th>\n",
       "      <td>Space Invaders</td>\n",
       "      <td>2600</td>\n",
       "      <td>NaN</td>\n",
       "      <td>Shooter</td>\n",
       "      <td>2.36</td>\n",
       "      <td>0.14</td>\n",
       "      <td>0.00</td>\n",
       "      <td>0.03</td>\n",
       "      <td>NaN</td>\n",
       "      <td>NaN</td>\n",
       "      <td>NaN</td>\n",
       "    </tr>\n",
       "    <tr>\n",
       "      <th>...</th>\n",
       "      <td>...</td>\n",
       "      <td>...</td>\n",
       "      <td>...</td>\n",
       "      <td>...</td>\n",
       "      <td>...</td>\n",
       "      <td>...</td>\n",
       "      <td>...</td>\n",
       "      <td>...</td>\n",
       "      <td>...</td>\n",
       "      <td>...</td>\n",
       "      <td>...</td>\n",
       "    </tr>\n",
       "    <tr>\n",
       "      <th>16373</th>\n",
       "      <td>PDC World Championship Darts 2008</td>\n",
       "      <td>PSP</td>\n",
       "      <td>NaN</td>\n",
       "      <td>Sports</td>\n",
       "      <td>0.01</td>\n",
       "      <td>0.00</td>\n",
       "      <td>0.00</td>\n",
       "      <td>0.00</td>\n",
       "      <td>43.0</td>\n",
       "      <td>NaN</td>\n",
       "      <td>E10+</td>\n",
       "    </tr>\n",
       "    <tr>\n",
       "      <th>16405</th>\n",
       "      <td>Freaky Flyers</td>\n",
       "      <td>GC</td>\n",
       "      <td>NaN</td>\n",
       "      <td>Racing</td>\n",
       "      <td>0.01</td>\n",
       "      <td>0.00</td>\n",
       "      <td>0.00</td>\n",
       "      <td>0.00</td>\n",
       "      <td>69.0</td>\n",
       "      <td>6.5</td>\n",
       "      <td>T</td>\n",
       "    </tr>\n",
       "    <tr>\n",
       "      <th>16448</th>\n",
       "      <td>Inversion</td>\n",
       "      <td>PC</td>\n",
       "      <td>NaN</td>\n",
       "      <td>Shooter</td>\n",
       "      <td>0.01</td>\n",
       "      <td>0.00</td>\n",
       "      <td>0.00</td>\n",
       "      <td>0.00</td>\n",
       "      <td>59.0</td>\n",
       "      <td>6.7</td>\n",
       "      <td>M</td>\n",
       "    </tr>\n",
       "    <tr>\n",
       "      <th>16458</th>\n",
       "      <td>Hakuouki: Shinsengumi Kitan</td>\n",
       "      <td>PS3</td>\n",
       "      <td>NaN</td>\n",
       "      <td>Adventure</td>\n",
       "      <td>0.01</td>\n",
       "      <td>0.00</td>\n",
       "      <td>0.00</td>\n",
       "      <td>0.00</td>\n",
       "      <td>NaN</td>\n",
       "      <td>NaN</td>\n",
       "      <td>NaN</td>\n",
       "    </tr>\n",
       "    <tr>\n",
       "      <th>16522</th>\n",
       "      <td>Virtua Quest</td>\n",
       "      <td>GC</td>\n",
       "      <td>NaN</td>\n",
       "      <td>Role-Playing</td>\n",
       "      <td>0.01</td>\n",
       "      <td>0.00</td>\n",
       "      <td>0.00</td>\n",
       "      <td>0.00</td>\n",
       "      <td>55.0</td>\n",
       "      <td>5.5</td>\n",
       "      <td>T</td>\n",
       "    </tr>\n",
       "  </tbody>\n",
       "</table>\n",
       "<p>269 rows × 11 columns</p>\n",
       "</div>"
      ],
      "text/plain": [
       "                                    name platform  year_of_release  \\\n",
       "183                      Madden NFL 2004      PS2              NaN   \n",
       "377                     FIFA Soccer 2004      PS2              NaN   \n",
       "456           LEGO Batman: The Videogame      Wii              NaN   \n",
       "475           wwe Smackdown vs. Raw 2006      PS2              NaN   \n",
       "609                       Space Invaders     2600              NaN   \n",
       "...                                  ...      ...              ...   \n",
       "16373  PDC World Championship Darts 2008      PSP              NaN   \n",
       "16405                      Freaky Flyers       GC              NaN   \n",
       "16448                          Inversion       PC              NaN   \n",
       "16458        Hakuouki: Shinsengumi Kitan      PS3              NaN   \n",
       "16522                       Virtua Quest       GC              NaN   \n",
       "\n",
       "              genre  na_sales  eu_sales  jp_sales  other_sales  critic_score  \\\n",
       "183          Sports      4.26      0.26      0.01         0.71          94.0   \n",
       "377          Sports      0.59      2.36      0.04         0.51          84.0   \n",
       "456          Action      1.80      0.97      0.00         0.29          74.0   \n",
       "475        Fighting      1.57      1.02      0.00         0.41           NaN   \n",
       "609         Shooter      2.36      0.14      0.00         0.03           NaN   \n",
       "...             ...       ...       ...       ...          ...           ...   \n",
       "16373        Sports      0.01      0.00      0.00         0.00          43.0   \n",
       "16405        Racing      0.01      0.00      0.00         0.00          69.0   \n",
       "16448       Shooter      0.01      0.00      0.00         0.00          59.0   \n",
       "16458     Adventure      0.01      0.00      0.00         0.00           NaN   \n",
       "16522  Role-Playing      0.01      0.00      0.00         0.00          55.0   \n",
       "\n",
       "       user_score rating  \n",
       "183           8.5      E  \n",
       "377           6.4      E  \n",
       "456           7.9   E10+  \n",
       "475           NaN    NaN  \n",
       "609           NaN    NaN  \n",
       "...           ...    ...  \n",
       "16373         NaN   E10+  \n",
       "16405         6.5      T  \n",
       "16448         6.7      M  \n",
       "16458         NaN    NaN  \n",
       "16522         5.5      T  \n",
       "\n",
       "[269 rows x 11 columns]"
      ]
     },
     "execution_count": 50,
     "metadata": {},
     "output_type": "execute_result"
    }
   ],
   "source": [
    "df[df['year_of_release'].isna()]"
   ]
  },
  {
   "cell_type": "code",
   "execution_count": 51,
   "metadata": {},
   "outputs": [
    {
     "data": {
      "text/html": [
       "<div>\n",
       "<style scoped>\n",
       "    .dataframe tbody tr th:only-of-type {\n",
       "        vertical-align: middle;\n",
       "    }\n",
       "\n",
       "    .dataframe tbody tr th {\n",
       "        vertical-align: top;\n",
       "    }\n",
       "\n",
       "    .dataframe thead th {\n",
       "        text-align: right;\n",
       "    }\n",
       "</style>\n",
       "<table border=\"1\" class=\"dataframe\">\n",
       "  <thead>\n",
       "    <tr style=\"text-align: right;\">\n",
       "      <th></th>\n",
       "      <th>name</th>\n",
       "      <th>platform</th>\n",
       "      <th>year_of_release</th>\n",
       "      <th>genre</th>\n",
       "      <th>na_sales</th>\n",
       "      <th>eu_sales</th>\n",
       "      <th>jp_sales</th>\n",
       "      <th>other_sales</th>\n",
       "      <th>critic_score</th>\n",
       "      <th>user_score</th>\n",
       "      <th>rating</th>\n",
       "    </tr>\n",
       "  </thead>\n",
       "  <tbody>\n",
       "    <tr>\n",
       "      <th>183</th>\n",
       "      <td>Madden NFL 2004</td>\n",
       "      <td>PS2</td>\n",
       "      <td>NaN</td>\n",
       "      <td>Sports</td>\n",
       "      <td>4.26</td>\n",
       "      <td>0.26</td>\n",
       "      <td>0.01</td>\n",
       "      <td>0.71</td>\n",
       "      <td>94.0</td>\n",
       "      <td>8.5</td>\n",
       "      <td>E</td>\n",
       "    </tr>\n",
       "    <tr>\n",
       "      <th>1881</th>\n",
       "      <td>Madden NFL 2004</td>\n",
       "      <td>XB</td>\n",
       "      <td>2003.0</td>\n",
       "      <td>Sports</td>\n",
       "      <td>1.02</td>\n",
       "      <td>0.02</td>\n",
       "      <td>0.00</td>\n",
       "      <td>0.05</td>\n",
       "      <td>92.0</td>\n",
       "      <td>8.3</td>\n",
       "      <td>E</td>\n",
       "    </tr>\n",
       "    <tr>\n",
       "      <th>3889</th>\n",
       "      <td>Madden NFL 2004</td>\n",
       "      <td>GC</td>\n",
       "      <td>2003.0</td>\n",
       "      <td>Sports</td>\n",
       "      <td>0.40</td>\n",
       "      <td>0.10</td>\n",
       "      <td>0.00</td>\n",
       "      <td>0.01</td>\n",
       "      <td>94.0</td>\n",
       "      <td>7.7</td>\n",
       "      <td>E</td>\n",
       "    </tr>\n",
       "    <tr>\n",
       "      <th>5708</th>\n",
       "      <td>Madden NFL 2004</td>\n",
       "      <td>GBA</td>\n",
       "      <td>2003.0</td>\n",
       "      <td>Sports</td>\n",
       "      <td>0.22</td>\n",
       "      <td>0.08</td>\n",
       "      <td>0.00</td>\n",
       "      <td>0.01</td>\n",
       "      <td>70.0</td>\n",
       "      <td>6.6</td>\n",
       "      <td>E</td>\n",
       "    </tr>\n",
       "  </tbody>\n",
       "</table>\n",
       "</div>"
      ],
      "text/plain": [
       "                 name platform  year_of_release   genre  na_sales  eu_sales  \\\n",
       "183   Madden NFL 2004      PS2              NaN  Sports      4.26      0.26   \n",
       "1881  Madden NFL 2004       XB           2003.0  Sports      1.02      0.02   \n",
       "3889  Madden NFL 2004       GC           2003.0  Sports      0.40      0.10   \n",
       "5708  Madden NFL 2004      GBA           2003.0  Sports      0.22      0.08   \n",
       "\n",
       "      jp_sales  other_sales  critic_score  user_score rating  \n",
       "183       0.01         0.71          94.0         8.5      E  \n",
       "1881      0.00         0.05          92.0         8.3      E  \n",
       "3889      0.00         0.01          94.0         7.7      E  \n",
       "5708      0.00         0.01          70.0         6.6      E  "
      ]
     },
     "execution_count": 51,
     "metadata": {},
     "output_type": "execute_result"
    }
   ],
   "source": [
    "game_name = \"Madden NFL 2004\"\n",
    "df[df['name']==game_name]"
   ]
  },
  {
   "cell_type": "code",
   "execution_count": 52,
   "metadata": {},
   "outputs": [
    {
     "data": {
      "text/html": [
       "<div>\n",
       "<style scoped>\n",
       "    .dataframe tbody tr th:only-of-type {\n",
       "        vertical-align: middle;\n",
       "    }\n",
       "\n",
       "    .dataframe tbody tr th {\n",
       "        vertical-align: top;\n",
       "    }\n",
       "\n",
       "    .dataframe thead th {\n",
       "        text-align: right;\n",
       "    }\n",
       "</style>\n",
       "<table border=\"1\" class=\"dataframe\">\n",
       "  <thead>\n",
       "    <tr style=\"text-align: right;\">\n",
       "      <th></th>\n",
       "      <th>name</th>\n",
       "      <th>platform</th>\n",
       "      <th>year_of_release</th>\n",
       "      <th>genre</th>\n",
       "      <th>na_sales</th>\n",
       "      <th>eu_sales</th>\n",
       "      <th>jp_sales</th>\n",
       "      <th>other_sales</th>\n",
       "      <th>critic_score</th>\n",
       "      <th>user_score</th>\n",
       "      <th>rating</th>\n",
       "    </tr>\n",
       "  </thead>\n",
       "  <tbody>\n",
       "    <tr>\n",
       "      <th>609</th>\n",
       "      <td>Space Invaders</td>\n",
       "      <td>2600</td>\n",
       "      <td>NaN</td>\n",
       "      <td>Shooter</td>\n",
       "      <td>2.36</td>\n",
       "      <td>0.14</td>\n",
       "      <td>0.00</td>\n",
       "      <td>0.03</td>\n",
       "      <td>NaN</td>\n",
       "      <td>NaN</td>\n",
       "      <td>NaN</td>\n",
       "    </tr>\n",
       "    <tr>\n",
       "      <th>4264</th>\n",
       "      <td>Space Invaders</td>\n",
       "      <td>SNES</td>\n",
       "      <td>1994.0</td>\n",
       "      <td>Shooter</td>\n",
       "      <td>0.00</td>\n",
       "      <td>0.00</td>\n",
       "      <td>0.46</td>\n",
       "      <td>0.00</td>\n",
       "      <td>NaN</td>\n",
       "      <td>NaN</td>\n",
       "      <td>NaN</td>\n",
       "    </tr>\n",
       "    <tr>\n",
       "      <th>8580</th>\n",
       "      <td>Space Invaders</td>\n",
       "      <td>N64</td>\n",
       "      <td>1999.0</td>\n",
       "      <td>Shooter</td>\n",
       "      <td>0.13</td>\n",
       "      <td>0.03</td>\n",
       "      <td>0.00</td>\n",
       "      <td>0.00</td>\n",
       "      <td>NaN</td>\n",
       "      <td>NaN</td>\n",
       "      <td>NaN</td>\n",
       "    </tr>\n",
       "    <tr>\n",
       "      <th>10383</th>\n",
       "      <td>Space Invaders</td>\n",
       "      <td>GBA</td>\n",
       "      <td>2002.0</td>\n",
       "      <td>Shooter</td>\n",
       "      <td>0.08</td>\n",
       "      <td>0.03</td>\n",
       "      <td>0.00</td>\n",
       "      <td>0.00</td>\n",
       "      <td>NaN</td>\n",
       "      <td>NaN</td>\n",
       "      <td>NaN</td>\n",
       "    </tr>\n",
       "  </tbody>\n",
       "</table>\n",
       "</div>"
      ],
      "text/plain": [
       "                 name platform  year_of_release    genre  na_sales  eu_sales  \\\n",
       "609    Space Invaders     2600              NaN  Shooter      2.36      0.14   \n",
       "4264   Space Invaders     SNES           1994.0  Shooter      0.00      0.00   \n",
       "8580   Space Invaders      N64           1999.0  Shooter      0.13      0.03   \n",
       "10383  Space Invaders      GBA           2002.0  Shooter      0.08      0.03   \n",
       "\n",
       "       jp_sales  other_sales  critic_score  user_score rating  \n",
       "609        0.00         0.03           NaN         NaN    NaN  \n",
       "4264       0.46         0.00           NaN         NaN    NaN  \n",
       "8580       0.00         0.00           NaN         NaN    NaN  \n",
       "10383      0.00         0.00           NaN         NaN    NaN  "
      ]
     },
     "execution_count": 52,
     "metadata": {},
     "output_type": "execute_result"
    }
   ],
   "source": [
    "game_name_2 =\"Space Invaders\"\n",
    "df[df['name']==game_name_2]"
   ]
  },
  {
   "cell_type": "markdown",
   "metadata": {},
   "source": [
    "verificamos, com dois jogos diferentes, que o mesmo jogo pode ter sido lançado em plataformas diferentes e em datas diferentes. Ao invés de eliminar os dados, vamos substituir, com estimativas, alguns valores na por medianas para aqueles jogos que temos informações suficientes para fazer isso."
   ]
  },
  {
   "cell_type": "code",
   "execution_count": 53,
   "metadata": {},
   "outputs": [],
   "source": [
    "df['year_of_release'] = df['year_of_release'].fillna(df.groupby(['name'])['year_of_release'].transform('median'))"
   ]
  },
  {
   "cell_type": "code",
   "execution_count": 54,
   "metadata": {},
   "outputs": [
    {
     "data": {
      "text/html": [
       "<div>\n",
       "<style scoped>\n",
       "    .dataframe tbody tr th:only-of-type {\n",
       "        vertical-align: middle;\n",
       "    }\n",
       "\n",
       "    .dataframe tbody tr th {\n",
       "        vertical-align: top;\n",
       "    }\n",
       "\n",
       "    .dataframe thead th {\n",
       "        text-align: right;\n",
       "    }\n",
       "</style>\n",
       "<table border=\"1\" class=\"dataframe\">\n",
       "  <thead>\n",
       "    <tr style=\"text-align: right;\">\n",
       "      <th></th>\n",
       "      <th>name</th>\n",
       "      <th>platform</th>\n",
       "      <th>year_of_release</th>\n",
       "      <th>genre</th>\n",
       "      <th>na_sales</th>\n",
       "      <th>eu_sales</th>\n",
       "      <th>jp_sales</th>\n",
       "      <th>other_sales</th>\n",
       "      <th>critic_score</th>\n",
       "      <th>user_score</th>\n",
       "      <th>rating</th>\n",
       "    </tr>\n",
       "  </thead>\n",
       "  <tbody>\n",
       "    <tr>\n",
       "      <th>609</th>\n",
       "      <td>Space Invaders</td>\n",
       "      <td>2600</td>\n",
       "      <td>1999.0</td>\n",
       "      <td>Shooter</td>\n",
       "      <td>2.36</td>\n",
       "      <td>0.14</td>\n",
       "      <td>0.00</td>\n",
       "      <td>0.03</td>\n",
       "      <td>NaN</td>\n",
       "      <td>NaN</td>\n",
       "      <td>NaN</td>\n",
       "    </tr>\n",
       "    <tr>\n",
       "      <th>4264</th>\n",
       "      <td>Space Invaders</td>\n",
       "      <td>SNES</td>\n",
       "      <td>1994.0</td>\n",
       "      <td>Shooter</td>\n",
       "      <td>0.00</td>\n",
       "      <td>0.00</td>\n",
       "      <td>0.46</td>\n",
       "      <td>0.00</td>\n",
       "      <td>NaN</td>\n",
       "      <td>NaN</td>\n",
       "      <td>NaN</td>\n",
       "    </tr>\n",
       "    <tr>\n",
       "      <th>8580</th>\n",
       "      <td>Space Invaders</td>\n",
       "      <td>N64</td>\n",
       "      <td>1999.0</td>\n",
       "      <td>Shooter</td>\n",
       "      <td>0.13</td>\n",
       "      <td>0.03</td>\n",
       "      <td>0.00</td>\n",
       "      <td>0.00</td>\n",
       "      <td>NaN</td>\n",
       "      <td>NaN</td>\n",
       "      <td>NaN</td>\n",
       "    </tr>\n",
       "    <tr>\n",
       "      <th>10383</th>\n",
       "      <td>Space Invaders</td>\n",
       "      <td>GBA</td>\n",
       "      <td>2002.0</td>\n",
       "      <td>Shooter</td>\n",
       "      <td>0.08</td>\n",
       "      <td>0.03</td>\n",
       "      <td>0.00</td>\n",
       "      <td>0.00</td>\n",
       "      <td>NaN</td>\n",
       "      <td>NaN</td>\n",
       "      <td>NaN</td>\n",
       "    </tr>\n",
       "  </tbody>\n",
       "</table>\n",
       "</div>"
      ],
      "text/plain": [
       "                 name platform  year_of_release    genre  na_sales  eu_sales  \\\n",
       "609    Space Invaders     2600           1999.0  Shooter      2.36      0.14   \n",
       "4264   Space Invaders     SNES           1994.0  Shooter      0.00      0.00   \n",
       "8580   Space Invaders      N64           1999.0  Shooter      0.13      0.03   \n",
       "10383  Space Invaders      GBA           2002.0  Shooter      0.08      0.03   \n",
       "\n",
       "       jp_sales  other_sales  critic_score  user_score rating  \n",
       "609        0.00         0.03           NaN         NaN    NaN  \n",
       "4264       0.46         0.00           NaN         NaN    NaN  \n",
       "8580       0.00         0.00           NaN         NaN    NaN  \n",
       "10383      0.00         0.00           NaN         NaN    NaN  "
      ]
     },
     "execution_count": 54,
     "metadata": {},
     "output_type": "execute_result"
    }
   ],
   "source": [
    "game_name_2 =\"Space Invaders\"\n",
    "df[df['name']==game_name_2]"
   ]
  },
  {
   "cell_type": "code",
   "execution_count": 55,
   "metadata": {},
   "outputs": [
    {
     "data": {
      "text/plain": [
       "146"
      ]
     },
     "execution_count": 55,
     "metadata": {},
     "output_type": "execute_result"
    }
   ],
   "source": [
    "df['year_of_release'].isna().sum()"
   ]
  },
  {
   "cell_type": "markdown",
   "metadata": {},
   "source": [
    "Depois de rodas o teste com o jogo Space invaders uma segunda vez, percebemos que a data NaN foi substituída pela mediana com sucesso, mas que 146 linhas ainda permanecem com os valores inexistentes. Isso certamente porque não haviam informações suficientes para o cálculo da mediana. Como 146 é uma parcela muito ínfima dos dados, vamos removê-los. Depois, poderemos converter para inteiro."
   ]
  },
  {
   "cell_type": "code",
   "execution_count": 56,
   "metadata": {},
   "outputs": [],
   "source": [
    "df = df.dropna(subset=['year_of_release'])"
   ]
  },
  {
   "cell_type": "markdown",
   "metadata": {},
   "source": []
  },
  {
   "cell_type": "code",
   "execution_count": 57,
   "metadata": {},
   "outputs": [
    {
     "data": {
      "text/plain": [
       "0"
      ]
     },
     "execution_count": 57,
     "metadata": {},
     "output_type": "execute_result"
    }
   ],
   "source": [
    "df['year_of_release'].isna().sum()"
   ]
  },
  {
   "cell_type": "code",
   "execution_count": 58,
   "metadata": {},
   "outputs": [],
   "source": [
    "df['year_of_release'] = df['year_of_release'].astype(int)"
   ]
  },
  {
   "cell_type": "code",
   "execution_count": 59,
   "metadata": {},
   "outputs": [
    {
     "name": "stdout",
     "output_type": "stream",
     "text": [
      "<class 'pandas.core.frame.DataFrame'>\n",
      "Int64Index: 16569 entries, 0 to 16714\n",
      "Data columns (total 11 columns):\n",
      " #   Column           Non-Null Count  Dtype  \n",
      "---  ------           --------------  -----  \n",
      " 0   name             16567 non-null  object \n",
      " 1   platform         16569 non-null  object \n",
      " 2   year_of_release  16569 non-null  int64  \n",
      " 3   genre            16567 non-null  object \n",
      " 4   na_sales         16569 non-null  float64\n",
      " 5   eu_sales         16569 non-null  float64\n",
      " 6   jp_sales         16569 non-null  float64\n",
      " 7   other_sales      16569 non-null  float64\n",
      " 8   critic_score     8075 non-null   float64\n",
      " 9   user_score       7540 non-null   float64\n",
      " 10  rating           9868 non-null   object \n",
      "dtypes: float64(6), int64(1), object(4)\n",
      "memory usage: 1.5+ MB\n"
     ]
    }
   ],
   "source": [
    "df.info()"
   ]
  },
  {
   "cell_type": "markdown",
   "metadata": {},
   "source": [
    "Todos os tipos de dados problemáticos foram convertidos para os tipos corretos e pouquíssimos dados foram excluídos da tabela. Agora, podemos avançar para a verificaçao do porque outros dados estão ausentes em um próximo passo."
   ]
  },
  {
   "cell_type": "markdown",
   "metadata": {},
   "source": [
    "### Verficiando valores ausentes"
   ]
  },
  {
   "cell_type": "code",
   "execution_count": 60,
   "metadata": {},
   "outputs": [
    {
     "data": {
      "text/plain": [
       "name               2\n",
       "genre              2\n",
       "critic_score    8494\n",
       "user_score      9029\n",
       "rating          6701\n",
       "dtype: int64"
      ]
     },
     "execution_count": 60,
     "metadata": {},
     "output_type": "execute_result"
    }
   ],
   "source": [
    "df_a = df.isna().sum()\n",
    "df_a[df_a>0]"
   ]
  },
  {
   "cell_type": "code",
   "execution_count": 61,
   "metadata": {},
   "outputs": [],
   "source": [
    "df = df.dropna(subset=['name', 'genre'])"
   ]
  },
  {
   "cell_type": "code",
   "execution_count": 62,
   "metadata": {},
   "outputs": [
    {
     "data": {
      "text/plain": [
       "critic_score    8492\n",
       "user_score      9027\n",
       "rating          6699\n",
       "dtype: int64"
      ]
     },
     "execution_count": 62,
     "metadata": {},
     "output_type": "execute_result"
    }
   ],
   "source": [
    "df_a = df.isna().sum()\n",
    "df_a[df_a>0]"
   ]
  },
  {
   "cell_type": "markdown",
   "metadata": {},
   "source": [
    "Aqui, começando passando um código para verificar quais colunas ainda tinham valores ausentes e a quantidade de dados faltantes em cada. Para as colunas 'name' e 'genre', tomei a decisão de remover os dados, porque ambas só tinham dois jogos com as informações faltantes. Poddemos seguir sem eles. \n",
    "\n",
    "para as colunas 'critic_score', 'user-score' e 'rating', não há como preencher os dados com qualquer valor sem impactar diretamente no resultado da análise. Fora isso, esses valores estão ausentes porque as notas de usuários e críticos, bem como a classificação da ESRB ainda não existem. Para completar, decidi que a falta desses dados não vai impactar na análise. Seguiremo sem preenchimento."
   ]
  },
  {
   "cell_type": "markdown",
   "metadata": {},
   "source": [
    "<div class=\"alert alert-success\">\n",
    "<strong>Comentário do revisor v1</strong>\n",
    "\n",
    "Luiz, temos alguns pontos aqui:\n",
    "    \n",
    "    \n",
    "- Estou de acordo com a decisão nas colunas de avaliação. O valor escolhido para preencher não impactará nas análises que faremos mais a frente.\n",
    "    \n",
    "- Os ausentes da coluna ano de lançamento foram tratados de uma forma elegante. Buscar informações nos lançamentos que o título teve em outras plataformas foi uma baita ideia.\n",
    "\n",
    "</div>\n"
   ]
  },
  {
   "cell_type": "markdown",
   "metadata": {},
   "source": [
    "### Calculando o total de vendas e criando novas colunas"
   ]
  },
  {
   "cell_type": "code",
   "execution_count": 63,
   "metadata": {},
   "outputs": [],
   "source": [
    "df['total_sales'] = df['na_sales'] + df['eu_sales'] + df['jp_sales'] + df['other_sales']"
   ]
  },
  {
   "cell_type": "code",
   "execution_count": 64,
   "metadata": {
    "scrolled": true
   },
   "outputs": [
    {
     "data": {
      "text/html": [
       "<div>\n",
       "<style scoped>\n",
       "    .dataframe tbody tr th:only-of-type {\n",
       "        vertical-align: middle;\n",
       "    }\n",
       "\n",
       "    .dataframe tbody tr th {\n",
       "        vertical-align: top;\n",
       "    }\n",
       "\n",
       "    .dataframe thead th {\n",
       "        text-align: right;\n",
       "    }\n",
       "</style>\n",
       "<table border=\"1\" class=\"dataframe\">\n",
       "  <thead>\n",
       "    <tr style=\"text-align: right;\">\n",
       "      <th></th>\n",
       "      <th>name</th>\n",
       "      <th>platform</th>\n",
       "      <th>year_of_release</th>\n",
       "      <th>genre</th>\n",
       "      <th>na_sales</th>\n",
       "      <th>eu_sales</th>\n",
       "      <th>jp_sales</th>\n",
       "      <th>other_sales</th>\n",
       "      <th>critic_score</th>\n",
       "      <th>user_score</th>\n",
       "      <th>rating</th>\n",
       "      <th>total_sales</th>\n",
       "    </tr>\n",
       "  </thead>\n",
       "  <tbody>\n",
       "    <tr>\n",
       "      <th>0</th>\n",
       "      <td>Wii Sports</td>\n",
       "      <td>Wii</td>\n",
       "      <td>2006</td>\n",
       "      <td>Sports</td>\n",
       "      <td>41.36</td>\n",
       "      <td>28.96</td>\n",
       "      <td>3.77</td>\n",
       "      <td>8.45</td>\n",
       "      <td>76.0</td>\n",
       "      <td>8.0</td>\n",
       "      <td>E</td>\n",
       "      <td>82.54</td>\n",
       "    </tr>\n",
       "    <tr>\n",
       "      <th>1</th>\n",
       "      <td>Super Mario Bros.</td>\n",
       "      <td>NES</td>\n",
       "      <td>1985</td>\n",
       "      <td>Platform</td>\n",
       "      <td>29.08</td>\n",
       "      <td>3.58</td>\n",
       "      <td>6.81</td>\n",
       "      <td>0.77</td>\n",
       "      <td>NaN</td>\n",
       "      <td>NaN</td>\n",
       "      <td>NaN</td>\n",
       "      <td>40.24</td>\n",
       "    </tr>\n",
       "    <tr>\n",
       "      <th>2</th>\n",
       "      <td>Mario Kart Wii</td>\n",
       "      <td>Wii</td>\n",
       "      <td>2008</td>\n",
       "      <td>Racing</td>\n",
       "      <td>15.68</td>\n",
       "      <td>12.76</td>\n",
       "      <td>3.79</td>\n",
       "      <td>3.29</td>\n",
       "      <td>82.0</td>\n",
       "      <td>8.3</td>\n",
       "      <td>E</td>\n",
       "      <td>35.52</td>\n",
       "    </tr>\n",
       "    <tr>\n",
       "      <th>3</th>\n",
       "      <td>Wii Sports Resort</td>\n",
       "      <td>Wii</td>\n",
       "      <td>2009</td>\n",
       "      <td>Sports</td>\n",
       "      <td>15.61</td>\n",
       "      <td>10.93</td>\n",
       "      <td>3.28</td>\n",
       "      <td>2.95</td>\n",
       "      <td>80.0</td>\n",
       "      <td>8.0</td>\n",
       "      <td>E</td>\n",
       "      <td>32.77</td>\n",
       "    </tr>\n",
       "    <tr>\n",
       "      <th>4</th>\n",
       "      <td>Pokemon Red/Pokemon Blue</td>\n",
       "      <td>GB</td>\n",
       "      <td>1996</td>\n",
       "      <td>Role-Playing</td>\n",
       "      <td>11.27</td>\n",
       "      <td>8.89</td>\n",
       "      <td>10.22</td>\n",
       "      <td>1.00</td>\n",
       "      <td>NaN</td>\n",
       "      <td>NaN</td>\n",
       "      <td>NaN</td>\n",
       "      <td>31.38</td>\n",
       "    </tr>\n",
       "  </tbody>\n",
       "</table>\n",
       "</div>"
      ],
      "text/plain": [
       "                       name platform  year_of_release         genre  na_sales  \\\n",
       "0                Wii Sports      Wii             2006        Sports     41.36   \n",
       "1         Super Mario Bros.      NES             1985      Platform     29.08   \n",
       "2            Mario Kart Wii      Wii             2008        Racing     15.68   \n",
       "3         Wii Sports Resort      Wii             2009        Sports     15.61   \n",
       "4  Pokemon Red/Pokemon Blue       GB             1996  Role-Playing     11.27   \n",
       "\n",
       "   eu_sales  jp_sales  other_sales  critic_score  user_score rating  \\\n",
       "0     28.96      3.77         8.45          76.0         8.0      E   \n",
       "1      3.58      6.81         0.77           NaN         NaN    NaN   \n",
       "2     12.76      3.79         3.29          82.0         8.3      E   \n",
       "3     10.93      3.28         2.95          80.0         8.0      E   \n",
       "4      8.89     10.22         1.00           NaN         NaN    NaN   \n",
       "\n",
       "   total_sales  \n",
       "0        82.54  \n",
       "1        40.24  \n",
       "2        35.52  \n",
       "3        32.77  \n",
       "4        31.38  "
      ]
     },
     "execution_count": 64,
     "metadata": {},
     "output_type": "execute_result"
    }
   ],
   "source": [
    "df.head()"
   ]
  },
  {
   "cell_type": "markdown",
   "metadata": {},
   "source": [
    "Como pedido no projeto, criamos uma nova coluna com os valores totais de venda de cada jogo"
   ]
  },
  {
   "cell_type": "markdown",
   "metadata": {},
   "source": [
    "<div class=\"alert alert-success\">\n",
    "<strong>Comentário do revisor v1</strong>\n",
    "\n",
    "Vendas totais foram calculadas!\n",
    "\n",
    "</div>\n"
   ]
  },
  {
   "cell_type": "markdown",
   "metadata": {},
   "source": [
    "## (Etapa 3) Análise de Dados"
   ]
  },
  {
   "cell_type": "markdown",
   "metadata": {},
   "source": [
    "### Lançamentos por ano"
   ]
  },
  {
   "cell_type": "markdown",
   "metadata": {},
   "source": [
    "Seguimos para a etapa de análise de dados e vamos responder as perguntas e atender a todos os requisitos do projeto. O primeiro é: Veja quantos jogos foram lançados em anos diferentes Os dados de cada período são significativos?"
   ]
  },
  {
   "cell_type": "code",
   "execution_count": 65,
   "metadata": {},
   "outputs": [],
   "source": [
    "year_count = df['year_of_release'].value_counts().sort_index()"
   ]
  },
  {
   "cell_type": "code",
   "execution_count": 66,
   "metadata": {},
   "outputs": [
    {
     "data": {
      "text/plain": [
       "1980     9\n",
       "1981    46\n",
       "1982    36\n",
       "1983    17\n",
       "1984    14\n",
       "Name: year_of_release, dtype: int64"
      ]
     },
     "execution_count": 66,
     "metadata": {},
     "output_type": "execute_result"
    }
   ],
   "source": [
    "year_count.head()"
   ]
  },
  {
   "cell_type": "code",
   "execution_count": 67,
   "metadata": {
    "scrolled": true
   },
   "outputs": [
    {
     "data": {
      "image/png": "[encoded data removed]",
      "text/plain": [
       "<Figure size 1000x600 with 1 Axes>"
      ]
     },
     "metadata": {},
     "output_type": "display_data"
    }
   ],
   "source": [
    "plt.figure(figsize=(10, 6))\n",
    "year_count.plot(kind='bar')\n",
    "plt.xlabel('Year of Release')\n",
    "plt.ylabel('Number of games Released')\n",
    "plt.title('Number of games Released by Year')\n",
    "plt.show()"
   ]
  },
  {
   "cell_type": "markdown",
   "metadata": {},
   "source": [
    "Aqui, separamos os jogos por ano de lançamento e, em seguida criamos um gráfico para facilitar a visualização das informações. Percebemos que até 1995, os lançamentos eram mínimos, o que faz sentido, levando em consideração a época, as limitações tecnológicas, a popularização dos videogames e a quantidade de consoles no mundo. É a partir de 2001, porém, que os lançamentos realmente se tornam mais expressivos.\n",
    "\n",
    "Percebemos duas explosões nos valores, em 2002 e 2006, com o gráfico atingindo o pico em 08 e 09, época que coincide com o auge da terceira geração de consoles (PS3, X360 e a popularização de outros consoles como Wii e os PCs). De qualquer forma, esse momento de super alta já passou e os valores, a partir de 2012, estão estabilizados na faixa dos 600 lançamentos. Analisando só esse gráfico, entendo que vale manter a analise a partir desse período. Essa deve ser a tendência para 2017."
   ]
  },
  {
   "cell_type": "markdown",
   "metadata": {},
   "source": [
    "<div class=\"alert alert-success\">\n",
    "<strong>Comentário do revisor v1</strong>\n",
    "\n",
    "Bom trabalho, os lançamentos por ano foram investigados!\n",
    "</div>\n"
   ]
  },
  {
   "cell_type": "markdown",
   "metadata": {},
   "source": [
    "### Vendas totais por plataforma"
   ]
  },
  {
   "cell_type": "markdown",
   "metadata": {},
   "source": [
    "A segunda pergunta a responder é: Veja como as vendas variaram de plataforma para plataforma. Escolha as plataformas com as maiores vendas totais e construa uma distribuição com base em dados para cada ano. Encontre as plataformas que costumavam ser populares, mas agora não têm vendas. Quanto tempo leva para as novas plataformas aparecerem e as antigas desaparecerem?"
   ]
  },
  {
   "cell_type": "code",
   "execution_count": 68,
   "metadata": {},
   "outputs": [],
   "source": [
    "platform_sales = df.groupby('platform')['total_sales'].sum().sort_values(ascending=False)"
   ]
  },
  {
   "cell_type": "code",
   "execution_count": 69,
   "metadata": {},
   "outputs": [],
   "source": [
    "top_platforms = platform_sales.head(6).index"
   ]
  },
  {
   "cell_type": "code",
   "execution_count": 70,
   "metadata": {},
   "outputs": [
    {
     "data": {
      "text/plain": [
       "Index(['PS2', 'X360', 'PS3', 'Wii', 'DS', 'PS'], dtype='object', name='platform')"
      ]
     },
     "execution_count": 70,
     "metadata": {},
     "output_type": "execute_result"
    }
   ],
   "source": [
    "top_platforms"
   ]
  },
  {
   "cell_type": "markdown",
   "metadata": {},
   "source": [
    "Até aqui, criamos uma tabela para classificar as melhores plataformas de acordo com o número de vendas de jogos. Selecionamos as 6 primeiras, porque elas têm uma quantidade de vendas muito superior se comparadas com a sétima plataforma em diante. Usar menos plataformas aqui também facilita a visualização do gráfico para entendermos a \"vida útil\" de cada console."
   ]
  },
  {
   "cell_type": "code",
   "execution_count": 71,
   "metadata": {},
   "outputs": [],
   "source": [
    "sales_by_year = df[df['platform'].isin(top_platforms)].groupby(['platform', 'year_of_release'])['total_sales'].sum().unstack()"
   ]
  },
  {
   "cell_type": "code",
   "execution_count": 72,
   "metadata": {},
   "outputs": [
    {
     "data": {
      "text/html": [
       "<div>\n",
       "<style scoped>\n",
       "    .dataframe tbody tr th:only-of-type {\n",
       "        vertical-align: middle;\n",
       "    }\n",
       "\n",
       "    .dataframe tbody tr th {\n",
       "        vertical-align: top;\n",
       "    }\n",
       "\n",
       "    .dataframe thead th {\n",
       "        text-align: right;\n",
       "    }\n",
       "</style>\n",
       "<table border=\"1\" class=\"dataframe\">\n",
       "  <thead>\n",
       "    <tr style=\"text-align: right;\">\n",
       "      <th>year_of_release</th>\n",
       "      <th>1985</th>\n",
       "      <th>1994</th>\n",
       "      <th>1995</th>\n",
       "      <th>1996</th>\n",
       "      <th>1997</th>\n",
       "      <th>1998</th>\n",
       "      <th>1999</th>\n",
       "      <th>2000</th>\n",
       "      <th>2001</th>\n",
       "      <th>2002</th>\n",
       "      <th>...</th>\n",
       "      <th>2007</th>\n",
       "      <th>2008</th>\n",
       "      <th>2009</th>\n",
       "      <th>2010</th>\n",
       "      <th>2011</th>\n",
       "      <th>2012</th>\n",
       "      <th>2013</th>\n",
       "      <th>2014</th>\n",
       "      <th>2015</th>\n",
       "      <th>2016</th>\n",
       "    </tr>\n",
       "    <tr>\n",
       "      <th>platform</th>\n",
       "      <th></th>\n",
       "      <th></th>\n",
       "      <th></th>\n",
       "      <th></th>\n",
       "      <th></th>\n",
       "      <th></th>\n",
       "      <th></th>\n",
       "      <th></th>\n",
       "      <th></th>\n",
       "      <th></th>\n",
       "      <th></th>\n",
       "      <th></th>\n",
       "      <th></th>\n",
       "      <th></th>\n",
       "      <th></th>\n",
       "      <th></th>\n",
       "      <th></th>\n",
       "      <th></th>\n",
       "      <th></th>\n",
       "      <th></th>\n",
       "      <th></th>\n",
       "    </tr>\n",
       "  </thead>\n",
       "  <tbody>\n",
       "    <tr>\n",
       "      <th>DS</th>\n",
       "      <td>0.02</td>\n",
       "      <td>NaN</td>\n",
       "      <td>NaN</td>\n",
       "      <td>NaN</td>\n",
       "      <td>NaN</td>\n",
       "      <td>NaN</td>\n",
       "      <td>NaN</td>\n",
       "      <td>NaN</td>\n",
       "      <td>NaN</td>\n",
       "      <td>NaN</td>\n",
       "      <td>...</td>\n",
       "      <td>147.23</td>\n",
       "      <td>145.36</td>\n",
       "      <td>119.56</td>\n",
       "      <td>85.35</td>\n",
       "      <td>26.33</td>\n",
       "      <td>11.67</td>\n",
       "      <td>1.54</td>\n",
       "      <td>NaN</td>\n",
       "      <td>NaN</td>\n",
       "      <td>NaN</td>\n",
       "    </tr>\n",
       "    <tr>\n",
       "      <th>PS</th>\n",
       "      <td>NaN</td>\n",
       "      <td>6.03</td>\n",
       "      <td>35.96</td>\n",
       "      <td>94.7</td>\n",
       "      <td>136.17</td>\n",
       "      <td>169.49</td>\n",
       "      <td>144.53</td>\n",
       "      <td>96.37</td>\n",
       "      <td>35.59</td>\n",
       "      <td>6.67</td>\n",
       "      <td>...</td>\n",
       "      <td>NaN</td>\n",
       "      <td>NaN</td>\n",
       "      <td>NaN</td>\n",
       "      <td>NaN</td>\n",
       "      <td>NaN</td>\n",
       "      <td>NaN</td>\n",
       "      <td>NaN</td>\n",
       "      <td>NaN</td>\n",
       "      <td>NaN</td>\n",
       "      <td>NaN</td>\n",
       "    </tr>\n",
       "    <tr>\n",
       "      <th>PS2</th>\n",
       "      <td>NaN</td>\n",
       "      <td>NaN</td>\n",
       "      <td>NaN</td>\n",
       "      <td>NaN</td>\n",
       "      <td>NaN</td>\n",
       "      <td>NaN</td>\n",
       "      <td>NaN</td>\n",
       "      <td>39.17</td>\n",
       "      <td>166.43</td>\n",
       "      <td>208.36</td>\n",
       "      <td>...</td>\n",
       "      <td>76.10</td>\n",
       "      <td>53.90</td>\n",
       "      <td>26.40</td>\n",
       "      <td>5.64</td>\n",
       "      <td>0.45</td>\n",
       "      <td>NaN</td>\n",
       "      <td>NaN</td>\n",
       "      <td>NaN</td>\n",
       "      <td>NaN</td>\n",
       "      <td>NaN</td>\n",
       "    </tr>\n",
       "    <tr>\n",
       "      <th>PS3</th>\n",
       "      <td>NaN</td>\n",
       "      <td>NaN</td>\n",
       "      <td>NaN</td>\n",
       "      <td>NaN</td>\n",
       "      <td>NaN</td>\n",
       "      <td>NaN</td>\n",
       "      <td>NaN</td>\n",
       "      <td>NaN</td>\n",
       "      <td>NaN</td>\n",
       "      <td>NaN</td>\n",
       "      <td>...</td>\n",
       "      <td>73.19</td>\n",
       "      <td>118.79</td>\n",
       "      <td>130.93</td>\n",
       "      <td>142.96</td>\n",
       "      <td>157.98</td>\n",
       "      <td>108.28</td>\n",
       "      <td>113.25</td>\n",
       "      <td>47.76</td>\n",
       "      <td>16.82</td>\n",
       "      <td>3.60</td>\n",
       "    </tr>\n",
       "    <tr>\n",
       "      <th>Wii</th>\n",
       "      <td>NaN</td>\n",
       "      <td>NaN</td>\n",
       "      <td>NaN</td>\n",
       "      <td>NaN</td>\n",
       "      <td>NaN</td>\n",
       "      <td>NaN</td>\n",
       "      <td>NaN</td>\n",
       "      <td>NaN</td>\n",
       "      <td>NaN</td>\n",
       "      <td>NaN</td>\n",
       "      <td>...</td>\n",
       "      <td>153.41</td>\n",
       "      <td>177.68</td>\n",
       "      <td>206.97</td>\n",
       "      <td>128.67</td>\n",
       "      <td>59.79</td>\n",
       "      <td>22.94</td>\n",
       "      <td>8.59</td>\n",
       "      <td>3.75</td>\n",
       "      <td>1.14</td>\n",
       "      <td>0.18</td>\n",
       "    </tr>\n",
       "    <tr>\n",
       "      <th>X360</th>\n",
       "      <td>NaN</td>\n",
       "      <td>NaN</td>\n",
       "      <td>NaN</td>\n",
       "      <td>NaN</td>\n",
       "      <td>NaN</td>\n",
       "      <td>NaN</td>\n",
       "      <td>NaN</td>\n",
       "      <td>NaN</td>\n",
       "      <td>NaN</td>\n",
       "      <td>NaN</td>\n",
       "      <td>...</td>\n",
       "      <td>95.41</td>\n",
       "      <td>136.07</td>\n",
       "      <td>120.82</td>\n",
       "      <td>170.55</td>\n",
       "      <td>145.23</td>\n",
       "      <td>100.72</td>\n",
       "      <td>88.58</td>\n",
       "      <td>34.74</td>\n",
       "      <td>11.96</td>\n",
       "      <td>1.52</td>\n",
       "    </tr>\n",
       "  </tbody>\n",
       "</table>\n",
       "<p>6 rows × 24 columns</p>\n",
       "</div>"
      ],
      "text/plain": [
       "year_of_release  1985  1994   1995  1996    1997    1998    1999   2000  \\\n",
       "platform                                                                  \n",
       "DS               0.02   NaN    NaN   NaN     NaN     NaN     NaN    NaN   \n",
       "PS                NaN  6.03  35.96  94.7  136.17  169.49  144.53  96.37   \n",
       "PS2               NaN   NaN    NaN   NaN     NaN     NaN     NaN  39.17   \n",
       "PS3               NaN   NaN    NaN   NaN     NaN     NaN     NaN    NaN   \n",
       "Wii               NaN   NaN    NaN   NaN     NaN     NaN     NaN    NaN   \n",
       "X360              NaN   NaN    NaN   NaN     NaN     NaN     NaN    NaN   \n",
       "\n",
       "year_of_release    2001    2002  ...    2007    2008    2009    2010    2011  \\\n",
       "platform                         ...                                           \n",
       "DS                  NaN     NaN  ...  147.23  145.36  119.56   85.35   26.33   \n",
       "PS                35.59    6.67  ...     NaN     NaN     NaN     NaN     NaN   \n",
       "PS2              166.43  208.36  ...   76.10   53.90   26.40    5.64    0.45   \n",
       "PS3                 NaN     NaN  ...   73.19  118.79  130.93  142.96  157.98   \n",
       "Wii                 NaN     NaN  ...  153.41  177.68  206.97  128.67   59.79   \n",
       "X360                NaN     NaN  ...   95.41  136.07  120.82  170.55  145.23   \n",
       "\n",
       "year_of_release    2012    2013   2014   2015  2016  \n",
       "platform                                             \n",
       "DS                11.67    1.54    NaN    NaN   NaN  \n",
       "PS                  NaN     NaN    NaN    NaN   NaN  \n",
       "PS2                 NaN     NaN    NaN    NaN   NaN  \n",
       "PS3              108.28  113.25  47.76  16.82  3.60  \n",
       "Wii               22.94    8.59   3.75   1.14  0.18  \n",
       "X360             100.72   88.58  34.74  11.96  1.52  \n",
       "\n",
       "[6 rows x 24 columns]"
      ]
     },
     "execution_count": 72,
     "metadata": {},
     "output_type": "execute_result"
    }
   ],
   "source": [
    "sales_by_year"
   ]
  },
  {
   "cell_type": "code",
   "execution_count": 73,
   "metadata": {},
   "outputs": [
    {
     "data": {
      "text/html": [
       "<div>\n",
       "<style scoped>\n",
       "    .dataframe tbody tr th:only-of-type {\n",
       "        vertical-align: middle;\n",
       "    }\n",
       "\n",
       "    .dataframe tbody tr th {\n",
       "        vertical-align: top;\n",
       "    }\n",
       "\n",
       "    .dataframe thead th {\n",
       "        text-align: right;\n",
       "    }\n",
       "</style>\n",
       "<table border=\"1\" class=\"dataframe\">\n",
       "  <thead>\n",
       "    <tr style=\"text-align: right;\">\n",
       "      <th>year_of_release</th>\n",
       "      <th>1985</th>\n",
       "      <th>1994</th>\n",
       "      <th>1995</th>\n",
       "      <th>1996</th>\n",
       "      <th>1997</th>\n",
       "      <th>1998</th>\n",
       "      <th>1999</th>\n",
       "      <th>2000</th>\n",
       "      <th>2001</th>\n",
       "      <th>2002</th>\n",
       "      <th>...</th>\n",
       "      <th>2007</th>\n",
       "      <th>2008</th>\n",
       "      <th>2009</th>\n",
       "      <th>2010</th>\n",
       "      <th>2011</th>\n",
       "      <th>2012</th>\n",
       "      <th>2013</th>\n",
       "      <th>2014</th>\n",
       "      <th>2015</th>\n",
       "      <th>2016</th>\n",
       "    </tr>\n",
       "    <tr>\n",
       "      <th>platform</th>\n",
       "      <th></th>\n",
       "      <th></th>\n",
       "      <th></th>\n",
       "      <th></th>\n",
       "      <th></th>\n",
       "      <th></th>\n",
       "      <th></th>\n",
       "      <th></th>\n",
       "      <th></th>\n",
       "      <th></th>\n",
       "      <th></th>\n",
       "      <th></th>\n",
       "      <th></th>\n",
       "      <th></th>\n",
       "      <th></th>\n",
       "      <th></th>\n",
       "      <th></th>\n",
       "      <th></th>\n",
       "      <th></th>\n",
       "      <th></th>\n",
       "      <th></th>\n",
       "    </tr>\n",
       "  </thead>\n",
       "  <tbody>\n",
       "    <tr>\n",
       "      <th>DS</th>\n",
       "      <td>0.02</td>\n",
       "      <td>0.00</td>\n",
       "      <td>0.00</td>\n",
       "      <td>0.0</td>\n",
       "      <td>0.00</td>\n",
       "      <td>0.00</td>\n",
       "      <td>0.00</td>\n",
       "      <td>0.00</td>\n",
       "      <td>0.00</td>\n",
       "      <td>0.00</td>\n",
       "      <td>...</td>\n",
       "      <td>147.23</td>\n",
       "      <td>145.36</td>\n",
       "      <td>119.56</td>\n",
       "      <td>85.35</td>\n",
       "      <td>26.33</td>\n",
       "      <td>11.67</td>\n",
       "      <td>1.54</td>\n",
       "      <td>0.00</td>\n",
       "      <td>0.00</td>\n",
       "      <td>0.00</td>\n",
       "    </tr>\n",
       "    <tr>\n",
       "      <th>PS</th>\n",
       "      <td>0.00</td>\n",
       "      <td>6.03</td>\n",
       "      <td>35.96</td>\n",
       "      <td>94.7</td>\n",
       "      <td>136.17</td>\n",
       "      <td>169.49</td>\n",
       "      <td>144.53</td>\n",
       "      <td>96.37</td>\n",
       "      <td>35.59</td>\n",
       "      <td>6.67</td>\n",
       "      <td>...</td>\n",
       "      <td>0.00</td>\n",
       "      <td>0.00</td>\n",
       "      <td>0.00</td>\n",
       "      <td>0.00</td>\n",
       "      <td>0.00</td>\n",
       "      <td>0.00</td>\n",
       "      <td>0.00</td>\n",
       "      <td>0.00</td>\n",
       "      <td>0.00</td>\n",
       "      <td>0.00</td>\n",
       "    </tr>\n",
       "    <tr>\n",
       "      <th>PS2</th>\n",
       "      <td>0.00</td>\n",
       "      <td>0.00</td>\n",
       "      <td>0.00</td>\n",
       "      <td>0.0</td>\n",
       "      <td>0.00</td>\n",
       "      <td>0.00</td>\n",
       "      <td>0.00</td>\n",
       "      <td>39.17</td>\n",
       "      <td>166.43</td>\n",
       "      <td>208.36</td>\n",
       "      <td>...</td>\n",
       "      <td>76.10</td>\n",
       "      <td>53.90</td>\n",
       "      <td>26.40</td>\n",
       "      <td>5.64</td>\n",
       "      <td>0.45</td>\n",
       "      <td>0.00</td>\n",
       "      <td>0.00</td>\n",
       "      <td>0.00</td>\n",
       "      <td>0.00</td>\n",
       "      <td>0.00</td>\n",
       "    </tr>\n",
       "    <tr>\n",
       "      <th>PS3</th>\n",
       "      <td>0.00</td>\n",
       "      <td>0.00</td>\n",
       "      <td>0.00</td>\n",
       "      <td>0.0</td>\n",
       "      <td>0.00</td>\n",
       "      <td>0.00</td>\n",
       "      <td>0.00</td>\n",
       "      <td>0.00</td>\n",
       "      <td>0.00</td>\n",
       "      <td>0.00</td>\n",
       "      <td>...</td>\n",
       "      <td>73.19</td>\n",
       "      <td>118.79</td>\n",
       "      <td>130.93</td>\n",
       "      <td>142.96</td>\n",
       "      <td>157.98</td>\n",
       "      <td>108.28</td>\n",
       "      <td>113.25</td>\n",
       "      <td>47.76</td>\n",
       "      <td>16.82</td>\n",
       "      <td>3.60</td>\n",
       "    </tr>\n",
       "    <tr>\n",
       "      <th>Wii</th>\n",
       "      <td>0.00</td>\n",
       "      <td>0.00</td>\n",
       "      <td>0.00</td>\n",
       "      <td>0.0</td>\n",
       "      <td>0.00</td>\n",
       "      <td>0.00</td>\n",
       "      <td>0.00</td>\n",
       "      <td>0.00</td>\n",
       "      <td>0.00</td>\n",
       "      <td>0.00</td>\n",
       "      <td>...</td>\n",
       "      <td>153.41</td>\n",
       "      <td>177.68</td>\n",
       "      <td>206.97</td>\n",
       "      <td>128.67</td>\n",
       "      <td>59.79</td>\n",
       "      <td>22.94</td>\n",
       "      <td>8.59</td>\n",
       "      <td>3.75</td>\n",
       "      <td>1.14</td>\n",
       "      <td>0.18</td>\n",
       "    </tr>\n",
       "    <tr>\n",
       "      <th>X360</th>\n",
       "      <td>0.00</td>\n",
       "      <td>0.00</td>\n",
       "      <td>0.00</td>\n",
       "      <td>0.0</td>\n",
       "      <td>0.00</td>\n",
       "      <td>0.00</td>\n",
       "      <td>0.00</td>\n",
       "      <td>0.00</td>\n",
       "      <td>0.00</td>\n",
       "      <td>0.00</td>\n",
       "      <td>...</td>\n",
       "      <td>95.41</td>\n",
       "      <td>136.07</td>\n",
       "      <td>120.82</td>\n",
       "      <td>170.55</td>\n",
       "      <td>145.23</td>\n",
       "      <td>100.72</td>\n",
       "      <td>88.58</td>\n",
       "      <td>34.74</td>\n",
       "      <td>11.96</td>\n",
       "      <td>1.52</td>\n",
       "    </tr>\n",
       "  </tbody>\n",
       "</table>\n",
       "<p>6 rows × 24 columns</p>\n",
       "</div>"
      ],
      "text/plain": [
       "year_of_release  1985  1994   1995  1996    1997    1998    1999   2000  \\\n",
       "platform                                                                  \n",
       "DS               0.02  0.00   0.00   0.0    0.00    0.00    0.00   0.00   \n",
       "PS               0.00  6.03  35.96  94.7  136.17  169.49  144.53  96.37   \n",
       "PS2              0.00  0.00   0.00   0.0    0.00    0.00    0.00  39.17   \n",
       "PS3              0.00  0.00   0.00   0.0    0.00    0.00    0.00   0.00   \n",
       "Wii              0.00  0.00   0.00   0.0    0.00    0.00    0.00   0.00   \n",
       "X360             0.00  0.00   0.00   0.0    0.00    0.00    0.00   0.00   \n",
       "\n",
       "year_of_release    2001    2002  ...    2007    2008    2009    2010    2011  \\\n",
       "platform                         ...                                           \n",
       "DS                 0.00    0.00  ...  147.23  145.36  119.56   85.35   26.33   \n",
       "PS                35.59    6.67  ...    0.00    0.00    0.00    0.00    0.00   \n",
       "PS2              166.43  208.36  ...   76.10   53.90   26.40    5.64    0.45   \n",
       "PS3                0.00    0.00  ...   73.19  118.79  130.93  142.96  157.98   \n",
       "Wii                0.00    0.00  ...  153.41  177.68  206.97  128.67   59.79   \n",
       "X360               0.00    0.00  ...   95.41  136.07  120.82  170.55  145.23   \n",
       "\n",
       "year_of_release    2012    2013   2014   2015  2016  \n",
       "platform                                             \n",
       "DS                11.67    1.54   0.00   0.00  0.00  \n",
       "PS                 0.00    0.00   0.00   0.00  0.00  \n",
       "PS2                0.00    0.00   0.00   0.00  0.00  \n",
       "PS3              108.28  113.25  47.76  16.82  3.60  \n",
       "Wii               22.94    8.59   3.75   1.14  0.18  \n",
       "X360             100.72   88.58  34.74  11.96  1.52  \n",
       "\n",
       "[6 rows x 24 columns]"
      ]
     },
     "execution_count": 73,
     "metadata": {},
     "output_type": "execute_result"
    }
   ],
   "source": [
    "sales_by_year = sales_by_year.fillna(0)\n",
    "sales_by_year"
   ]
  },
  {
   "cell_type": "markdown",
   "metadata": {},
   "source": [
    "Nesse trecho, tudo o que fizemos foi criar a tabela sales_by_year, que indica, para as seis plataformas mais populares, o número de vendas por ano"
   ]
  },
  {
   "cell_type": "code",
   "execution_count": 74,
   "metadata": {},
   "outputs": [
    {
     "data": {
      "image/png": "[encoded data removed]",
      "text/plain": [
       "<Figure size 1200x800 with 1 Axes>"
      ]
     },
     "metadata": {},
     "output_type": "display_data"
    }
   ],
   "source": [
    "sales_by_year.T.plot(figsize=(12, 8))\n",
    "plt.xlabel('year of Release')\n",
    "plt.ylabel('Total Sales (in Millions)')\n",
    "plt.title('Yearly Sales Variation for Top Platforms')\n",
    "plt.legend(title='Platform')\n",
    "\n",
    "plt.xlim(1995, sales_by_year.columns.max())\n",
    "plt.xticks(range(1995, sales_by_year.columns.max() + 1, 2))\n",
    "\n",
    "plt.show()"
   ]
  },
  {
   "cell_type": "markdown",
   "metadata": {},
   "source": [
    "Ao analisar os dados produzidos nessa etapa percebemos que nenhuma das seis plataformas de mais sucesso têm vendas significativas hoje. É destaque também o fato de que a mudança de geração de consoles já impactou nas vendas de PS3, Xbox 360 e Wii. Podemos assumir que estamos entrando na geração PS4, Xone. Mas nenhum desses consoles teve tempo de mercado, até aqui, para entrar nos tops de venda de jogos, mas já estão ai há tempo suficiente para derrubar, nos dias de hoje, 2017, as vendas dos consoles anteriores (PS3, X360 e Wii). Essa hipótese pode servir de embasamento para campanhas publicitárias focadas nesses novos consoles, mesmo que eles não apareçam entre as top plataformas atualmente. Vamos testar."
   ]
  },
  {
   "cell_type": "markdown",
   "metadata": {},
   "source": [
    "<div class=\"alert alert-success\">\n",
    "<strong>Comentário do revisor v1</strong>\n",
    "\n",
    "As vendas nas top plataformas foram olhadas de perto como solicitado! Bom trabalho!\n",
    "\n",
    "</div>\n"
   ]
  },
  {
   "cell_type": "markdown",
   "metadata": {},
   "source": [
    "<div class=\"alert alert-info\">\n",
    "<strong>Comentário do estudante</strong>\n",
    "\n",
    "Fala, professor! Esse comentário está em vermelho, mas me parece que você só errou a cor? Ou tem algo que valhe a pena mudar?\n",
    "</div>"
   ]
  },
  {
   "cell_type": "markdown",
   "metadata": {},
   "source": [
    "<div class=\"alert alert-success\">\n",
    "<strong>Comentário do revisor v2</strong>\n",
    "\n",
    "Eu que me enganei com a cor, Luiz!\n",
    "\n",
    "</div>\n"
   ]
  },
  {
   "cell_type": "code",
   "execution_count": 75,
   "metadata": {},
   "outputs": [],
   "source": [
    "df_recent = df[df['year_of_release'] >= 2015]\n",
    "platform_sales_recent = df_recent.groupby('platform')['total_sales'].sum().sort_values(ascending=False)"
   ]
  },
  {
   "cell_type": "code",
   "execution_count": 76,
   "metadata": {},
   "outputs": [
    {
     "data": {
      "text/plain": [
       "platform\n",
       "PS4     188.15\n",
       "XOne     86.29\n",
       "3DS      42.92\n",
       "WiiU     20.95\n",
       "PS3      20.42\n",
       "PC       13.77\n",
       "X360     13.48\n",
       "PSV      10.50\n",
       "Wii       1.32\n",
       "PSP       0.12\n",
       "Name: total_sales, dtype: float64"
      ]
     },
     "execution_count": 76,
     "metadata": {},
     "output_type": "execute_result"
    }
   ],
   "source": [
    "platform_sales_recent"
   ]
  },
  {
   "cell_type": "markdown",
   "metadata": {},
   "source": [
    "Nesses códigos, criamos um dataframe que organiza, por quantidade de vendas a partir de 2015, as plataformas. Ele comprova nossa hipótese de que a mudança de geração está impactando diretamente nas vendas, e os consoles mais recentes, lançados a partir de 2011 pelo menos, lideram as vendas. Logo, ao passo que consoles como PS3, PC e Xbox 360 não podem ser completamente ignorados, o foco deve ser em PS4, Xone, 3DS e WiiU."
   ]
  },
  {
   "cell_type": "markdown",
   "metadata": {},
   "source": [
    "A pergunta que nos prpusemos a responder nesse trecho da análise é: Veja como as vendas variaram de plataforma para plataforma. Escolha as plataformas com as maiores vendas totais e construa uma distribuição com base em dados para cada ano. Encontre as plataformas que costumavam ser populares, mas agora não têm vendas. Quanto tempo leva para as novas plataformas aparecerem e as antigas desaparecerem?\n",
    "\n",
    "Então vamos por partes:\n",
    "\n",
    "\n",
    "As vendas de plataforma para plataforma variam de acordo com a chegada de novos consoles, mais modernos e mais potentes. Usando o Playstation, da Sony, como exemplo, vemos um pico de vendas no PS1 entre 1995 e o início dos anos 2000. A queda coincide com a explosão do PS2, que atingiu o pico entre 2001 e 2004, começando a despencar em 2006, ano que o PS3 chegou ao mercado. Este, então, superou o PS2 em 2007 e começou a despencar em 2012. O PS4 chegou ao mercado no ano seguinte.\n",
    "\n",
    "Os gráficos também indicam que as melhotres plataformas tiveram ciclos de vida útil, entre crescimento, pico e queda, de cerca de 10 anos cada, com os picos atingidos no meio dessa vida útil. Essa análise, embasada pelo último gráfico, indica que o ano de 2017 tem a tendência de ser um dos mais altos em termos de vendas de jogos para a nova geração, considerando que PS4 e Xone, líderes de venda de 2015 para cá, foram lançados em 2013 e estão chegando na metade de suas \"vidas úteis\"."
   ]
  },
  {
   "cell_type": "markdown",
   "metadata": {},
   "source": [
    "Determine para qual período você deve pegar dados. Para fazê-lo, olhe para suas respostas para as perguntas anteriores. Os dados te deveriam permitir construir um modelo para 2017.\n",
    "\n",
    "Considerando os ciclos de vida útil dos consoles, apresentados no último gráfico, bem como os dados de vendas de todas as plataformas apresentados no primeiro gráfico de barras, o mais correto é reduzir o escopo e trabalhar com dados recolhidos de 2015 em diante.Eles refletem com mais exatidão as tendências do mercado de jogos e facilitam as previsões para o ano de 2017. "
   ]
  },
  {
   "cell_type": "markdown",
   "metadata": {},
   "source": [
    "Quais plataformas estão liderando em vendas? Quais estão crescendo ou diminuindo? Selecione várias plataformas potencialmente lucrativas.\n",
    "\n",
    "As plataformas lançadas a partir de 2011 são as que mais geram lucros. Aqui, listamos PS4, Xone, 3DS, WiiU. Além delas, algum foco em PS3 e X360 pode trazer algum retorno. Porém, há mais uma hipótese a se testar. Diferentemente do que acontece com os Consoles tradiconais, os PCs não atingem picos de vendas, mas tem saída constante. De 2015 para cá, os PCs já superar os Xbox360 e é possível que, considerando a tendência de queda dos outros consoles mais antigos, o desempenho de vendas em 2017 seja superior nos computadores. Vamos analisar o ano de 2016 e ver como os valores de venda estão se comparados com 2015."
   ]
  },
  {
   "cell_type": "code",
   "execution_count": 77,
   "metadata": {},
   "outputs": [],
   "source": [
    "df_recent_2016 = df[df['year_of_release'] >= 2016]\n",
    "platform_sales_2016 = df_recent_2016.groupby('platform')['total_sales'].sum().sort_values(ascending=False)"
   ]
  },
  {
   "cell_type": "code",
   "execution_count": 78,
   "metadata": {
    "scrolled": true
   },
   "outputs": [
    {
     "data": {
      "text/plain": [
       "platform\n",
       "PS4     69.25\n",
       "XOne    26.15\n",
       "3DS     15.14\n",
       "PC       5.25\n",
       "WiiU     4.60\n",
       "PSV      4.25\n",
       "PS3      3.60\n",
       "X360     1.52\n",
       "Wii      0.18\n",
       "Name: total_sales, dtype: float64"
      ]
     },
     "execution_count": 78,
     "metadata": {},
     "output_type": "execute_result"
    }
   ],
   "source": [
    "platform_sales_2016"
   ]
  },
  {
   "cell_type": "markdown",
   "metadata": {},
   "source": [
    "Repetimos o código que recorta as vendas a partir de 2015 e replicamos para 2016. Ela restringe ainda mais a lista de consoles realmente lucrativos, mas também, na minha análise, confirma que os PCS tem um potencial até superior aos da antiga geração. Assim sendo, para aproveitar o momento de pico, os investimentos t~em de ser feitos em PS4, Xone e 3Ds. Para aproveitar o fluxo constante de vendas, também vale a pena dar certa atenção para as vendas no PC."
   ]
  },
  {
   "cell_type": "markdown",
   "metadata": {},
   "source": [
    "<div class=\"alert alert-danger\">\n",
    "<strong>Comentário do revisor v1</strong>\n",
    "\n",
    "Luiz, batemos na trave aqui! \n",
    "    \n",
    "O raciocínio está na direção correta, para prever 2017 realmente queremos dados recentes, mas apenas 2016 pode ser um pouco duro demais e fazer com que tenhamos um volume de informações insulficiente. O que acha de flexibilizar um pouco mais de acordo com o ciclo de vida que é esperado de uma plataforma.\n",
    "\n",
    "</div>\n"
   ]
  },
  {
   "cell_type": "markdown",
   "metadata": {},
   "source": [
    "<div class=\"alert alert-info\">\n",
    "<strong>Comentário do estudante</strong>\n",
    "\n",
    "Professor, aqui eu ainda não fiz nenhuma alteração, porque acho que você se confundiu. Eu decidi filtrar os dados e trabalhar com o conteúdo de 2015 para frente e não de 2016. Você vai reparar pelos códigos mais para cima que eu criei um dataframe chamado df_recent que filtra os dados a partir de 2015. É esse dataframe que eu uso para construir todos os gráficos e montar as análises que vêm mais a frente. \n",
    "    \n",
    "É verdade que eu criei o dataframe df_recent_2016, mas ele só serviu para eu testar a minha hipótese sobre as vendas no PC! Enquanto trabalhava com os dados nessa etapa e decidia qual a melhor forma de agir, eu percebi que o PC crescia em vendas se comparado com o PS3 e o Xbox360, mas os dados escondiam essa informação, principalmente se verificássemos um período mais abrangente. O corte em 2016 veio para confirmar a queda de importâcia do PS3 e do X360 em relação ao próprio PC, mas só foi usado aqui. Esse insight não é tão significativo, porque o PC não é campeão de vendas, mas eu achei que foi uma das ideias mais legais que tive no projeto todo. Por isso todo esse cuidado! \n",
    "    \n",
    "No mais, o projeto segue com o filtro em 2015. Para mim, tornar mais amplo é ruim, porque vai dar muita força para consoles como PS3, X360 e Wii, que, para 2017, tem tendência de não vender nada. Ainda assim, se você achar válido, podemos ampliar! EM qual ano você passaria o filtro, 2013 ou 2014?\n",
    "</div>"
   ]
  },
  {
   "cell_type": "markdown",
   "metadata": {},
   "source": [
    "<div class=\"alert alert-success\">\n",
    "<strong>Comentário do revisor v2</strong>\n",
    "\n",
    "Perfei\n",
    "</div>\n",
    "\n"
   ]
  },
  {
   "cell_type": "markdown",
   "metadata": {},
   "source": [
    "### Vendas Totais por Plataforma (Diagrama de Caixa)\n",
    "\n",
    "Construa um diagrama de caixa para as vendas globais de todos os jogos, divididos por plataforma. As diferenças nas vendas são significativas? E quanto às vendas médias em várias plataformas? Descreva suas descobertas."
   ]
  },
  {
   "cell_type": "code",
   "execution_count": 79,
   "metadata": {},
   "outputs": [
    {
     "data": {
      "image/png": "[encoded data removed]",
      "text/plain": [
       "<Figure size 1200x800 with 1 Axes>"
      ]
     },
     "metadata": {},
     "output_type": "display_data"
    }
   ],
   "source": [
    "plt.figure(figsize=(12, 8))\n",
    "sns.boxplot(data=df_recent, x='platform', y='total_sales')\n",
    "plt.xlabel('Platform')\n",
    "plt.ylabel('Global_Sales (in Millions)')\n",
    "plt.title('Bloxpot of Global Sales by Platform (2015 and later)')\n",
    "plt.xticks(rotation=45)\n",
    "plt.show()"
   ]
  },
  {
   "cell_type": "markdown",
   "metadata": {},
   "source": [
    "Esse grafico de boxplots tem a visualização um pouco mais difícil, mas entrega alguns bons dados sobre o desempenho de vendas de plataforma para plataforma. Ele mantém a hipótese de que os consoles lançados a partir de 2011 têm o maior potencial de vendas. Dentro desse espectro, ele também indica que a maioria dos jogos não tem números tão exorbitantes em milhões de vendas. A maioria dos jogos, para todos os consoles, mal chega a 1 milhão de vendas. \n",
    "\n",
    "Por esse gráfico, percebemos que o PS4, o XOne e o WiiU tem caixas maiores, o que indica que seus jogos estão mais bem distribuídos dentro dos valores que alcançam. Isso significa que, para esses consoles, mais jogos conseguem chegar às casas de meio milhão, ou quase 1 milhão de unidades vendidas.\n",
    "\n",
    "O gráfico também indica como PS4, XOne e 3DS, mas sobretudo o novo console da Sony, tem um grande potencial para grande sucessos. Para esses consoles, certos jogos furam a bolha e podem alcançar várias milhões de unidades. Existem outliers no Playstation 4 que superam os 14 milhões de cópias. Esse console também é o único a superar a marca de 8 milhões de vendas para jogos únicos.\n",
    "\n",
    "Proporcionalmente falando, consoles como o 3DS, o Xbox 360, o PS3 e o PC também tem um bom potencial para grandes sucessos. De 2015 para cá, suas vendas são menores se comparadas com os top consoles do momento, mas eles também tem um bom número de outliers quando comparados à distribuição geral de suas vendas na tabela."
   ]
  },
  {
   "cell_type": "markdown",
   "metadata": {},
   "source": [
    "<div class=\"alert alert-success\">\n",
    "<strong>Comentário do revisor v1</strong>\n",
    "\n",
    "Noxplot fornecido conforme solicitado no enunciado.\n",
    "</div>\n"
   ]
  },
  {
   "cell_type": "markdown",
   "metadata": {},
   "source": [
    "### O Impacto das Avaliações nas Vendas"
   ]
  },
  {
   "cell_type": "markdown",
   "metadata": {},
   "source": [
    "Nesse passo, vamos verificar a seguinte questão: Veja como as avaliações de usuários e profissionais afetam as vendas de uma plataforma popular (você escolhe). Construa um gráfico de dispersão e calcule a correlação entre revisões e vendas. Tire conclusões."
   ]
  },
  {
   "cell_type": "markdown",
   "metadata": {},
   "source": [
    "Para trabalhar com essa correlação, escolhi testar o PS4, que, nos anos de 2015 e 2016 foi o mais lucrativo. Para essa análise, vale lembrar que os boa parte dos dados não está disponível. Ao contrário do que fizemos na hora de corrigir a coluna de ano de lançamento, fazer qualquer preenchimento pode distorcer os resultados e não há uma lógica muito segura que nos permita fazer esse preenchimento. Fora isso, não podemos substituir os valores Nan por 0, porque um valor 0 pode ser mal interpretado como uma nota ruim ao invésde ausência de qualquer nota. Por isso, é importante entender que essa é uma análise parcial"
   ]
  },
  {
   "cell_type": "code",
   "execution_count": 80,
   "metadata": {},
   "outputs": [],
   "source": [
    "df_ps4 = df_recent[df_recent['platform'] == 'PS4']"
   ]
  },
  {
   "cell_type": "code",
   "execution_count": 81,
   "metadata": {},
   "outputs": [
    {
     "data": {
      "image/png": "[encoded data removed]",
      "text/plain": [
       "<Figure size 1200x500 with 2 Axes>"
      ]
     },
     "metadata": {},
     "output_type": "display_data"
    }
   ],
   "source": [
    "plt.figure(figsize=(12, 5))\n",
    "\n",
    "plt.subplot(1, 2, 1)\n",
    "plt.scatter(df_ps4['critic_score'], df_ps4['total_sales'], alpha=0.5)\n",
    "plt.xlabel('Critic Score')\n",
    "plt.ylabel('Total Sales (in millions)')\n",
    "plt.title('Critic Score vs Total Sales (PS4)')\n",
    "\n",
    "\n",
    "plt.subplot(1, 2, 2)\n",
    "plt.scatter(df_ps4['user_score'], df_ps4['total_sales'], alpha=0.5, color='orange')\n",
    "plt.xlabel('User Score')\n",
    "plt.ylabel('Total Sales (in millions)')\n",
    "plt.title('User Score vs Total Sales (PS4)')\n",
    "\n",
    "# Ajustar o limite e intervalo do eixo x para o gráfico de User Score\n",
    "plt.xlim(0, 10)\n",
    "plt.xticks(range(0, 11, 2))\n",
    "\n",
    "plt.tight_layout()\n",
    "plt.show()"
   ]
  },
  {
   "cell_type": "markdown",
   "metadata": {},
   "source": [
    "Aqui, criamos um dataframe que traz apenas os dados da Plataforma PS4 a partir do ano de 2015, como tinhamos estabelecido. Logo depois, criamos 2 gráficos de dispersão. O primeiro levando em consideração o número de vendas e os valores de avaliações dos críticos. O segundo Levando em consideração as vendas e a avaliação dos jogadores. Antes de qualquer teste de correlação, já vemos que há sim um certo padrão, principalmente na nota dos críticos, que indica que os jogos que vendem mais tem, no geral, notas mais altas. A avaliação dos usuários é um pouco mais bem distribuída nesse sentido e jogos mal avaliados também podem vender muito bem. De qualquuer forma, vamos testar a correlação para os dois gráficos."
   ]
  },
  {
   "cell_type": "markdown",
   "metadata": {},
   "source": [
    "#### Testando a Correlação entre notas e vendas"
   ]
  },
  {
   "cell_type": "markdown",
   "metadata": {},
   "source": [
    "Aqui, vamos usar o metodo corr() para testar a correlação das notas dos críticos x as vendas e a correlação da nota dos jogadores x as vendas."
   ]
  },
  {
   "cell_type": "code",
   "execution_count": 82,
   "metadata": {},
   "outputs": [
    {
     "name": "stdout",
     "output_type": "stream",
     "text": [
      "Correlação entre Critic Score e Total Sales: 0.3928485555130601\n",
      "Correlação entre User Score e Total Sales: -0.05973845712638215\n"
     ]
    }
   ],
   "source": [
    "correlation_critic = df_ps4['critic_score'].corr(df_ps4['total_sales'])\n",
    "\n",
    "correlation_user = df_ps4['user_score'].corr(df_ps4['total_sales'])\n",
    "\n",
    "print(\"Correlação entre Critic Score e Total Sales:\", correlation_critic)\n",
    "print(\"Correlação entre User Score e Total Sales:\", correlation_user)"
   ]
  },
  {
   "cell_type": "markdown",
   "metadata": {},
   "source": [
    "Os resultados diferem um pouco da primeira avaliação. Por esses números, percebemos que, de fato, existe uma certa correlação entre as notas dos críticos e as vendas. Isso significa que a tendnência é de que quanto maiores as notas, mais o jogo venderá. Porém diferentemente do que eu imaginava, essa correlação positiva é de fraca a moderada, ficando mais próxima de moderada. Ao passo que eu esperava que fosse mais forte.\n",
    "\n",
    "Para os resultados de user_score, eu esperava uma correlação positiva, mesmo que menor do que o rsultado apresentado pelo gráfico das notas dos críticos. Ao invés disso, tivems uma correlação fraquíssima, porém negativa. Isso indica que as notas dos jogadores não interferem nas vendas dos jogos. Podemos considerar que um marketing bem feito compensa uma nota ruim dos jogadores, por exemplo. E que, para nossas eventuais campanhas de marketing, jogos com boas notas dos críticos, mesmo que com notas ruins dos jogadores são uma boa opção de investimento. mas isso apenas para o PS4. "
   ]
  },
  {
   "cell_type": "markdown",
   "metadata": {},
   "source": [
    "#### A importância das Notas nas vendas de outras plataformas (Xbox One)"
   ]
  },
  {
   "cell_type": "markdown",
   "metadata": {},
   "source": [
    "Para fazer os teste para outras plataformas, escolhi o XBox One e o Nintendo 3DS, porque essas plataformas são as segunda e terceira que mais venderam no período analisado nesse estudo."
   ]
  },
  {
   "cell_type": "code",
   "execution_count": 83,
   "metadata": {},
   "outputs": [],
   "source": [
    "df_xone = df_recent[df_recent['platform'] == 'XOne']"
   ]
  },
  {
   "cell_type": "code",
   "execution_count": 84,
   "metadata": {},
   "outputs": [
    {
     "data": {
      "image/png": "[encoded data removed]",
      "text/plain": [
       "<Figure size 1200x500 with 2 Axes>"
      ]
     },
     "metadata": {},
     "output_type": "display_data"
    }
   ],
   "source": [
    "plt.figure(figsize=(12, 5))\n",
    "\n",
    "plt.subplot(1, 2, 1)\n",
    "plt.scatter(df_xone['critic_score'], df_xone['total_sales'], alpha=0.5)\n",
    "plt.xlabel('Critic Score')\n",
    "plt.ylabel('Total Sales (in millions)')\n",
    "plt.title('Critic Score vs Total Sales (Xbox One)')\n",
    "\n",
    "plt.subplot(1, 2, 2)\n",
    "plt.scatter(df_xone['user_score'], df_xone['total_sales'], alpha=0.5, color='orange')\n",
    "plt.xlabel('User Score')\n",
    "plt.ylabel('Total Sales (in millions)')\n",
    "plt.title('User Score vs Total Sales (Xbox One)')\n",
    "\n",
    "plt.xlim(0, 10)\n",
    "plt.xticks(range(0, 11, 2))\n",
    "\n",
    "plt.tight_layout()\n",
    "plt.show()"
   ]
  },
  {
   "cell_type": "code",
   "execution_count": 85,
   "metadata": {},
   "outputs": [
    {
     "name": "stdout",
     "output_type": "stream",
     "text": [
      "Correlação entre Critic Score e Total Sales: 0.43088874582136805\n",
      "Correlação entre User Score e Total Sales: -0.04146733387366271\n"
     ]
    }
   ],
   "source": [
    "correlation_critic_xone = df_xone['critic_score'].corr(df_xone['total_sales'])\n",
    "\n",
    "correlation_user_xone = df_xone['user_score'].corr(df_xone['total_sales'])\n",
    "\n",
    "print(\"Correlação entre Critic Score e Total Sales:\", correlation_critic_xone)\n",
    "print(\"Correlação entre User Score e Total Sales:\", correlation_user_xone)"
   ]
  },
  {
   "cell_type": "markdown",
   "metadata": {},
   "source": [
    "O resultado dos gráficos e o valor de correlação deles indica que a hipótese montada para o PS4 também se encaixa aqui. As notas dos críticos interefere de forma moderada no desempenho em vendas de cada jogo. Por iss, focar em jogos com boas notas de críticos é uma boa ideia. Por outro lado, a correlação entre notas de usuários e desempenho em vendas é fraca e negativa, indicando que, como no PS4, as notas dos usuários não interferem no desempenho de vendas. Isso nos permite criar campanhas que abranjam jogos com notas altas para críticos e mais baixas para usuários sem problemas."
   ]
  },
  {
   "cell_type": "markdown",
   "metadata": {},
   "source": [
    "#### A importância das Notas nas vendas de outras plataformas (Nintendo 3DS)"
   ]
  },
  {
   "cell_type": "code",
   "execution_count": 86,
   "metadata": {},
   "outputs": [
    {
     "data": {
      "image/png": "[encoded data removed]",
      "text/plain": [
       "<Figure size 1200x500 with 2 Axes>"
      ]
     },
     "metadata": {},
     "output_type": "display_data"
    }
   ],
   "source": [
    "df_3ds = df_recent[df_recent['platform'] == '3DS']\n",
    "\n",
    "plt.figure(figsize=(12, 5))\n",
    "\n",
    "# Gráfico de dispersão para Critic Score vs Total Sales\n",
    "plt.subplot(1, 2, 1)\n",
    "plt.scatter(df_3ds['critic_score'], df_3ds['total_sales'], alpha=0.5)\n",
    "plt.xlabel('Critic Score')\n",
    "plt.ylabel('Total Sales (in millions)')\n",
    "plt.title('Critic Score vs Total Sales (3DS)')\n",
    "\n",
    "# Gráfico de dispersão para User Score vs Total Sales\n",
    "plt.subplot(1, 2, 2)\n",
    "plt.scatter(df_3ds['user_score'], df_3ds['total_sales'], alpha=0.5, color='orange')\n",
    "plt.xlabel('User Score')\n",
    "plt.ylabel('Total Sales (in millions)')\n",
    "plt.title('User Score vs Total Sales (3DS)')\n",
    "plt.xlim(0, 10)\n",
    "plt.xticks(range(0, 11, 2))\n",
    "\n",
    "plt.tight_layout()\n",
    "plt.show()"
   ]
  },
  {
   "cell_type": "markdown",
   "metadata": {},
   "source": [
    "Nessas linhas de código, apenas construímos novos gráficos de dispersão. Dessa vez, para o Nintendo 3DS. Em seguida, faremos o cálculo da correlação"
   ]
  },
  {
   "cell_type": "code",
   "execution_count": 87,
   "metadata": {},
   "outputs": [
    {
     "name": "stdout",
     "output_type": "stream",
     "text": [
      "Correlação entre Critic Score e Total Sales: 0.17757455046092874\n",
      "Correlação entre User Score e Total Sales: 0.19879627008102982\n"
     ]
    }
   ],
   "source": [
    "correlation_critic_3ds = df_3ds['critic_score'].corr(df_3ds['total_sales'])\n",
    "\n",
    "correlation_user_3ds = df_3ds['user_score'].corr(df_3ds['total_sales'])\n",
    "\n",
    "print(\"Correlação entre Critic Score e Total Sales:\", correlation_critic_3ds)\n",
    "print(\"Correlação entre User Score e Total Sales:\", correlation_user_3ds)"
   ]
  },
  {
   "cell_type": "markdown",
   "metadata": {},
   "source": [
    "Quando o assunto é a avaliação da correlação das notas de críticos e usuários com as vendas do 3ds, fica claro que o cenário muda. Para ambos os casos há sim certa influência do nível das notas no desempenho do jogo, mas, em ambos os casos, a correlação é fraca. isso permite campanhas mais abrangentes. Focar em jogos com notas altas sempre será algo positivo, mas não é necessário se restringir nisso. Jogos campeões de vendas podem ter notas mais baixos e ainda assim ser trabalhados em futuras campanhas."
   ]
  },
  {
   "cell_type": "markdown",
   "metadata": {},
   "source": [
    "<div class=\"alert alert-success\">\n",
    "<strong>Comentário do revisor v1</strong>\n",
    "\n",
    "Incrível o trabalho com a análise da correlação entre avaliações e vendas.\n",
    "    \n",
    "Os plots adequados foram fornecidos para várias plataformas e o cálculo da correlação foi fornecido!\n",
    "\n",
    "</div>\n"
   ]
  },
  {
   "cell_type": "markdown",
   "metadata": {},
   "source": [
    "### O Impacto dos gêneros nas vendas dos Jogos"
   ]
  },
  {
   "cell_type": "markdown",
   "metadata": {},
   "source": [
    "A última questão a se responder nessa etapa do projeto é: Dê uma olhada na distribuição geral de jogos por gênero. O que podemos dizer sobre os gêneros mais lucrativos? Você pode generalizar sobre gêneros com vendas altas e baixas? Por partes, vamos a ela!"
   ]
  },
  {
   "cell_type": "markdown",
   "metadata": {},
   "source": [
    "#### Vendas Totais por Gênero e Média"
   ]
  },
  {
   "cell_type": "code",
   "execution_count": 88,
   "metadata": {},
   "outputs": [],
   "source": [
    "genre_sales = df.groupby('genre')['total_sales'].sum().sort_values(ascending=False)"
   ]
  },
  {
   "cell_type": "code",
   "execution_count": 89,
   "metadata": {},
   "outputs": [
    {
     "data": {
      "text/plain": [
       "genre\n",
       "Action          1735.63\n",
       "Sports          1326.71\n",
       "Shooter         1050.02\n",
       "Role-Playing     931.77\n",
       "Platform         826.03\n",
       "Misc             794.41\n",
       "Racing           725.82\n",
       "Fighting         443.59\n",
       "Simulation       388.46\n",
       "Puzzle           240.54\n",
       "Adventure        233.35\n",
       "Strategy         173.25\n",
       "Name: total_sales, dtype: float64"
      ]
     },
     "execution_count": 89,
     "metadata": {},
     "output_type": "execute_result"
    }
   ],
   "source": [
    "genre_sales"
   ]
  },
  {
   "cell_type": "code",
   "execution_count": 90,
   "metadata": {},
   "outputs": [
    {
     "data": {
      "text/plain": [
       "Action          3342\n",
       "Sports          2333\n",
       "Misc            1735\n",
       "Role-Playing    1484\n",
       "Shooter         1311\n",
       "Adventure       1294\n",
       "Racing          1236\n",
       "Platform         879\n",
       "Simulation       860\n",
       "Fighting         842\n",
       "Strategy         678\n",
       "Puzzle           573\n",
       "Name: genre, dtype: int64"
      ]
     },
     "execution_count": 90,
     "metadata": {},
     "output_type": "execute_result"
    }
   ],
   "source": [
    "genre_counts = df['genre'].value_counts()\n",
    "\n",
    "genre_counts"
   ]
  },
  {
   "cell_type": "code",
   "execution_count": 91,
   "metadata": {},
   "outputs": [
    {
     "data": {
      "text/plain": [
       "Platform        0.939738\n",
       "Shooter         0.800931\n",
       "Role-Playing    0.627877\n",
       "Racing          0.587233\n",
       "Sports          0.568671\n",
       "Fighting        0.526829\n",
       "Action          0.519339\n",
       "Misc            0.457873\n",
       "Simulation      0.451698\n",
       "Puzzle          0.419791\n",
       "Strategy        0.255531\n",
       "Adventure       0.180332\n",
       "dtype: float64"
      ]
     },
     "execution_count": 91,
     "metadata": {},
     "output_type": "execute_result"
    }
   ],
   "source": [
    "avg_sales_per_game = (genre_sales / genre_counts).sort_values(ascending=False)\n",
    "\n",
    "avg_sales_per_game"
   ]
  },
  {
   "cell_type": "markdown",
   "metadata": {},
   "source": [
    "Esses resultados já nos fornecem insights valiosos. Em termos de números absolutos, vemos a dominância de jogos de ação, esportes, tiro e RPG. Só esses números já justificariam investimentos de marketing nesses gêneros. Porém, a média nos fornece outras  informações importantes. Ao calcularmos a média, percebemos que jogos de plataforma e de corrida também tem um volume de venda médio elevado, que justifica o investimento nesses gêneros. O número absoluto deles é mais baixo por causa da quantidade de títulos produzida, que certamente é menor.\n",
    "\n",
    "por outro lado, esses dados também destacam o péssimo desempenho de jogos de aventura e estratégia, que apresentaram números absolutos e médios muito baixos. Evitar trabalhar com esses g~eneros pode ser a melhor estratégia.\n",
    "\n",
    "Vamos colocar essas informações em graficos para facilitar a visualização."
   ]
  },
  {
   "cell_type": "code",
   "execution_count": 92,
   "metadata": {},
   "outputs": [
    {
     "data": {
      "image/png": "[encoded data removed]",
      "text/plain": [
       "<Figure size 1200x600 with 1 Axes>"
      ]
     },
     "metadata": {},
     "output_type": "display_data"
    }
   ],
   "source": [
    "plt.figure(figsize=(12, 6))\n",
    "genre_sales.plot(kind='bar')\n",
    "plt.xlabel('Genre')\n",
    "plt.ylabel('Total Sales (in millions)')\n",
    "plt.title('Total Sales by Genre')\n",
    "plt.xticks(rotation=45)\n",
    "plt.show()"
   ]
  },
  {
   "cell_type": "code",
   "execution_count": 93,
   "metadata": {},
   "outputs": [
    {
     "data": {
      "image/png": "[encoded data removed]",
      "text/plain": [
       "<Figure size 1200x600 with 1 Axes>"
      ]
     },
     "metadata": {},
     "output_type": "display_data"
    }
   ],
   "source": [
    "plt.figure(figsize=(12, 6))\n",
    "avg_sales_per_game.plot(kind='bar', color='orange')\n",
    "plt.xlabel('Genre')\n",
    "plt.ylabel('Average Sales per Game (in millions)')\n",
    "plt.title('Average Sales per Game by Genre')\n",
    "plt.xticks(rotation=45)\n",
    "plt.show()"
   ]
  },
  {
   "cell_type": "markdown",
   "metadata": {},
   "source": [
    "<div class=\"alert alert-success\">\n",
    "<strong>Comentário do revisor v1</strong>\n",
    "\n",
    "Olhamos o comportamento absoluto e médio por gênero. INsights foram fornecidos, muito bom!\n",
    "\n",
    "</div>\n"
   ]
  },
  {
   "cell_type": "markdown",
   "metadata": {},
   "source": [
    "## (Etapa 4) Crie um perfil de usuário para cada região"
   ]
  },
  {
   "cell_type": "markdown",
   "metadata": {},
   "source": [
    "Entramos na etapa de criação de perfil de usuário para cada região. As respostas que precisamos para completar essa etapa são: \n",
    "\n",
    "Para cada região (AN, UE, JP), determine:\n",
    "\n",
    "As cinco plataformas principais. Descreva as variações das suas quotas de mercado de região para região.\n",
    "\n",
    "Os cinco principais gêneros. Explique a diferença.\n",
    "\n",
    "As classificações do ESRB afetam as vendas em regiões individuais?\n"
   ]
  },
  {
   "cell_type": "markdown",
   "metadata": {},
   "source": [
    "### Calculando as vendas totais de cada plataforma e sua quota por região"
   ]
  },
  {
   "cell_type": "markdown",
   "metadata": {},
   "source": [
    "#### América do Norte"
   ]
  },
  {
   "cell_type": "code",
   "execution_count": 94,
   "metadata": {},
   "outputs": [
    {
     "data": {
      "text/plain": [
       "platform\n",
       "PS4     63.86\n",
       "XOne    50.30\n",
       "3DS     10.31\n",
       "WiiU     8.86\n",
       "X360     8.05\n",
       "PS3      5.66\n",
       "PC       3.72\n",
       "PSV      0.54\n",
       "Wii      0.49\n",
       "PSP      0.00\n",
       "Name: na_sales, dtype: float64"
      ]
     },
     "execution_count": 94,
     "metadata": {},
     "output_type": "execute_result"
    }
   ],
   "source": [
    "platform_sales_na = df_recent.groupby('platform')['na_sales'].sum().sort_values(ascending=False)\n",
    "platform_sales_na"
   ]
  },
  {
   "cell_type": "code",
   "execution_count": 95,
   "metadata": {},
   "outputs": [
    {
     "name": "stdout",
     "output_type": "stream",
     "text": [
      "Quotas de mercado na América do Norte (NA)\n"
     ]
    },
    {
     "data": {
      "text/plain": [
       "platform\n",
       "PS4     42.071283\n",
       "XOne    33.137888\n",
       "3DS      6.792279\n",
       "WiiU     5.837012\n",
       "X360     5.303380\n",
       "PS3      3.728836\n",
       "PC       2.450754\n",
       "PSV      0.355755\n",
       "Wii      0.322814\n",
       "PSP      0.000000\n",
       "Name: na_sales, dtype: float64"
      ]
     },
     "execution_count": 95,
     "metadata": {},
     "output_type": "execute_result"
    }
   ],
   "source": [
    "total_sales_na = df_recent['na_sales'].sum()\n",
    "\n",
    "platform_market_share_na = (platform_sales_na / total_sales_na) * 100\n",
    "\n",
    "print(\"Quotas de mercado na América do Norte (NA)\")\n",
    "platform_market_share_na"
   ]
  },
  {
   "cell_type": "markdown",
   "metadata": {},
   "source": [
    "#### Europa"
   ]
  },
  {
   "cell_type": "code",
   "execution_count": 96,
   "metadata": {},
   "outputs": [
    {
     "data": {
      "text/plain": [
       "platform\n",
       "PS4     83.54\n",
       "XOne    28.10\n",
       "PC       9.10\n",
       "3DS      7.39\n",
       "PS3      7.30\n",
       "WiiU     6.49\n",
       "X360     4.21\n",
       "PSV      1.08\n",
       "Wii      0.73\n",
       "PSP      0.00\n",
       "Name: eu_sales, dtype: float64"
      ]
     },
     "execution_count": 96,
     "metadata": {},
     "output_type": "execute_result"
    }
   ],
   "source": [
    "platform_sales_eu = df_recent.groupby('platform')['eu_sales'].sum().sort_values(ascending=False)\n",
    "platform_sales_eu"
   ]
  },
  {
   "cell_type": "code",
   "execution_count": 97,
   "metadata": {},
   "outputs": [
    {
     "name": "stdout",
     "output_type": "stream",
     "text": [
      "\n",
      "Quotas de mercado na Europa (EU)\n"
     ]
    },
    {
     "data": {
      "text/plain": [
       "platform\n",
       "PS4     56.468839\n",
       "XOne    18.994187\n",
       "PC       6.151142\n",
       "3DS      4.995268\n",
       "PS3      4.934433\n",
       "WiiU     4.386914\n",
       "X360     2.845748\n",
       "PSV      0.730026\n",
       "Wii      0.493443\n",
       "PSP      0.000000\n",
       "Name: eu_sales, dtype: float64"
      ]
     },
     "execution_count": 97,
     "metadata": {},
     "output_type": "execute_result"
    }
   ],
   "source": [
    "total_sales_eu = df_recent['eu_sales'].sum()\n",
    "\n",
    "platform_market_share_eu = (platform_sales_eu / total_sales_eu) * 100\n",
    "\n",
    "print(\"\\nQuotas de mercado na Europa (EU)\")\n",
    "(platform_market_share_eu)"
   ]
  },
  {
   "cell_type": "markdown",
   "metadata": {},
   "source": [
    "#### Japão"
   ]
  },
  {
   "cell_type": "code",
   "execution_count": 98,
   "metadata": {},
   "outputs": [
    {
     "data": {
      "text/plain": [
       "platform\n",
       "3DS     23.55\n",
       "PS4     12.05\n",
       "PSV      8.41\n",
       "PS3      4.97\n",
       "WiiU     4.12\n",
       "XOne     0.18\n",
       "PSP      0.12\n",
       "PC       0.00\n",
       "Wii      0.00\n",
       "X360     0.00\n",
       "Name: jp_sales, dtype: float64"
      ]
     },
     "execution_count": 98,
     "metadata": {},
     "output_type": "execute_result"
    }
   ],
   "source": [
    "platform_sales_jp = df_recent.groupby('platform')['jp_sales'].sum().sort_values(ascending=False)\n",
    "platform_sales_jp"
   ]
  },
  {
   "cell_type": "code",
   "execution_count": 99,
   "metadata": {},
   "outputs": [
    {
     "name": "stdout",
     "output_type": "stream",
     "text": [
      "\n",
      "Quotas de mercado no Japão (JP)\n"
     ]
    },
    {
     "data": {
      "text/plain": [
       "platform\n",
       "3DS     44.101124\n",
       "PS4     22.565543\n",
       "PSV     15.749064\n",
       "PS3      9.307116\n",
       "WiiU     7.715356\n",
       "XOne     0.337079\n",
       "PSP      0.224719\n",
       "PC       0.000000\n",
       "Wii      0.000000\n",
       "X360     0.000000\n",
       "Name: jp_sales, dtype: float64"
      ]
     },
     "execution_count": 99,
     "metadata": {},
     "output_type": "execute_result"
    }
   ],
   "source": [
    "total_sales_jp = df_recent['jp_sales'].sum()\n",
    "\n",
    "platform_market_share_jp = (platform_sales_jp / total_sales_jp) * 100\n",
    "\n",
    "print(\"\\nQuotas de mercado no Japão (JP)\")\n",
    "platform_market_share_jp"
   ]
  },
  {
   "cell_type": "markdown",
   "metadata": {},
   "source": [
    "Essas linhas de código criam dataframes que agrupam as plataformas e nos trazem as vendas de cada uma em cada uma das três regiões destacadas. Percebemos algumas diferenças interessantes entre as vendas de lugar para lugar. \n",
    "\n",
    "Primeiro, na América do Norte,temos a liderança do PS4, mas um certo equilíbrio com o XOne, que vem em segundo e tem uma boa fatia do mercado. Do Xbox One em diante, percebemos um abismo, com uma queda de vendas considerável para os outros consoles. Ainda percebemos que os consoles tradicionais levam a preferência em relação ao PC, que nunca deixa de receber novos lançamentos, mas ainda assim vende menos do que consoles mais antigos.\n",
    "\n",
    "Na Europa é diferente. O PS4 também é líder em vendas, mas domina o mercado praticamente sozinho. O Xone, em segundo, mal tem um terço das vendas do PS4. Também consideravelmente atrás em relação ao XOne, o PC vem em terceiro, o que denota a segunda mudança comportamental de uma região para outra. Aqui, o PC vende mais do que os consoles da antiga geração e os concorrentes da Nintendo. \n",
    "\n",
    "Já o Japão é a região que mais se difere entre as três. Aqui, a Nintendo lidera, com quase o dobro de vendas em relação ao PS4, que vem em segundo. No país do Sol Nascente, os números de vendas ainda são bem menores do que eram para os primeiros colocados de América do Norte e Europa. Além disso, a Nintendo e a Sony, produtoras japonesas, lideram, demonstrando uma preferência pelo mercado nacional de consoles. A Microsoft tem uma quantidade quase insignificante de vendas.\n",
    "\n",
    "Esses números mostram que estratégias de marketing mais eficazes serão as que focam no PS4, de forma geral. Mas fica claro que são necessárias estratégias diferentes, principalmente em relação ao Japão. PAra os japoneses, o interessante é aumentar a atenção para os consoles nacionais e ignorar completamente o Xbox. Na América do Norte, focar no PS4, mas também em consoles tradicionais de forma geral. Para a Europa, grande foco em PLaystation 4 e algumaatenção para Xone e PC são recomendadas.\n",
    "\n",
    "As quotas de mercado corroboram com a análise traçada. Na Europa e na América do Norte, A dupla PS4/Xone tem entre 65% e 70% das vendas totais. No Japão, os consoles da casa têm 99.7% de fatia de mercado, o que denota a fraqueza do consoles da Microsoft no páis."
   ]
  },
  {
   "cell_type": "markdown",
   "metadata": {},
   "source": [
    "### Os 5 Principais Gêneros por Região"
   ]
  },
  {
   "cell_type": "markdown",
   "metadata": {},
   "source": [
    "Nesse passo, vamos calcular as vendas dos cinco principais gêneros por região e fazer uma análise comparativa para termos uma ideia das diferenças de comportamento e quais jogos são os preferidos de país para país"
   ]
  },
  {
   "cell_type": "code",
   "execution_count": 100,
   "metadata": {},
   "outputs": [],
   "source": [
    "genre_sales_na = df_recent.groupby('genre')['na_sales'].sum().sort_values(ascending=False).head(5)\n",
    "genre_sales_eu = df_recent.groupby('genre')['eu_sales'].sum().sort_values(ascending=False).head(5)\n",
    "genre_sales_jp = df_recent.groupby('genre')['jp_sales'].sum().sort_values(ascending=False).head(5)"
   ]
  },
  {
   "cell_type": "markdown",
   "metadata": {},
   "source": [
    "#### América do Norte"
   ]
  },
  {
   "cell_type": "code",
   "execution_count": 101,
   "metadata": {},
   "outputs": [
    {
     "data": {
      "text/plain": [
       "genre\n",
       "Shooter         48.18\n",
       "Action          33.68\n",
       "Sports          26.31\n",
       "Role-Playing    19.82\n",
       "Misc             5.58\n",
       "Name: na_sales, dtype: float64"
      ]
     },
     "execution_count": 101,
     "metadata": {},
     "output_type": "execute_result"
    }
   ],
   "source": [
    "genre_sales_na"
   ]
  },
  {
   "cell_type": "markdown",
   "metadata": {},
   "source": [
    "#### Europa"
   ]
  },
  {
   "cell_type": "code",
   "execution_count": 102,
   "metadata": {},
   "outputs": [
    {
     "data": {
      "text/plain": [
       "genre\n",
       "Shooter         40.28\n",
       "Action          34.82\n",
       "Sports          27.82\n",
       "Role-Playing    17.21\n",
       "Racing           6.52\n",
       "Name: eu_sales, dtype: float64"
      ]
     },
     "execution_count": 102,
     "metadata": {},
     "output_type": "execute_result"
    }
   ],
   "source": [
    "genre_sales_eu"
   ]
  },
  {
   "cell_type": "markdown",
   "metadata": {},
   "source": [
    "#### Japão"
   ]
  },
  {
   "cell_type": "code",
   "execution_count": 103,
   "metadata": {},
   "outputs": [
    {
     "data": {
      "text/plain": [
       "genre\n",
       "Action          23.05\n",
       "Role-Playing    13.41\n",
       "Shooter          3.79\n",
       "Misc             3.19\n",
       "Adventure        2.22\n",
       "Name: jp_sales, dtype: float64"
      ]
     },
     "execution_count": 103,
     "metadata": {},
     "output_type": "execute_result"
    }
   ],
   "source": [
    "genre_sales_jp"
   ]
  },
  {
   "cell_type": "markdown",
   "metadata": {},
   "source": [
    "Por esses resultados, percebemos que existem bastante semelhanças nas preferências de gêneros de jogos nos mercados da América do Norte e Europa. Além disso, só o Japão apresenta grandes diferenças comportamentais nesse sentido. \n",
    "\n",
    "Primeiro os jogos preferidos na América do Norte e na Europa são Tiro, Ação, Esportes e RPG, respectivamente. São esses gêneros que dominam praticamente todo o mercado nas duas regiões são MISC para a AMérica do Norte e Corrida para a Europa, mas suas vendas são poucas se comparadas com o top 4. POdemos ver que os jogos de Tiro e de RPG, primeiro e quarto em ambas as tabelas, têm mais vendas na América do Norte do que têm na Europa, enquanto que os jogos de Ação e Esportes vendem um pouco mais em território Europeu do que em Americano. AInda assim, os números são bem próximos em todos os casos. São nesses jogos que as estratégias de marketing devem focar para esses páises. Se a estratégia for ainda mais restrita, jogos de Ação e Tiro têm de ser o foco.\n",
    "\n",
    "No Japão, a coisa, mais uma vez, muda de figura. Os jogos atingem números menores e é o Gênero de Ação o que mais vende, seguid de RPG, Tiro, MISC e Aventura, respectivamente. É interessante perceber a diferença gritante na procura de jogos de Tiro. Apesar do gênero aparecer em terceiro na lista de vendas do Japão, os números são muito baixos. A dificuldade de portar esses jogos para consoles da Nintendo de forma mais efetiva pode ser uma boa justificativa. De qualquer forma, as estratégias mais eficazes serão as que focarem jogos de Ação e RPG."
   ]
  },
  {
   "cell_type": "markdown",
   "metadata": {},
   "source": [
    "### O Impacto da ESRB nas Vendas por Região"
   ]
  },
  {
   "cell_type": "markdown",
   "metadata": {},
   "source": [
    "Nessa etapa, vamos trazer os dados de vendas por rating de cada região como dataframe e como gráficos para facilitar a visualização. Enquanto analisava os gráfics da mérica do Norte, percebi que quanto mais alta a faixa etária necessária para jogar um jogo, mais ele vendia, o que contraria a expectativa de que, por serem mais restritos, esses jogos não venderiam tanto. \n",
    "\n",
    "Mas esse resultado também pode ser explicado pela quantidade de títulos classificados nessa faixa, que pode ser maior do que o resto. por isso, antes de fazer a análise por região, vamos verificar a quantidade de títulos por classificação da ESRB. "
   ]
  },
  {
   "cell_type": "code",
   "execution_count": 104,
   "metadata": {},
   "outputs": [
    {
     "data": {
      "image/png": "[encoded data removed]",
      "text/plain": [
       "<Figure size 800x600 with 1 Axes>"
      ]
     },
     "metadata": {},
     "output_type": "display_data"
    }
   ],
   "source": [
    "rating_counts = df_recent['rating'].value_counts()\n",
    "\n",
    "plt.figure(figsize=(8, 6))\n",
    "rating_counts.plot(kind='bar', color='skyblue')\n",
    "plt.title('Número de Títulos Lançados por Classificação ESRB')\n",
    "plt.xlabel('Classificação ESRB')\n",
    "plt.ylabel('Número de Títulos')\n",
    "plt.xticks(rotation=0)\n",
    "plt.show()"
   ]
  },
  {
   "cell_type": "markdown",
   "metadata": {},
   "source": [
    "O gráfico mostra que os títulos com classificação Teen e Everyone são os mais lançados. Mature vem apenas em terceiro, apesar de ser a classificação mais procurada na América do Norte. Abordaremos mais sobre os resultados nas análises de cada região."
   ]
  },
  {
   "cell_type": "markdown",
   "metadata": {},
   "source": [
    "#### América do Norte"
   ]
  },
  {
   "cell_type": "code",
   "execution_count": 105,
   "metadata": {},
   "outputs": [
    {
     "data": {
      "text/plain": [
       "rating\n",
       "M       47.03\n",
       "E       26.59\n",
       "T       22.86\n",
       "E10+    17.87\n",
       "Name: na_sales, dtype: float64"
      ]
     },
     "execution_count": 105,
     "metadata": {},
     "output_type": "execute_result"
    }
   ],
   "source": [
    "rating_sales_na = df_recent.groupby('rating')['na_sales'].sum().sort_values(ascending=False)\n",
    "\n",
    "rating_sales_na"
   ]
  },
  {
   "cell_type": "code",
   "execution_count": 106,
   "metadata": {},
   "outputs": [
    {
     "data": {
      "image/png": "[encoded data removed]",
      "text/plain": [
       "<Figure size 800x600 with 1 Axes>"
      ]
     },
     "metadata": {},
     "output_type": "display_data"
    }
   ],
   "source": [
    "esrb_labels = {\n",
    "    'E': 'Everyone (Livre para todas as idades)',\n",
    "    'E10+': 'Everyone 10+ (Maiores de 10 anos)',\n",
    "    'T': 'Teen (Maiores de 13 anos)',\n",
    "    'M': 'Mature (Maiores de 17 anos)',\n",
    "    'AO': 'Adults Only (Maiores de 18 anos)'\n",
    "}\n",
    "\n",
    "plt.figure(figsize=(8, 6))\n",
    "rating_sales_na.plot(kind='bar', color='skyblue')\n",
    "plt.title('Vendas por Classificação ESRB (NA)')\n",
    "plt.xlabel('Classificação ESRB')\n",
    "plt.ylabel('Total de Vendas (em milhões)')\n",
    "\n",
    "plt.figtext(0.1, -0.1, \n",
    "            'E: Everyone, E10+: Everyone 10+, T: Teen, M: Mature, AO: Adults Only',\n",
    "            ha='left', fontsize=10)\n",
    "\n",
    "plt.tight_layout()\n",
    "plt.show()"
   ]
  },
  {
   "cell_type": "markdown",
   "metadata": {},
   "source": [
    "Seria de se esperar que os jogos feitos para faixas etárias mais abrangentes fossem os mais procurados, principalmente, porque na América do Norte, as classificações da ESRB são mais respeitadas do que no Brasil. Ainda assim, os jogos mais procurados são, com folga, os para maiores de idade. Quando levamos os dois gráficos em consideração vemos que, apesar de ser a categoria com mais lançamentos, os jogos Teen não t~em um desempenho de vendas tão bom.\n",
    "\n",
    "Os jogos E10+ são os menos prosduzidos e menos vendidos. Isso se explica porque essa é uma categoria que abrange um intervalo menor de faixas etárias, ficando entre o Teen e o Everyone. De qualquer forma, para a América do Norte, focar em jogos para maiores é a melhor forma de impulsionar as vendas. "
   ]
  },
  {
   "cell_type": "markdown",
   "metadata": {},
   "source": [
    "#### Europa"
   ]
  },
  {
   "cell_type": "code",
   "execution_count": 107,
   "metadata": {},
   "outputs": [
    {
     "data": {
      "text/plain": [
       "rating\n",
       "M       45.54\n",
       "E       34.83\n",
       "T       20.32\n",
       "E10+    11.54\n",
       "Name: eu_sales, dtype: float64"
      ]
     },
     "execution_count": 107,
     "metadata": {},
     "output_type": "execute_result"
    }
   ],
   "source": [
    "rating_sales_eu = df_recent.groupby('rating')['eu_sales'].sum().sort_values(ascending=False)\n",
    "\n",
    "rating_sales_eu"
   ]
  },
  {
   "cell_type": "code",
   "execution_count": 108,
   "metadata": {},
   "outputs": [
    {
     "data": {
      "image/png": "[encoded data removed]",
      "text/plain": [
       "<Figure size 800x600 with 1 Axes>"
      ]
     },
     "metadata": {},
     "output_type": "display_data"
    }
   ],
   "source": [
    "plt.figure(figsize=(8, 6))\n",
    "rating_sales_eu.plot(kind='bar', color='salmon')\n",
    "plt.title('Vendas por Classificação ESRB (EU)')\n",
    "plt.xlabel('Classificação ESRB')\n",
    "plt.ylabel('Total de Vendas (em milhões)')\n",
    "\n",
    "plt.figtext(0.1, -0.1, \n",
    "            'E: Everyone, E10+: Everyone 10+, T: Teen, M: Mature, AO: Adults Only',\n",
    "            ha='left', fontsize=10)\n",
    "\n",
    "plt.tight_layout()\n",
    "plt.show()"
   ]
  },
  {
   "cell_type": "markdown",
   "metadata": {},
   "source": [
    "Aqui, percebemos uma certa semelhança no comportamento do consumidor na América do Norte e na Europa, ainda que os perfis não sejam exatamente iguais. mais uma vez, os títulos \"Mature\" são os mais vendidos, apesar de serem apenas o terceiro mais produzido. Mas na Europa, os títulos \"Everyone\" tem bem mais vendas e se aproximam da categoria mature. Eles também criaram uma diferença maior para os títulos teen se compararados com o gráfico NA. Aqui, o desempenho dos jogos Teen é ainda pior. Qualquer estratégia de marketing bem sucedida dará atenção aos jgos Mature e em jogos Everyone."
   ]
  },
  {
   "cell_type": "markdown",
   "metadata": {},
   "source": [
    "#### Japão"
   ]
  },
  {
   "cell_type": "code",
   "execution_count": 109,
   "metadata": {},
   "outputs": [
    {
     "data": {
      "text/plain": [
       "rating\n",
       "T       7.70\n",
       "E       5.25\n",
       "M       4.29\n",
       "E10+    3.27\n",
       "Name: jp_sales, dtype: float64"
      ]
     },
     "execution_count": 109,
     "metadata": {},
     "output_type": "execute_result"
    }
   ],
   "source": [
    "rating_sales_jp = df_recent.groupby('rating')['jp_sales'].sum().sort_values(ascending=False)\n",
    "\n",
    "rating_sales_jp"
   ]
  },
  {
   "cell_type": "code",
   "execution_count": 110,
   "metadata": {},
   "outputs": [
    {
     "data": {
      "image/png": "[encoded data removed]",
      "text/plain": [
       "<Figure size 800x600 with 1 Axes>"
      ]
     },
     "metadata": {},
     "output_type": "display_data"
    }
   ],
   "source": [
    "plt.figure(figsize=(8, 6))\n",
    "rating_sales_jp.plot(kind='bar', color='lightgreen')\n",
    "plt.title('Vendas por Classificação ESRB (JP)')\n",
    "plt.xlabel('Classificação ESRB')\n",
    "plt.ylabel('Total de Vendas (em milhões)')\n",
    "\n",
    "plt.figtext(0.1, -0.1, \n",
    "            'E: Everyone, E10+: Everyone 10+, T: Teen, M: Mature, AO: Adults Only',\n",
    "            ha='left', fontsize=10)\n",
    "\n",
    "plt.tight_layout()\n",
    "plt.show()"
   ]
  },
  {
   "cell_type": "markdown",
   "metadata": {},
   "source": [
    "Aqui, percebemos uma grande diferença comportamental em relação às outras regiões. Aqui, os números de venda são bem menores, o que se justifica se compararmos o tamanho do Japão e de sua população com o tamanho das outras regiões. Fora isso, é no Jqapão que os jogos Teen se destacam e são os mais vendidos. Os jogos Everyone vem logo atrás. Os títulos Mature despencam para a terceira posição, vendendo cerca de um décimo do que vendem nas outras regiões. E10+ segue em último, mas a explicação da quantidade de títulos lançados e a faixa etária que a classificação abrange justificam isso.\n",
    "\n",
    "Essa diferença comportamental pode ser jusificada, em partes, pela preferência do público japonês pelos consoles da Nintendo, conyhecida pela produção de séries e jogos mais casuais como Mario e Zelda. De toda forma, focar campanhas de jogos teen e everyone é o caminho para o sucesso em território japonês."
   ]
  },
  {
   "cell_type": "markdown",
   "metadata": {},
   "source": [
    "<div class=\"alert alert-success\">\n",
    "<strong>Comentário do revisor v1</strong>\n",
    "\n",
    "Agrupamentos regionais realizados e comparados levando em conta plataformas, gênero e classificação. Muito bom!\n",
    "</div>\n",
    "\n"
   ]
  },
  {
   "cell_type": "markdown",
   "metadata": {},
   "source": [
    "## (Etapa 5) Teste de Hipóteses"
   ]
  },
  {
   "cell_type": "markdown",
   "metadata": {},
   "source": [
    "Finalmente chegamos na etapa do teste de hipótese. Aqui, as hipóteses apresentadas são:\n",
    "\n",
    "— As classificações médias dos usuários das plataformas Xbox One e PC são as mesmas.\n",
    "\n",
    "— As classificações médias de usuários para os gêneros Action (ação) e Sports (esportes) são diferentes.\n",
    "\n",
    "Então, formularemos uma hipótese nula e uma hipótese alternativa para cada uma dessas proposições e faremos os testes. Por padrão, a hipótese nula é aquela que nega a hipótese proposta. Por isso, a hipótese nula para a proposição número 1 é:\n",
    "\n",
    "As classificações médias dos usuários das plataformas Xbox One e PC NÃO são as mesmas.\n",
    "\n",
    "A Hipótese alternativa é aquela que confirma a hipótese proposta, logo, ela será a própria proposta. \n",
    "\n",
    "Para a segunda proposta, a hipótese nula será:\n",
    "\n",
    "As classificações médias de usuários para os gêneros Action (ação) e Sports (esportes) são IGUAIS.\n",
    "\n",
    "Já a hipótese alternativa, mais uma vez será a própria proposta.\n",
    "\n",
    "Manteremos o valor alfa em 5% para esses testes, isso porque essa é uma prática padrão do mercado e nenhum valor alfa específico foi pedido."
   ]
  },
  {
   "cell_type": "markdown",
   "metadata": {},
   "source": [
    "### Hipótese 1: As classificações médias dos usuários das plataformas Xbox One e PC são as mesmas."
   ]
  },
  {
   "cell_type": "code",
   "execution_count": 111,
   "metadata": {},
   "outputs": [
    {
     "name": "stdout",
     "output_type": "stream",
     "text": [
      "Estatística t: 1.088070274037042\n",
      "Valor-p: 0.2778542084733835\n",
      "Não rejeitamos a hipótese nula: há evidência suficiente para afirmar que as classificações médias dos usuários das plataformas Xbox One e PC são diferentes.\n"
     ]
    }
   ],
   "source": [
    "xbox_one_scores = df_recent[df_recent['platform'] == 'XOne']['user_score'].dropna()\n",
    "pc_scores = df_recent[df_recent['platform'] == 'PC']['user_score'].dropna()\n",
    "\n",
    "# Definir o nível de significância\n",
    "alpha = 0.05\n",
    "\n",
    "# Realizar o teste t de Student\n",
    "t_stat, p_value = ttest_ind(xbox_one_scores, pc_scores, equal_var=True)\n",
    "\n",
    "# Exibir os resultados\n",
    "print(f\"Estatística t: {t_stat}\")\n",
    "print(f\"Valor-p: {p_value}\")\n",
    "\n",
    "# Avaliar o resultado com a formulação atual\n",
    "if p_value < alpha:\n",
    "    print(\"Rejeitamos a hipótese nula: as classificações médias dos usuários das plataformas Xbox One e PC são iguais.\")\n",
    "else:\n",
    "    print(\"Não rejeitamos a hipótese nula: há evidência suficiente para afirmar que as classificações médias dos usuários das plataformas Xbox One e PC são diferentes.\")"
   ]
  },
  {
   "cell_type": "markdown",
   "metadata": {},
   "source": [
    "O teste não confirma hipótese nenhuma e deixa claro que não podemos descartar a hipótese de que as classificações médias de usuários de xbox e pc são diferentes. O resultado do valor p indica uma diferença perceptivel nas classificações dos usuários das duas plataformas, o que quer dizer que, mesmos jogos iguais, podem apresentar diferenças de performance, de qualidade ou de bugs de uma plataforma pra outra. Também pode significar gostos diferentes entre os públicos. Dessa forma, não pode mos criar apenas uma estratégia de marketing para as duas plataformas. Cada uma tem de ser trabalhada individualmente."
   ]
  },
  {
   "cell_type": "markdown",
   "metadata": {},
   "source": [
    "### Hipótese 2: As classificações médias de usuários para os gêneros Action (ação) e Sports (esportes) são diferentes."
   ]
  },
  {
   "cell_type": "code",
   "execution_count": 112,
   "metadata": {},
   "outputs": [
    {
     "name": "stdout",
     "output_type": "stream",
     "text": [
      "Estatística t: 7.842209482377116\n",
      "Valor-p: 1.0012846807938657e-13\n",
      "Rejeitamos a hipótese nula: as classificações médias dos usuários para os gêneros Action e Sports são diferentes.\n"
     ]
    }
   ],
   "source": [
    "action_scores = df_recent[df_recent['genre'] == 'Action']['user_score'].dropna()\n",
    "sports_scores = df_recent[df_recent['genre'] == 'Sports']['user_score'].dropna()\n",
    "\n",
    "# Definir o nível de significância\n",
    "alpha = 0.05\n",
    "\n",
    "# Realizar o teste t de Student\n",
    "t_stat, p_value = ttest_ind(action_scores, sports_scores, equal_var=True)\n",
    "\n",
    "# Exibir os resultados\n",
    "print(f\"Estatística t: {t_stat}\")\n",
    "print(f\"Valor-p: {p_value}\")\n",
    "\n",
    "# Avaliar o resultado com a nova formulação\n",
    "if p_value < alpha:\n",
    "    print(\"Rejeitamos a hipótese nula: as classificações médias dos usuários para os gêneros Action e Sports são diferentes.\")\n",
    "else:\n",
    "    print(\"Não rejeitamos a hipótese nula: não há evidência suficiente para afirmar que as classificações médias dos usuários para os gêneros Action e Sports são diferentes.\")"
   ]
  },
  {
   "cell_type": "markdown",
   "metadata": {},
   "source": [
    "Aqui, nós rejeitamos a hipóese nula. O valor do teste deixou claro que as classificações são diferentes. Dessa forma. Porém, qualquer estratétgia de Markedting precisa levar em consideração as vendas de cada u dos dois gêneros e ponderar sobre o fato de que análises feitas mais cedo no projeto mostram que a avaliação do público não impacta nas vendas dos jogos."
   ]
  },
  {
   "cell_type": "markdown",
   "metadata": {},
   "source": [
    "<div class=\"alert alert-success\">\n",
    "<strong>Comentário do revisor v1</strong>\n",
    "\n",
    "Os testes foram formulados, implementados e analisados corretamente. Muito bom!\n",
    "</div>\n"
   ]
  },
  {
   "cell_type": "markdown",
   "metadata": {},
   "source": [
    "## (Etapa 6) Conclusão do Projeto"
   ]
  },
  {
   "cell_type": "markdown",
   "metadata": {},
   "source": [
    "Finalmente terminamos o projeto! Agora, vamos repassar algumas das decisões tomadas e dos resultados apresentados pela análise. \n",
    "\n",
    "Primeir, é importante destacar a escolha por filtrar os dados a partir de 2015 em diante. isso acontece porque dados mais antigos não tem utilidade na previsão do futuro próximo e podem atrapalhar o trabalho, trazendo dados sobre consoles antigos e desviando a atenção dos consoles que mais vendem atualmente. Por exep=mplo, o PS2 foi rei de vendas, mas já está fora de circulação. Criar uma análise que leva em consid3eração os números desse console seria inútil, porque não podemos mais trabalhar com ele.\n",
    "\n",
    "Outra decisão importante foi a de não preencher notas faltantes para público, críticos e ratings da ESRB. Tomei essa deicsão porque entregar uma analise parcial, mas correta, dos dados é melhor do que entregar uma informação mascarada ou indevidamente manipulada em qualquer direção pelo uso de médias ou medianas quando não há nenhum caminho lógico para usá-las.\n",
    "\n",
    "\n",
    "Os Dados: Algumas observações sobre os resultados obtidos\n",
    "\n",
    "\n",
    "Vale relembrar que as plataformas que mais merecem atenção, de forma geral, são o Playstation 4 e o Xbox One. Esses são os campeões de venda por muito. O Pc tem entrada constante, por isso não pode ser ignorado. Os consoles da Nintendo t~em de ser trabalhados em campanhas específicas voltadas para o território japonês\n",
    "\n",
    "Já os gêneros que mais devem ser trabalhados são: Ação, Tiro, Esportes e RPG. São eles que apresentaram o melhor desempenho entre as regiões, com especial destaque para os jogos de tiro na América do Norte e na Europa. Além disso, com os g~eneros em mãos, vale lembrar que as notas dos críticos têm alguma influência no desempenho de vendas de cada título, mas que as notas dos usuários não significam praticamente nada.\n",
    "\n",
    "América do Norte e Europa mostraram tendências parecidas em suas preferências por jogos \"Mature\" e \"Everyone\", apesar de variações menores na proporção de vendas para as classificações \"Teen\". Jogos para adultos (Mature) foram muito bem na América do Norte, enquanto na Europa, os títulos \"Everyone\" ficaram bem próximos do tipo \"Mature\".\n",
    "\n",
    "Japão, por outro lado, apresentou um comportamento distinto: jogos com classificação \"Teen\" lideraram as vendas, seguidos de perto por jogos \"Everyone\". A preferência dos japoneses pela Nintendo pode ajudar a justificar esse quadro. mas vale lembrar que o Japão apresentou um perfil comportalmental be diferente em praticamente todos os critéiros avaliados. Por isso, será muito importante campanhas bem distintas para trabalhar na região.\n",
    "\n",
    "Recomendações de Marketing e Estratégia:\n",
    "\n",
    "Focar em campanhas para os consoles mais populares, especialmente PS4 e Xbox One, garantindo que jogos com classificações \"Mature\" e \"Everyone\" sejam promovidos com destaque.\n",
    "\n",
    "No Japão, adaptar as campanhas para jogos \"Teen\" e \"Everyone\", aproveitando a forte base de fãs da Nintendo e o apelo por jogos casuais.\n",
    "\n",
    "Jogos bem avaliados por críticos devem ser priorizados em campanhas, uma vez que as notas dos críticos demonstraram uma correlação positiva com o sucesso de vendas."
   ]
  },
  {
   "cell_type": "markdown",
   "metadata": {},
   "source": [
    "<div class=\"alert alert-success\">\n",
    "<strong>Comentário do revisor v1</strong>\n",
    "\n",
    "Conclusão apresentada fconforme solicitado.\n",
    "</div>\n"
   ]
  },
  {
   "cell_type": "code",
   "execution_count": null,
   "metadata": {},
   "outputs": [],
   "source": []
  }
 ],
 "metadata": {
  "ExecuteTimeLog": [
   {
    "duration": 3,
    "start_time": "2024-10-28T21:34:59.115Z"
   },
   {
    "duration": 285,
    "start_time": "2024-10-28T21:35:31.794Z"
   },
   {
    "duration": 39,
    "start_time": "2024-10-28T21:37:07.683Z"
   },
   {
    "duration": 14,
    "start_time": "2024-10-28T21:37:13.427Z"
   },
   {
    "duration": 11,
    "start_time": "2024-10-28T21:40:26.975Z"
   },
   {
    "duration": 3,
    "start_time": "2024-10-28T21:59:55.553Z"
   },
   {
    "duration": 3,
    "start_time": "2024-10-28T22:00:46.073Z"
   },
   {
    "duration": 6,
    "start_time": "2024-10-28T22:33:30.520Z"
   },
   {
    "duration": 3,
    "start_time": "2024-10-28T22:37:19.062Z"
   },
   {
    "duration": 7,
    "start_time": "2024-10-28T22:43:33.347Z"
   },
   {
    "duration": 10,
    "start_time": "2024-10-28T22:43:40.736Z"
   },
   {
    "duration": 164,
    "start_time": "2024-10-29T10:50:51.298Z"
   },
   {
    "duration": 335,
    "start_time": "2024-10-29T10:50:59.561Z"
   },
   {
    "duration": 38,
    "start_time": "2024-10-29T10:50:59.898Z"
   },
   {
    "duration": 16,
    "start_time": "2024-10-29T10:50:59.938Z"
   },
   {
    "duration": 13,
    "start_time": "2024-10-29T10:50:59.956Z"
   },
   {
    "duration": 4,
    "start_time": "2024-10-29T10:50:59.971Z"
   },
   {
    "duration": 3,
    "start_time": "2024-10-29T10:50:59.977Z"
   },
   {
    "duration": 28,
    "start_time": "2024-10-29T10:50:59.982Z"
   },
   {
    "duration": 3,
    "start_time": "2024-10-29T10:51:00.013Z"
   },
   {
    "duration": 6,
    "start_time": "2024-10-29T10:51:00.018Z"
   },
   {
    "duration": 13,
    "start_time": "2024-10-29T10:51:00.027Z"
   },
   {
    "duration": 5,
    "start_time": "2024-10-29T10:51:00.042Z"
   },
   {
    "duration": 16,
    "start_time": "2024-10-29T11:17:19.159Z"
   },
   {
    "duration": 11,
    "start_time": "2024-10-29T11:20:46.978Z"
   },
   {
    "duration": 12,
    "start_time": "2024-10-29T11:22:22.441Z"
   },
   {
    "duration": 13,
    "start_time": "2024-10-29T11:22:38.896Z"
   },
   {
    "duration": 11,
    "start_time": "2024-10-29T11:22:41.782Z"
   },
   {
    "duration": 15,
    "start_time": "2024-10-29T11:29:51.832Z"
   },
   {
    "duration": 13,
    "start_time": "2024-10-29T11:31:41.278Z"
   },
   {
    "duration": 12,
    "start_time": "2024-10-29T11:38:04.343Z"
   },
   {
    "duration": 6,
    "start_time": "2024-10-29T11:40:20.703Z"
   },
   {
    "duration": 5,
    "start_time": "2024-10-29T11:40:33.422Z"
   },
   {
    "duration": 14,
    "start_time": "2024-10-29T11:40:44.294Z"
   },
   {
    "duration": 5,
    "start_time": "2024-10-29T11:40:47.260Z"
   },
   {
    "duration": 11,
    "start_time": "2024-10-29T11:41:03.217Z"
   },
   {
    "duration": 5,
    "start_time": "2024-10-29T11:42:03.972Z"
   },
   {
    "duration": 37,
    "start_time": "2024-10-29T11:50:19.491Z"
   },
   {
    "duration": 16,
    "start_time": "2024-10-29T11:50:30.269Z"
   },
   {
    "duration": 5,
    "start_time": "2024-10-29T11:50:53.044Z"
   },
   {
    "duration": 387,
    "start_time": "2024-10-29T11:54:42.927Z"
   },
   {
    "duration": 4,
    "start_time": "2024-10-29T11:54:55.695Z"
   },
   {
    "duration": 12,
    "start_time": "2024-10-29T11:54:59.211Z"
   },
   {
    "duration": 4,
    "start_time": "2024-10-29T12:05:58.475Z"
   },
   {
    "duration": 8,
    "start_time": "2024-10-29T12:06:04.591Z"
   },
   {
    "duration": 7,
    "start_time": "2024-10-29T12:07:18.912Z"
   },
   {
    "duration": 8,
    "start_time": "2024-10-29T12:07:27.554Z"
   },
   {
    "duration": 2,
    "start_time": "2024-10-29T13:23:03.534Z"
   },
   {
    "duration": 26,
    "start_time": "2024-10-29T13:23:03.539Z"
   },
   {
    "duration": 14,
    "start_time": "2024-10-29T13:23:03.568Z"
   },
   {
    "duration": 10,
    "start_time": "2024-10-29T13:23:03.585Z"
   },
   {
    "duration": 4,
    "start_time": "2024-10-29T13:23:03.597Z"
   },
   {
    "duration": 8,
    "start_time": "2024-10-29T13:23:03.602Z"
   },
   {
    "duration": 7,
    "start_time": "2024-10-29T13:23:03.611Z"
   },
   {
    "duration": 4,
    "start_time": "2024-10-29T13:23:03.619Z"
   },
   {
    "duration": 5,
    "start_time": "2024-10-29T13:23:03.625Z"
   },
   {
    "duration": 10,
    "start_time": "2024-10-29T13:23:03.634Z"
   },
   {
    "duration": 4,
    "start_time": "2024-10-29T13:23:03.645Z"
   },
   {
    "duration": 16,
    "start_time": "2024-10-29T13:23:03.651Z"
   },
   {
    "duration": 12,
    "start_time": "2024-10-29T13:23:03.709Z"
   },
   {
    "duration": 11,
    "start_time": "2024-10-29T13:23:03.723Z"
   },
   {
    "duration": 12,
    "start_time": "2024-10-29T13:23:03.735Z"
   },
   {
    "duration": 11,
    "start_time": "2024-10-29T13:23:03.749Z"
   },
   {
    "duration": 5,
    "start_time": "2024-10-29T13:23:03.761Z"
   },
   {
    "duration": 5,
    "start_time": "2024-10-29T13:23:03.768Z"
   },
   {
    "duration": 4,
    "start_time": "2024-10-29T13:23:03.810Z"
   },
   {
    "duration": 3,
    "start_time": "2024-10-29T13:23:03.816Z"
   },
   {
    "duration": 11,
    "start_time": "2024-10-29T13:23:03.821Z"
   },
   {
    "duration": 8,
    "start_time": "2024-10-29T13:23:03.833Z"
   },
   {
    "duration": 6,
    "start_time": "2024-10-29T13:23:03.842Z"
   },
   {
    "duration": 7,
    "start_time": "2024-10-29T13:23:03.850Z"
   },
   {
    "duration": 13,
    "start_time": "2024-10-29T13:28:21.434Z"
   },
   {
    "duration": 4,
    "start_time": "2024-10-29T13:31:22.119Z"
   },
   {
    "duration": 10,
    "start_time": "2024-10-29T13:31:30.296Z"
   },
   {
    "duration": 6,
    "start_time": "2024-10-29T13:42:55.529Z"
   },
   {
    "duration": 39,
    "start_time": "2024-10-29T13:43:01.931Z"
   },
   {
    "duration": 4,
    "start_time": "2024-10-29T13:43:12.435Z"
   },
   {
    "duration": 5,
    "start_time": "2024-10-29T13:43:26.731Z"
   },
   {
    "duration": 1937,
    "start_time": "2024-10-29T13:44:58.249Z"
   },
   {
    "duration": 25,
    "start_time": "2024-10-29T13:45:00.189Z"
   },
   {
    "duration": 11,
    "start_time": "2024-10-29T13:45:00.216Z"
   },
   {
    "duration": 11,
    "start_time": "2024-10-29T13:45:00.230Z"
   },
   {
    "duration": 3,
    "start_time": "2024-10-29T13:45:00.243Z"
   },
   {
    "duration": 4,
    "start_time": "2024-10-29T13:45:00.247Z"
   },
   {
    "duration": 7,
    "start_time": "2024-10-29T13:45:00.252Z"
   },
   {
    "duration": 3,
    "start_time": "2024-10-29T13:45:00.260Z"
   },
   {
    "duration": 48,
    "start_time": "2024-10-29T13:45:00.265Z"
   },
   {
    "duration": 11,
    "start_time": "2024-10-29T13:45:00.316Z"
   },
   {
    "duration": 5,
    "start_time": "2024-10-29T13:45:00.329Z"
   },
   {
    "duration": 17,
    "start_time": "2024-10-29T13:45:00.335Z"
   },
   {
    "duration": 12,
    "start_time": "2024-10-29T13:45:00.353Z"
   },
   {
    "duration": 46,
    "start_time": "2024-10-29T13:45:00.366Z"
   },
   {
    "duration": 12,
    "start_time": "2024-10-29T13:45:00.414Z"
   },
   {
    "duration": 11,
    "start_time": "2024-10-29T13:45:00.427Z"
   },
   {
    "duration": 5,
    "start_time": "2024-10-29T13:45:00.439Z"
   },
   {
    "duration": 5,
    "start_time": "2024-10-29T13:45:00.445Z"
   },
   {
    "duration": 4,
    "start_time": "2024-10-29T13:45:00.452Z"
   },
   {
    "duration": 4,
    "start_time": "2024-10-29T13:45:00.457Z"
   },
   {
    "duration": 46,
    "start_time": "2024-10-29T13:45:00.462Z"
   },
   {
    "duration": 9,
    "start_time": "2024-10-29T13:45:00.510Z"
   },
   {
    "duration": 5,
    "start_time": "2024-10-29T13:45:00.521Z"
   },
   {
    "duration": 7,
    "start_time": "2024-10-29T13:45:00.528Z"
   },
   {
    "duration": 4,
    "start_time": "2024-10-29T13:45:00.537Z"
   },
   {
    "duration": 11,
    "start_time": "2024-10-29T13:45:00.542Z"
   },
   {
    "duration": 3,
    "start_time": "2024-10-29T13:45:00.555Z"
   },
   {
    "duration": 3,
    "start_time": "2024-10-29T13:45:00.562Z"
   },
   {
    "duration": 265,
    "start_time": "2024-10-29T13:47:32.346Z"
   },
   {
    "duration": 6,
    "start_time": "2024-10-29T14:38:41.437Z"
   },
   {
    "duration": 5,
    "start_time": "2024-10-29T14:38:48.929Z"
   },
   {
    "duration": 3,
    "start_time": "2024-10-29T14:41:36.331Z"
   },
   {
    "duration": 3,
    "start_time": "2024-10-29T14:41:42.446Z"
   },
   {
    "duration": 4,
    "start_time": "2024-10-29T14:41:49.726Z"
   },
   {
    "duration": 2,
    "start_time": "2024-10-29T14:42:02.527Z"
   },
   {
    "duration": 4,
    "start_time": "2024-10-29T14:42:02.858Z"
   },
   {
    "duration": 8,
    "start_time": "2024-10-29T14:49:04.618Z"
   },
   {
    "duration": 5,
    "start_time": "2024-10-29T14:49:12.402Z"
   },
   {
    "duration": 5,
    "start_time": "2024-10-29T14:54:21.124Z"
   },
   {
    "duration": 3,
    "start_time": "2024-10-29T14:54:22.338Z"
   },
   {
    "duration": 5,
    "start_time": "2024-10-29T14:54:24.002Z"
   },
   {
    "duration": 8,
    "start_time": "2024-10-29T14:54:27.024Z"
   },
   {
    "duration": 19,
    "start_time": "2024-10-29T14:54:27.981Z"
   },
   {
    "duration": 20,
    "start_time": "2024-10-29T15:00:59.805Z"
   },
   {
    "duration": 4,
    "start_time": "2024-10-29T15:06:00.540Z"
   },
   {
    "duration": 255,
    "start_time": "2024-10-29T15:10:31.154Z"
   },
   {
    "duration": 269,
    "start_time": "2024-10-29T15:14:44.003Z"
   },
   {
    "duration": 2,
    "start_time": "2024-10-29T15:40:22.566Z"
   },
   {
    "duration": 5,
    "start_time": "2024-10-29T15:40:24.600Z"
   },
   {
    "duration": 3,
    "start_time": "2024-10-29T15:42:19.400Z"
   },
   {
    "duration": 3,
    "start_time": "2024-10-29T15:42:20.063Z"
   },
   {
    "duration": 8,
    "start_time": "2024-10-29T15:42:22.002Z"
   },
   {
    "duration": 17,
    "start_time": "2024-10-29T15:42:22.138Z"
   },
   {
    "duration": 18,
    "start_time": "2024-10-29T15:42:22.289Z"
   },
   {
    "duration": 293,
    "start_time": "2024-10-29T15:42:22.661Z"
   },
   {
    "duration": 3,
    "start_time": "2024-10-29T15:57:12.995Z"
   },
   {
    "duration": 22,
    "start_time": "2024-10-29T15:57:13.004Z"
   },
   {
    "duration": 10,
    "start_time": "2024-10-29T15:57:13.029Z"
   },
   {
    "duration": 12,
    "start_time": "2024-10-29T15:57:13.041Z"
   },
   {
    "duration": 3,
    "start_time": "2024-10-29T15:57:13.054Z"
   },
   {
    "duration": 3,
    "start_time": "2024-10-29T15:57:13.059Z"
   },
   {
    "duration": 6,
    "start_time": "2024-10-29T15:57:13.064Z"
   },
   {
    "duration": 3,
    "start_time": "2024-10-29T15:57:13.072Z"
   },
   {
    "duration": 6,
    "start_time": "2024-10-29T15:57:13.110Z"
   },
   {
    "duration": 11,
    "start_time": "2024-10-29T15:57:13.118Z"
   },
   {
    "duration": 4,
    "start_time": "2024-10-29T15:57:13.130Z"
   },
   {
    "duration": 17,
    "start_time": "2024-10-29T15:57:13.135Z"
   },
   {
    "duration": 14,
    "start_time": "2024-10-29T15:57:13.153Z"
   },
   {
    "duration": 48,
    "start_time": "2024-10-29T15:57:13.169Z"
   },
   {
    "duration": 13,
    "start_time": "2024-10-29T15:57:13.222Z"
   },
   {
    "duration": 11,
    "start_time": "2024-10-29T15:57:13.236Z"
   },
   {
    "duration": 4,
    "start_time": "2024-10-29T15:57:13.249Z"
   },
   {
    "duration": 5,
    "start_time": "2024-10-29T15:57:13.255Z"
   },
   {
    "duration": 5,
    "start_time": "2024-10-29T15:57:13.262Z"
   },
   {
    "duration": 41,
    "start_time": "2024-10-29T15:57:13.268Z"
   },
   {
    "duration": 12,
    "start_time": "2024-10-29T15:57:13.311Z"
   },
   {
    "duration": 10,
    "start_time": "2024-10-29T15:57:13.325Z"
   },
   {
    "duration": 7,
    "start_time": "2024-10-29T15:57:13.336Z"
   },
   {
    "duration": 7,
    "start_time": "2024-10-29T15:57:13.345Z"
   },
   {
    "duration": 3,
    "start_time": "2024-10-29T15:57:13.354Z"
   },
   {
    "duration": 50,
    "start_time": "2024-10-29T15:57:13.359Z"
   },
   {
    "duration": 5,
    "start_time": "2024-10-29T15:57:13.411Z"
   },
   {
    "duration": 5,
    "start_time": "2024-10-29T15:57:13.418Z"
   },
   {
    "duration": 272,
    "start_time": "2024-10-29T15:57:13.424Z"
   },
   {
    "duration": 12,
    "start_time": "2024-10-29T15:57:13.697Z"
   },
   {
    "duration": 3,
    "start_time": "2024-10-29T15:57:13.710Z"
   },
   {
    "duration": 5,
    "start_time": "2024-10-29T15:57:13.715Z"
   },
   {
    "duration": 8,
    "start_time": "2024-10-29T15:57:13.721Z"
   },
   {
    "duration": 17,
    "start_time": "2024-10-29T15:57:13.730Z"
   },
   {
    "duration": 19,
    "start_time": "2024-10-29T15:57:13.748Z"
   },
   {
    "duration": 248,
    "start_time": "2024-10-29T15:57:13.769Z"
   },
   {
    "duration": 7,
    "start_time": "2024-10-29T16:19:29.754Z"
   },
   {
    "duration": 7,
    "start_time": "2024-10-29T16:23:23.768Z"
   },
   {
    "duration": 4,
    "start_time": "2024-10-29T16:23:44.995Z"
   },
   {
    "duration": 6,
    "start_time": "2024-10-29T16:24:15.787Z"
   },
   {
    "duration": 5,
    "start_time": "2024-10-29T16:24:17.252Z"
   },
   {
    "duration": 15,
    "start_time": "2024-10-29T18:56:38.021Z"
   },
   {
    "duration": 7,
    "start_time": "2024-10-29T18:56:38.434Z"
   },
   {
    "duration": 13,
    "start_time": "2024-10-29T18:57:30.807Z"
   },
   {
    "duration": 6,
    "start_time": "2024-10-29T18:57:40.329Z"
   },
   {
    "duration": 5,
    "start_time": "2024-10-29T18:59:16.469Z"
   },
   {
    "duration": 5,
    "start_time": "2024-10-29T18:59:16.563Z"
   },
   {
    "duration": 376,
    "start_time": "2024-10-29T19:17:27.456Z"
   },
   {
    "duration": 30,
    "start_time": "2024-10-29T19:17:27.834Z"
   },
   {
    "duration": 10,
    "start_time": "2024-10-29T19:17:27.866Z"
   },
   {
    "duration": 11,
    "start_time": "2024-10-29T19:17:27.878Z"
   },
   {
    "duration": 5,
    "start_time": "2024-10-29T19:17:27.891Z"
   },
   {
    "duration": 26,
    "start_time": "2024-10-29T19:17:27.898Z"
   },
   {
    "duration": 7,
    "start_time": "2024-10-29T19:17:27.933Z"
   },
   {
    "duration": 4,
    "start_time": "2024-10-29T19:17:27.941Z"
   },
   {
    "duration": 6,
    "start_time": "2024-10-29T19:17:27.946Z"
   },
   {
    "duration": 10,
    "start_time": "2024-10-29T19:17:27.954Z"
   },
   {
    "duration": 5,
    "start_time": "2024-10-29T19:17:27.965Z"
   },
   {
    "duration": 16,
    "start_time": "2024-10-29T19:17:27.971Z"
   },
   {
    "duration": 45,
    "start_time": "2024-10-29T19:17:27.989Z"
   },
   {
    "duration": 11,
    "start_time": "2024-10-29T19:17:28.039Z"
   },
   {
    "duration": 12,
    "start_time": "2024-10-29T19:17:28.053Z"
   },
   {
    "duration": 10,
    "start_time": "2024-10-29T19:17:28.067Z"
   },
   {
    "duration": 5,
    "start_time": "2024-10-29T19:17:28.079Z"
   },
   {
    "duration": 4,
    "start_time": "2024-10-29T19:17:28.086Z"
   },
   {
    "duration": 27,
    "start_time": "2024-10-29T19:17:28.092Z"
   },
   {
    "duration": 5,
    "start_time": "2024-10-29T19:17:28.137Z"
   },
   {
    "duration": 14,
    "start_time": "2024-10-29T19:17:28.144Z"
   },
   {
    "duration": 9,
    "start_time": "2024-10-29T19:17:28.159Z"
   },
   {
    "duration": 6,
    "start_time": "2024-10-29T19:17:28.170Z"
   },
   {
    "duration": 7,
    "start_time": "2024-10-29T19:17:28.178Z"
   },
   {
    "duration": 4,
    "start_time": "2024-10-29T19:17:28.187Z"
   },
   {
    "duration": 42,
    "start_time": "2024-10-29T19:17:28.193Z"
   },
   {
    "duration": 4,
    "start_time": "2024-10-29T19:17:28.237Z"
   },
   {
    "duration": 4,
    "start_time": "2024-10-29T19:17:28.243Z"
   },
   {
    "duration": 367,
    "start_time": "2024-10-29T19:17:28.249Z"
   },
   {
    "duration": 6,
    "start_time": "2024-10-29T19:17:28.617Z"
   },
   {
    "duration": 16,
    "start_time": "2024-10-29T19:17:28.624Z"
   },
   {
    "duration": 4,
    "start_time": "2024-10-29T19:17:28.641Z"
   },
   {
    "duration": 7,
    "start_time": "2024-10-29T19:17:28.647Z"
   },
   {
    "duration": 17,
    "start_time": "2024-10-29T19:17:28.656Z"
   },
   {
    "duration": 16,
    "start_time": "2024-10-29T19:17:28.674Z"
   },
   {
    "duration": 248,
    "start_time": "2024-10-29T19:17:28.692Z"
   },
   {
    "duration": 6,
    "start_time": "2024-10-29T19:17:28.942Z"
   },
   {
    "duration": 4,
    "start_time": "2024-10-29T19:17:28.949Z"
   },
   {
    "duration": 5,
    "start_time": "2024-10-29T19:17:28.955Z"
   },
   {
    "duration": 4,
    "start_time": "2024-10-29T19:17:28.962Z"
   },
   {
    "duration": 519,
    "start_time": "2024-10-29T19:28:50.334Z"
   },
   {
    "duration": 393,
    "start_time": "2024-10-29T19:29:11.544Z"
   },
   {
    "duration": 250,
    "start_time": "2024-10-29T19:29:22.566Z"
   },
   {
    "duration": 210,
    "start_time": "2024-10-30T15:10:44.188Z"
   },
   {
    "duration": 2433,
    "start_time": "2024-10-30T15:10:59.182Z"
   },
   {
    "duration": 35,
    "start_time": "2024-10-30T15:11:01.617Z"
   },
   {
    "duration": 13,
    "start_time": "2024-10-30T15:11:01.654Z"
   },
   {
    "duration": 11,
    "start_time": "2024-10-30T15:11:01.668Z"
   },
   {
    "duration": 2,
    "start_time": "2024-10-30T15:11:01.682Z"
   },
   {
    "duration": 3,
    "start_time": "2024-10-30T15:11:01.686Z"
   },
   {
    "duration": 6,
    "start_time": "2024-10-30T15:11:01.690Z"
   },
   {
    "duration": 27,
    "start_time": "2024-10-30T15:11:01.698Z"
   },
   {
    "duration": 5,
    "start_time": "2024-10-30T15:11:01.726Z"
   },
   {
    "duration": 10,
    "start_time": "2024-10-30T15:11:01.734Z"
   },
   {
    "duration": 3,
    "start_time": "2024-10-30T15:11:01.745Z"
   },
   {
    "duration": 16,
    "start_time": "2024-10-30T15:11:01.750Z"
   },
   {
    "duration": 11,
    "start_time": "2024-10-30T15:11:01.767Z"
   },
   {
    "duration": 42,
    "start_time": "2024-10-30T15:11:01.782Z"
   },
   {
    "duration": 11,
    "start_time": "2024-10-30T15:11:01.826Z"
   },
   {
    "duration": 11,
    "start_time": "2024-10-30T15:11:01.839Z"
   },
   {
    "duration": 4,
    "start_time": "2024-10-30T15:11:01.852Z"
   },
   {
    "duration": 6,
    "start_time": "2024-10-30T15:11:01.857Z"
   },
   {
    "duration": 4,
    "start_time": "2024-10-30T15:11:01.864Z"
   },
   {
    "duration": 3,
    "start_time": "2024-10-30T15:11:01.869Z"
   },
   {
    "duration": 10,
    "start_time": "2024-10-30T15:11:01.874Z"
   },
   {
    "duration": 45,
    "start_time": "2024-10-30T15:11:01.885Z"
   },
   {
    "duration": 5,
    "start_time": "2024-10-30T15:11:01.932Z"
   },
   {
    "duration": 7,
    "start_time": "2024-10-30T15:11:01.938Z"
   },
   {
    "duration": 3,
    "start_time": "2024-10-30T15:11:01.947Z"
   },
   {
    "duration": 10,
    "start_time": "2024-10-30T15:11:01.952Z"
   },
   {
    "duration": 4,
    "start_time": "2024-10-30T15:11:01.964Z"
   },
   {
    "duration": 4,
    "start_time": "2024-10-30T15:11:01.969Z"
   },
   {
    "duration": 336,
    "start_time": "2024-10-30T15:11:01.974Z"
   },
   {
    "duration": 13,
    "start_time": "2024-10-30T15:11:02.311Z"
   },
   {
    "duration": 3,
    "start_time": "2024-10-30T15:11:02.325Z"
   },
   {
    "duration": 4,
    "start_time": "2024-10-30T15:11:02.329Z"
   },
   {
    "duration": 7,
    "start_time": "2024-10-30T15:11:02.335Z"
   },
   {
    "duration": 17,
    "start_time": "2024-10-30T15:11:02.344Z"
   },
   {
    "duration": 17,
    "start_time": "2024-10-30T15:11:02.362Z"
   },
   {
    "duration": 257,
    "start_time": "2024-10-30T15:11:02.380Z"
   },
   {
    "duration": 5,
    "start_time": "2024-10-30T15:11:02.638Z"
   },
   {
    "duration": 4,
    "start_time": "2024-10-30T15:11:02.645Z"
   },
   {
    "duration": 4,
    "start_time": "2024-10-30T15:11:02.651Z"
   },
   {
    "duration": 5,
    "start_time": "2024-10-30T15:11:02.656Z"
   },
   {
    "duration": 219,
    "start_time": "2024-10-30T15:11:02.665Z"
   },
   {
    "duration": 3,
    "start_time": "2024-10-30T15:29:56.638Z"
   },
   {
    "duration": 103,
    "start_time": "2024-10-30T15:35:32.194Z"
   },
   {
    "duration": 89,
    "start_time": "2024-10-30T15:36:21.246Z"
   },
   {
    "duration": 309,
    "start_time": "2024-10-30T15:40:32.970Z"
   },
   {
    "duration": 294,
    "start_time": "2024-10-30T15:44:15.053Z"
   },
   {
    "duration": 5,
    "start_time": "2024-10-30T15:49:54.019Z"
   },
   {
    "duration": 4,
    "start_time": "2024-10-30T15:53:03.331Z"
   },
   {
    "duration": 3,
    "start_time": "2024-10-30T16:21:16.988Z"
   },
   {
    "duration": 331,
    "start_time": "2024-10-30T16:21:41.096Z"
   },
   {
    "duration": 4,
    "start_time": "2024-10-30T16:22:19.042Z"
   },
   {
    "duration": 2,
    "start_time": "2024-10-30T17:15:03.300Z"
   },
   {
    "duration": 22,
    "start_time": "2024-10-30T17:15:03.320Z"
   },
   {
    "duration": 11,
    "start_time": "2024-10-30T17:15:03.344Z"
   },
   {
    "duration": 11,
    "start_time": "2024-10-30T17:15:03.356Z"
   },
   {
    "duration": 3,
    "start_time": "2024-10-30T17:15:03.368Z"
   },
   {
    "duration": 3,
    "start_time": "2024-10-30T17:15:03.374Z"
   },
   {
    "duration": 7,
    "start_time": "2024-10-30T17:15:03.379Z"
   },
   {
    "duration": 39,
    "start_time": "2024-10-30T17:15:03.387Z"
   },
   {
    "duration": 4,
    "start_time": "2024-10-30T17:15:03.428Z"
   },
   {
    "duration": 10,
    "start_time": "2024-10-30T17:15:03.434Z"
   },
   {
    "duration": 4,
    "start_time": "2024-10-30T17:15:03.446Z"
   },
   {
    "duration": 15,
    "start_time": "2024-10-30T17:15:03.452Z"
   },
   {
    "duration": 11,
    "start_time": "2024-10-30T17:15:03.468Z"
   },
   {
    "duration": 46,
    "start_time": "2024-10-30T17:15:03.480Z"
   },
   {
    "duration": 12,
    "start_time": "2024-10-30T17:15:03.531Z"
   },
   {
    "duration": 11,
    "start_time": "2024-10-30T17:15:03.544Z"
   },
   {
    "duration": 5,
    "start_time": "2024-10-30T17:15:03.556Z"
   },
   {
    "duration": 6,
    "start_time": "2024-10-30T17:15:03.562Z"
   },
   {
    "duration": 4,
    "start_time": "2024-10-30T17:15:03.569Z"
   },
   {
    "duration": 3,
    "start_time": "2024-10-30T17:15:03.574Z"
   },
   {
    "duration": 51,
    "start_time": "2024-10-30T17:15:03.578Z"
   },
   {
    "duration": 8,
    "start_time": "2024-10-30T17:15:03.631Z"
   },
   {
    "duration": 6,
    "start_time": "2024-10-30T17:15:03.640Z"
   },
   {
    "duration": 7,
    "start_time": "2024-10-30T17:15:03.647Z"
   },
   {
    "duration": 5,
    "start_time": "2024-10-30T17:15:03.655Z"
   },
   {
    "duration": 11,
    "start_time": "2024-10-30T17:15:03.662Z"
   },
   {
    "duration": 4,
    "start_time": "2024-10-30T17:15:03.675Z"
   },
   {
    "duration": 44,
    "start_time": "2024-10-30T17:15:03.680Z"
   },
   {
    "duration": 316,
    "start_time": "2024-10-30T17:15:03.726Z"
   },
   {
    "duration": 4,
    "start_time": "2024-10-30T17:15:04.044Z"
   },
   {
    "duration": 2,
    "start_time": "2024-10-30T17:15:04.050Z"
   },
   {
    "duration": 3,
    "start_time": "2024-10-30T17:15:04.054Z"
   },
   {
    "duration": 8,
    "start_time": "2024-10-30T17:15:04.059Z"
   },
   {
    "duration": 16,
    "start_time": "2024-10-30T17:15:04.068Z"
   },
   {
    "duration": 50,
    "start_time": "2024-10-30T17:15:04.086Z"
   },
   {
    "duration": 210,
    "start_time": "2024-10-30T17:15:04.137Z"
   },
   {
    "duration": 7,
    "start_time": "2024-10-30T17:15:04.349Z"
   },
   {
    "duration": 4,
    "start_time": "2024-10-30T17:15:04.357Z"
   },
   {
    "duration": 5,
    "start_time": "2024-10-30T17:15:04.363Z"
   },
   {
    "duration": 5,
    "start_time": "2024-10-30T17:15:04.370Z"
   },
   {
    "duration": 233,
    "start_time": "2024-10-30T17:15:04.377Z"
   },
   {
    "duration": 10,
    "start_time": "2024-10-30T17:15:04.614Z"
   },
   {
    "duration": 317,
    "start_time": "2024-10-30T17:15:04.625Z"
   },
   {
    "duration": 4,
    "start_time": "2024-10-30T17:15:04.944Z"
   },
   {
    "duration": 4,
    "start_time": "2024-10-30T17:15:04.950Z"
   },
   {
    "duration": 317,
    "start_time": "2024-10-30T17:15:04.955Z"
   },
   {
    "duration": 3,
    "start_time": "2024-10-30T17:15:05.274Z"
   },
   {
    "duration": 320,
    "start_time": "2024-10-30T17:29:06.815Z"
   },
   {
    "duration": 4,
    "start_time": "2024-10-30T17:34:47.687Z"
   },
   {
    "duration": 5,
    "start_time": "2024-10-30T17:48:12.089Z"
   },
   {
    "duration": 6,
    "start_time": "2024-10-30T17:48:20.850Z"
   },
   {
    "duration": 4,
    "start_time": "2024-10-30T17:49:29.532Z"
   },
   {
    "duration": 6,
    "start_time": "2024-10-30T17:49:46.923Z"
   },
   {
    "duration": 3,
    "start_time": "2024-10-30T17:50:31.092Z"
   },
   {
    "duration": 5,
    "start_time": "2024-10-30T17:50:41.733Z"
   },
   {
    "duration": 5,
    "start_time": "2024-10-30T18:04:22.641Z"
   },
   {
    "duration": 158,
    "start_time": "2024-10-30T18:17:48.306Z"
   },
   {
    "duration": 177,
    "start_time": "2024-10-30T18:18:09.131Z"
   },
   {
    "duration": 2538,
    "start_time": "2024-10-30T20:17:49.609Z"
   },
   {
    "duration": 34,
    "start_time": "2024-10-30T20:17:52.149Z"
   },
   {
    "duration": 13,
    "start_time": "2024-10-30T20:17:52.185Z"
   },
   {
    "duration": 10,
    "start_time": "2024-10-30T20:17:52.200Z"
   },
   {
    "duration": 3,
    "start_time": "2024-10-30T20:17:52.212Z"
   },
   {
    "duration": 10,
    "start_time": "2024-10-30T20:17:52.216Z"
   },
   {
    "duration": 7,
    "start_time": "2024-10-30T20:17:52.228Z"
   },
   {
    "duration": 3,
    "start_time": "2024-10-30T20:17:52.236Z"
   },
   {
    "duration": 5,
    "start_time": "2024-10-30T20:17:52.241Z"
   },
   {
    "duration": 14,
    "start_time": "2024-10-30T20:17:52.251Z"
   },
   {
    "duration": 4,
    "start_time": "2024-10-30T20:17:52.266Z"
   },
   {
    "duration": 50,
    "start_time": "2024-10-30T20:17:52.275Z"
   },
   {
    "duration": 11,
    "start_time": "2024-10-30T20:17:52.327Z"
   },
   {
    "duration": 11,
    "start_time": "2024-10-30T20:17:52.339Z"
   },
   {
    "duration": 11,
    "start_time": "2024-10-30T20:17:52.352Z"
   },
   {
    "duration": 10,
    "start_time": "2024-10-30T20:17:52.365Z"
   },
   {
    "duration": 4,
    "start_time": "2024-10-30T20:17:52.377Z"
   },
   {
    "duration": 42,
    "start_time": "2024-10-30T20:17:52.382Z"
   },
   {
    "duration": 4,
    "start_time": "2024-10-30T20:17:52.426Z"
   },
   {
    "duration": 3,
    "start_time": "2024-10-30T20:17:52.432Z"
   },
   {
    "duration": 10,
    "start_time": "2024-10-30T20:17:52.437Z"
   },
   {
    "duration": 7,
    "start_time": "2024-10-30T20:17:52.448Z"
   },
   {
    "duration": 7,
    "start_time": "2024-10-30T20:17:52.457Z"
   },
   {
    "duration": 9,
    "start_time": "2024-10-30T20:17:52.465Z"
   },
   {
    "duration": 3,
    "start_time": "2024-10-30T20:17:52.476Z"
   },
   {
    "duration": 47,
    "start_time": "2024-10-30T20:17:52.480Z"
   },
   {
    "duration": 4,
    "start_time": "2024-10-30T20:17:52.529Z"
   },
   {
    "duration": 4,
    "start_time": "2024-10-30T20:17:52.537Z"
   },
   {
    "duration": 281,
    "start_time": "2024-10-30T20:17:52.542Z"
   },
   {
    "duration": 5,
    "start_time": "2024-10-30T20:17:52.825Z"
   },
   {
    "duration": 2,
    "start_time": "2024-10-30T20:17:52.832Z"
   },
   {
    "duration": 4,
    "start_time": "2024-10-30T20:17:52.836Z"
   },
   {
    "duration": 7,
    "start_time": "2024-10-30T20:17:52.841Z"
   },
   {
    "duration": 16,
    "start_time": "2024-10-30T20:17:52.850Z"
   },
   {
    "duration": 17,
    "start_time": "2024-10-30T20:17:52.868Z"
   },
   {
    "duration": 261,
    "start_time": "2024-10-30T20:17:52.887Z"
   },
   {
    "duration": 6,
    "start_time": "2024-10-30T20:17:53.150Z"
   },
   {
    "duration": 4,
    "start_time": "2024-10-30T20:17:53.157Z"
   },
   {
    "duration": 4,
    "start_time": "2024-10-30T20:17:53.163Z"
   },
   {
    "duration": 4,
    "start_time": "2024-10-30T20:17:53.169Z"
   },
   {
    "duration": 226,
    "start_time": "2024-10-30T20:17:53.175Z"
   },
   {
    "duration": 3,
    "start_time": "2024-10-30T20:17:53.403Z"
   },
   {
    "duration": 374,
    "start_time": "2024-10-30T20:17:53.408Z"
   },
   {
    "duration": 5,
    "start_time": "2024-10-30T20:17:53.783Z"
   },
   {
    "duration": 3,
    "start_time": "2024-10-30T20:17:53.790Z"
   },
   {
    "duration": 349,
    "start_time": "2024-10-30T20:17:53.795Z"
   },
   {
    "duration": 5,
    "start_time": "2024-10-30T20:17:54.146Z"
   },
   {
    "duration": 293,
    "start_time": "2024-10-30T20:17:54.152Z"
   },
   {
    "duration": 4,
    "start_time": "2024-10-30T20:17:54.447Z"
   },
   {
    "duration": 5,
    "start_time": "2024-10-30T20:17:54.453Z"
   },
   {
    "duration": 4,
    "start_time": "2024-10-30T20:17:54.459Z"
   },
   {
    "duration": 5,
    "start_time": "2024-10-30T20:17:54.465Z"
   },
   {
    "duration": 5,
    "start_time": "2024-10-30T20:17:54.472Z"
   },
   {
    "duration": 190,
    "start_time": "2024-10-30T20:17:54.478Z"
   },
   {
    "duration": 156,
    "start_time": "2024-10-30T20:17:54.670Z"
   },
   {
    "duration": 5,
    "start_time": "2024-10-30T20:17:54.827Z"
   },
   {
    "duration": 5,
    "start_time": "2024-10-30T20:17:54.833Z"
   },
   {
    "duration": 4,
    "start_time": "2024-10-30T20:17:54.840Z"
   },
   {
    "duration": 2,
    "start_time": "2024-10-30T20:18:08.198Z"
   },
   {
    "duration": 23,
    "start_time": "2024-10-30T20:18:08.203Z"
   },
   {
    "duration": 10,
    "start_time": "2024-10-30T20:18:08.228Z"
   },
   {
    "duration": 10,
    "start_time": "2024-10-30T20:18:08.240Z"
   },
   {
    "duration": 3,
    "start_time": "2024-10-30T20:18:08.253Z"
   },
   {
    "duration": 3,
    "start_time": "2024-10-30T20:18:08.257Z"
   },
   {
    "duration": 6,
    "start_time": "2024-10-30T20:18:08.261Z"
   },
   {
    "duration": 3,
    "start_time": "2024-10-30T20:18:08.268Z"
   },
   {
    "duration": 5,
    "start_time": "2024-10-30T20:18:08.273Z"
   },
   {
    "duration": 53,
    "start_time": "2024-10-30T20:18:08.280Z"
   },
   {
    "duration": 3,
    "start_time": "2024-10-30T20:18:08.337Z"
   },
   {
    "duration": 17,
    "start_time": "2024-10-30T20:18:08.342Z"
   },
   {
    "duration": 10,
    "start_time": "2024-10-30T20:18:08.362Z"
   },
   {
    "duration": 10,
    "start_time": "2024-10-30T20:18:08.374Z"
   },
   {
    "duration": 41,
    "start_time": "2024-10-30T20:18:08.386Z"
   },
   {
    "duration": 10,
    "start_time": "2024-10-30T20:18:08.428Z"
   },
   {
    "duration": 5,
    "start_time": "2024-10-30T20:18:08.440Z"
   },
   {
    "duration": 5,
    "start_time": "2024-10-30T20:18:08.447Z"
   },
   {
    "duration": 4,
    "start_time": "2024-10-30T20:18:08.453Z"
   },
   {
    "duration": 3,
    "start_time": "2024-10-30T20:18:08.459Z"
   },
   {
    "duration": 10,
    "start_time": "2024-10-30T20:18:08.463Z"
   },
   {
    "duration": 7,
    "start_time": "2024-10-30T20:18:08.475Z"
   },
   {
    "duration": 8,
    "start_time": "2024-10-30T20:18:08.523Z"
   },
   {
    "duration": 8,
    "start_time": "2024-10-30T20:18:08.532Z"
   },
   {
    "duration": 5,
    "start_time": "2024-10-30T20:18:08.541Z"
   },
   {
    "duration": 12,
    "start_time": "2024-10-30T20:18:08.547Z"
   },
   {
    "duration": 3,
    "start_time": "2024-10-30T20:18:08.560Z"
   },
   {
    "duration": 5,
    "start_time": "2024-10-30T20:18:08.565Z"
   },
   {
    "duration": 277,
    "start_time": "2024-10-30T20:18:08.574Z"
   },
   {
    "duration": 4,
    "start_time": "2024-10-30T20:18:08.853Z"
   },
   {
    "duration": 4,
    "start_time": "2024-10-30T20:18:08.858Z"
   },
   {
    "duration": 4,
    "start_time": "2024-10-30T20:18:08.864Z"
   },
   {
    "duration": 7,
    "start_time": "2024-10-30T20:18:08.870Z"
   },
   {
    "duration": 17,
    "start_time": "2024-10-30T20:18:08.878Z"
   },
   {
    "duration": 45,
    "start_time": "2024-10-30T20:18:08.896Z"
   },
   {
    "duration": 228,
    "start_time": "2024-10-30T20:18:08.942Z"
   },
   {
    "duration": 5,
    "start_time": "2024-10-30T20:18:09.172Z"
   },
   {
    "duration": 4,
    "start_time": "2024-10-30T20:18:09.179Z"
   },
   {
    "duration": 5,
    "start_time": "2024-10-30T20:18:09.184Z"
   },
   {
    "duration": 4,
    "start_time": "2024-10-30T20:18:09.190Z"
   },
   {
    "duration": 237,
    "start_time": "2024-10-30T20:18:09.195Z"
   },
   {
    "duration": 3,
    "start_time": "2024-10-30T20:18:09.434Z"
   },
   {
    "duration": 311,
    "start_time": "2024-10-30T20:18:09.439Z"
   },
   {
    "duration": 5,
    "start_time": "2024-10-30T20:18:09.751Z"
   },
   {
    "duration": 4,
    "start_time": "2024-10-30T20:18:09.757Z"
   },
   {
    "duration": 379,
    "start_time": "2024-10-30T20:18:09.763Z"
   },
   {
    "duration": 6,
    "start_time": "2024-10-30T20:18:10.143Z"
   },
   {
    "duration": 291,
    "start_time": "2024-10-30T20:18:10.150Z"
   },
   {
    "duration": 4,
    "start_time": "2024-10-30T20:18:10.443Z"
   },
   {
    "duration": 4,
    "start_time": "2024-10-30T20:18:10.449Z"
   },
   {
    "duration": 4,
    "start_time": "2024-10-30T20:18:10.456Z"
   },
   {
    "duration": 6,
    "start_time": "2024-10-30T20:18:10.462Z"
   },
   {
    "duration": 5,
    "start_time": "2024-10-30T20:18:10.469Z"
   },
   {
    "duration": 188,
    "start_time": "2024-10-30T20:18:10.476Z"
   },
   {
    "duration": 163,
    "start_time": "2024-10-30T20:18:10.666Z"
   },
   {
    "duration": 5,
    "start_time": "2024-10-30T20:18:10.831Z"
   },
   {
    "duration": 4,
    "start_time": "2024-10-30T20:18:10.837Z"
   },
   {
    "duration": 4,
    "start_time": "2024-10-30T20:18:10.843Z"
   },
   {
    "duration": 5,
    "start_time": "2024-10-30T20:18:13.263Z"
   },
   {
    "duration": 221,
    "start_time": "2024-10-30T20:18:46.330Z"
   },
   {
    "duration": 7,
    "start_time": "2024-10-30T20:18:52.151Z"
   },
   {
    "duration": 6,
    "start_time": "2024-10-30T20:27:23.331Z"
   },
   {
    "duration": 6,
    "start_time": "2024-10-30T20:28:04.536Z"
   },
   {
    "duration": 6,
    "start_time": "2024-10-30T20:28:20.716Z"
   },
   {
    "duration": 6,
    "start_time": "2024-10-30T20:28:25.490Z"
   },
   {
    "duration": 6,
    "start_time": "2024-10-30T20:29:19.420Z"
   },
   {
    "duration": 7,
    "start_time": "2024-10-30T20:29:24.172Z"
   },
   {
    "duration": 2596,
    "start_time": "2024-10-31T21:02:53.273Z"
   },
   {
    "duration": 34,
    "start_time": "2024-10-31T21:02:55.873Z"
   },
   {
    "duration": 13,
    "start_time": "2024-10-31T21:02:55.909Z"
   },
   {
    "duration": 12,
    "start_time": "2024-10-31T21:02:55.924Z"
   },
   {
    "duration": 2,
    "start_time": "2024-10-31T21:02:55.940Z"
   },
   {
    "duration": 3,
    "start_time": "2024-10-31T21:02:55.943Z"
   },
   {
    "duration": 6,
    "start_time": "2024-10-31T21:02:55.948Z"
   },
   {
    "duration": 3,
    "start_time": "2024-10-31T21:02:55.956Z"
   },
   {
    "duration": 5,
    "start_time": "2024-10-31T21:02:55.961Z"
   },
   {
    "duration": 10,
    "start_time": "2024-10-31T21:02:55.968Z"
   },
   {
    "duration": 4,
    "start_time": "2024-10-31T21:02:55.980Z"
   },
   {
    "duration": 16,
    "start_time": "2024-10-31T21:02:56.025Z"
   },
   {
    "duration": 10,
    "start_time": "2024-10-31T21:02:56.043Z"
   },
   {
    "duration": 10,
    "start_time": "2024-10-31T21:02:56.057Z"
   },
   {
    "duration": 12,
    "start_time": "2024-10-31T21:02:56.069Z"
   },
   {
    "duration": 10,
    "start_time": "2024-10-31T21:02:56.084Z"
   },
   {
    "duration": 4,
    "start_time": "2024-10-31T21:02:56.125Z"
   },
   {
    "duration": 6,
    "start_time": "2024-10-31T21:02:56.131Z"
   },
   {
    "duration": 4,
    "start_time": "2024-10-31T21:02:56.138Z"
   },
   {
    "duration": 3,
    "start_time": "2024-10-31T21:02:56.144Z"
   },
   {
    "duration": 10,
    "start_time": "2024-10-31T21:02:56.148Z"
   },
   {
    "duration": 8,
    "start_time": "2024-10-31T21:02:56.160Z"
   },
   {
    "duration": 6,
    "start_time": "2024-10-31T21:02:56.169Z"
   },
   {
    "duration": 48,
    "start_time": "2024-10-31T21:02:56.176Z"
   },
   {
    "duration": 4,
    "start_time": "2024-10-31T21:02:56.226Z"
   },
   {
    "duration": 10,
    "start_time": "2024-10-31T21:02:56.232Z"
   },
   {
    "duration": 4,
    "start_time": "2024-10-31T21:02:56.244Z"
   },
   {
    "duration": 4,
    "start_time": "2024-10-31T21:02:56.250Z"
   },
   {
    "duration": 286,
    "start_time": "2024-10-31T21:02:56.255Z"
   },
   {
    "duration": 5,
    "start_time": "2024-10-31T21:02:56.543Z"
   },
   {
    "duration": 2,
    "start_time": "2024-10-31T21:02:56.551Z"
   },
   {
    "duration": 4,
    "start_time": "2024-10-31T21:02:56.554Z"
   },
   {
    "duration": 12,
    "start_time": "2024-10-31T21:02:56.560Z"
   },
   {
    "duration": 17,
    "start_time": "2024-10-31T21:02:56.574Z"
   },
   {
    "duration": 37,
    "start_time": "2024-10-31T21:02:56.593Z"
   },
   {
    "duration": 241,
    "start_time": "2024-10-31T21:02:56.631Z"
   },
   {
    "duration": 5,
    "start_time": "2024-10-31T21:02:56.874Z"
   },
   {
    "duration": 5,
    "start_time": "2024-10-31T21:02:56.881Z"
   },
   {
    "duration": 5,
    "start_time": "2024-10-31T21:02:56.888Z"
   },
   {
    "duration": 5,
    "start_time": "2024-10-31T21:02:56.895Z"
   },
   {
    "duration": 227,
    "start_time": "2024-10-31T21:02:56.905Z"
   },
   {
    "duration": 4,
    "start_time": "2024-10-31T21:02:57.134Z"
   },
   {
    "duration": 414,
    "start_time": "2024-10-31T21:02:57.139Z"
   },
   {
    "duration": 5,
    "start_time": "2024-10-31T21:02:57.554Z"
   },
   {
    "duration": 3,
    "start_time": "2024-10-31T21:02:57.561Z"
   },
   {
    "duration": 358,
    "start_time": "2024-10-31T21:02:57.566Z"
   },
   {
    "duration": 5,
    "start_time": "2024-10-31T21:02:57.926Z"
   },
   {
    "duration": 318,
    "start_time": "2024-10-31T21:02:57.933Z"
   },
   {
    "duration": 4,
    "start_time": "2024-10-31T21:02:58.253Z"
   },
   {
    "duration": 4,
    "start_time": "2024-10-31T21:02:58.259Z"
   },
   {
    "duration": 3,
    "start_time": "2024-10-31T21:02:58.265Z"
   },
   {
    "duration": 6,
    "start_time": "2024-10-31T21:02:58.270Z"
   },
   {
    "duration": 6,
    "start_time": "2024-10-31T21:02:58.277Z"
   },
   {
    "duration": 196,
    "start_time": "2024-10-31T21:02:58.284Z"
   },
   {
    "duration": 160,
    "start_time": "2024-10-31T21:02:58.482Z"
   },
   {
    "duration": 6,
    "start_time": "2024-10-31T21:02:58.644Z"
   },
   {
    "duration": 5,
    "start_time": "2024-10-31T21:02:58.652Z"
   },
   {
    "duration": 5,
    "start_time": "2024-10-31T21:02:58.659Z"
   },
   {
    "duration": 8,
    "start_time": "2024-10-31T21:31:08.884Z"
   },
   {
    "duration": 6,
    "start_time": "2024-10-31T22:10:24.359Z"
   },
   {
    "duration": 6,
    "start_time": "2024-10-31T22:11:26.835Z"
   },
   {
    "duration": 6,
    "start_time": "2024-10-31T22:12:08.711Z"
   },
   {
    "duration": 6,
    "start_time": "2024-10-31T22:14:45.712Z"
   },
   {
    "duration": 4,
    "start_time": "2024-10-31T22:14:52.922Z"
   },
   {
    "duration": 6,
    "start_time": "2024-10-31T22:15:05.413Z"
   },
   {
    "duration": 5,
    "start_time": "2024-10-31T22:15:13.049Z"
   },
   {
    "duration": 7,
    "start_time": "2024-10-31T22:29:23.918Z"
   },
   {
    "duration": 4,
    "start_time": "2024-10-31T22:29:25.173Z"
   },
   {
    "duration": 4,
    "start_time": "2024-10-31T22:29:27.237Z"
   },
   {
    "duration": 4,
    "start_time": "2024-10-31T22:29:28.401Z"
   },
   {
    "duration": 6,
    "start_time": "2024-11-01T00:26:36.186Z"
   },
   {
    "duration": 86,
    "start_time": "2024-11-01T00:30:32.087Z"
   },
   {
    "duration": 2504,
    "start_time": "2024-11-03T14:48:42.652Z"
   },
   {
    "duration": 35,
    "start_time": "2024-11-03T14:48:45.159Z"
   },
   {
    "duration": 12,
    "start_time": "2024-11-03T14:48:45.196Z"
   },
   {
    "duration": 12,
    "start_time": "2024-11-03T14:48:45.210Z"
   },
   {
    "duration": 3,
    "start_time": "2024-11-03T14:48:45.224Z"
   },
   {
    "duration": 3,
    "start_time": "2024-11-03T14:48:45.228Z"
   },
   {
    "duration": 5,
    "start_time": "2024-11-03T14:48:45.233Z"
   },
   {
    "duration": 32,
    "start_time": "2024-11-03T14:48:45.239Z"
   },
   {
    "duration": 5,
    "start_time": "2024-11-03T14:48:45.273Z"
   },
   {
    "duration": 10,
    "start_time": "2024-11-03T14:48:45.279Z"
   },
   {
    "duration": 4,
    "start_time": "2024-11-03T14:48:45.291Z"
   },
   {
    "duration": 15,
    "start_time": "2024-11-03T14:48:45.296Z"
   },
   {
    "duration": 11,
    "start_time": "2024-11-03T14:48:45.313Z"
   },
   {
    "duration": 47,
    "start_time": "2024-11-03T14:48:45.327Z"
   },
   {
    "duration": 11,
    "start_time": "2024-11-03T14:48:45.376Z"
   },
   {
    "duration": 10,
    "start_time": "2024-11-03T14:48:45.389Z"
   },
   {
    "duration": 4,
    "start_time": "2024-11-03T14:48:45.401Z"
   },
   {
    "duration": 6,
    "start_time": "2024-11-03T14:48:45.406Z"
   },
   {
    "duration": 4,
    "start_time": "2024-11-03T14:48:45.413Z"
   },
   {
    "duration": 2,
    "start_time": "2024-11-03T14:48:45.419Z"
   },
   {
    "duration": 47,
    "start_time": "2024-11-03T14:48:45.423Z"
   },
   {
    "duration": 7,
    "start_time": "2024-11-03T14:48:45.472Z"
   },
   {
    "duration": 6,
    "start_time": "2024-11-03T14:48:45.481Z"
   },
   {
    "duration": 7,
    "start_time": "2024-11-03T14:48:45.489Z"
   },
   {
    "duration": 4,
    "start_time": "2024-11-03T14:48:45.497Z"
   },
   {
    "duration": 11,
    "start_time": "2024-11-03T14:48:45.502Z"
   },
   {
    "duration": 3,
    "start_time": "2024-11-03T14:48:45.515Z"
   },
   {
    "duration": 4,
    "start_time": "2024-11-03T14:48:45.520Z"
   },
   {
    "duration": 287,
    "start_time": "2024-11-03T14:48:45.526Z"
   },
   {
    "duration": 5,
    "start_time": "2024-11-03T14:48:45.815Z"
   },
   {
    "duration": 3,
    "start_time": "2024-11-03T14:48:45.821Z"
   },
   {
    "duration": 4,
    "start_time": "2024-11-03T14:48:45.825Z"
   },
   {
    "duration": 7,
    "start_time": "2024-11-03T14:48:45.831Z"
   },
   {
    "duration": 43,
    "start_time": "2024-11-03T14:48:45.840Z"
   },
   {
    "duration": 16,
    "start_time": "2024-11-03T14:48:45.884Z"
   },
   {
    "duration": 241,
    "start_time": "2024-11-03T14:48:45.902Z"
   },
   {
    "duration": 6,
    "start_time": "2024-11-03T14:48:46.144Z"
   },
   {
    "duration": 5,
    "start_time": "2024-11-03T14:48:46.151Z"
   },
   {
    "duration": 4,
    "start_time": "2024-11-03T14:48:46.157Z"
   },
   {
    "duration": 8,
    "start_time": "2024-11-03T14:48:46.163Z"
   },
   {
    "duration": 226,
    "start_time": "2024-11-03T14:48:46.176Z"
   },
   {
    "duration": 4,
    "start_time": "2024-11-03T14:48:46.404Z"
   },
   {
    "duration": 396,
    "start_time": "2024-11-03T14:48:46.410Z"
   },
   {
    "duration": 5,
    "start_time": "2024-11-03T14:48:46.808Z"
   },
   {
    "duration": 3,
    "start_time": "2024-11-03T14:48:46.815Z"
   },
   {
    "duration": 340,
    "start_time": "2024-11-03T14:48:46.820Z"
   },
   {
    "duration": 16,
    "start_time": "2024-11-03T14:48:47.162Z"
   },
   {
    "duration": 313,
    "start_time": "2024-11-03T14:48:47.180Z"
   },
   {
    "duration": 4,
    "start_time": "2024-11-03T14:48:47.495Z"
   },
   {
    "duration": 6,
    "start_time": "2024-11-03T14:48:47.501Z"
   },
   {
    "duration": 4,
    "start_time": "2024-11-03T14:48:47.509Z"
   },
   {
    "duration": 5,
    "start_time": "2024-11-03T14:48:47.516Z"
   },
   {
    "duration": 5,
    "start_time": "2024-11-03T14:48:47.523Z"
   },
   {
    "duration": 189,
    "start_time": "2024-11-03T14:48:47.530Z"
   },
   {
    "duration": 163,
    "start_time": "2024-11-03T14:48:47.721Z"
   },
   {
    "duration": 6,
    "start_time": "2024-11-03T14:48:47.886Z"
   },
   {
    "duration": 5,
    "start_time": "2024-11-03T14:48:47.893Z"
   },
   {
    "duration": 5,
    "start_time": "2024-11-03T14:48:47.901Z"
   },
   {
    "duration": 6,
    "start_time": "2024-11-03T14:48:47.908Z"
   },
   {
    "duration": 5,
    "start_time": "2024-11-03T14:48:47.915Z"
   },
   {
    "duration": 5,
    "start_time": "2024-11-03T14:48:47.922Z"
   },
   {
    "duration": 45,
    "start_time": "2024-11-03T14:48:47.929Z"
   },
   {
    "duration": 4,
    "start_time": "2024-11-03T14:48:47.976Z"
   },
   {
    "duration": 3,
    "start_time": "2024-11-03T14:48:47.982Z"
   },
   {
    "duration": 4,
    "start_time": "2024-11-03T14:48:47.987Z"
   },
   {
    "duration": 5,
    "start_time": "2024-11-03T14:48:47.993Z"
   },
   {
    "duration": 117,
    "start_time": "2024-11-03T14:48:47.999Z"
   },
   {
    "duration": 5,
    "start_time": "2024-11-03T14:48:48.117Z"
   },
   {
    "duration": 115,
    "start_time": "2024-11-03T15:16:21.323Z"
   },
   {
    "duration": 192,
    "start_time": "2024-11-03T15:26:34.200Z"
   },
   {
    "duration": 198,
    "start_time": "2024-11-03T15:28:13.519Z"
   },
   {
    "duration": 231,
    "start_time": "2024-11-03T15:28:22.759Z"
   },
   {
    "duration": 6,
    "start_time": "2024-11-03T15:34:42.388Z"
   },
   {
    "duration": 195,
    "start_time": "2024-11-03T15:37:15.438Z"
   },
   {
    "duration": 307,
    "start_time": "2024-11-03T15:42:57.869Z"
   },
   {
    "duration": 207,
    "start_time": "2024-11-03T15:43:14.225Z"
   },
   {
    "duration": 196,
    "start_time": "2024-11-03T15:44:48.739Z"
   },
   {
    "duration": 6,
    "start_time": "2024-11-03T15:57:09.343Z"
   },
   {
    "duration": 206,
    "start_time": "2024-11-03T16:04:31.605Z"
   },
   {
    "duration": 3,
    "start_time": "2024-11-03T16:56:59.058Z"
   },
   {
    "duration": 23,
    "start_time": "2024-11-03T16:56:59.063Z"
   },
   {
    "duration": 12,
    "start_time": "2024-11-03T16:56:59.087Z"
   },
   {
    "duration": 11,
    "start_time": "2024-11-03T16:56:59.101Z"
   },
   {
    "duration": 2,
    "start_time": "2024-11-03T16:56:59.115Z"
   },
   {
    "duration": 3,
    "start_time": "2024-11-03T16:56:59.119Z"
   },
   {
    "duration": 6,
    "start_time": "2024-11-03T16:56:59.124Z"
   },
   {
    "duration": 2,
    "start_time": "2024-11-03T16:56:59.132Z"
   },
   {
    "duration": 4,
    "start_time": "2024-11-03T16:56:59.171Z"
   },
   {
    "duration": 10,
    "start_time": "2024-11-03T16:56:59.177Z"
   },
   {
    "duration": 3,
    "start_time": "2024-11-03T16:56:59.189Z"
   },
   {
    "duration": 14,
    "start_time": "2024-11-03T16:56:59.194Z"
   },
   {
    "duration": 11,
    "start_time": "2024-11-03T16:56:59.211Z"
   },
   {
    "duration": 47,
    "start_time": "2024-11-03T16:56:59.224Z"
   },
   {
    "duration": 12,
    "start_time": "2024-11-03T16:56:59.273Z"
   },
   {
    "duration": 10,
    "start_time": "2024-11-03T16:56:59.286Z"
   },
   {
    "duration": 5,
    "start_time": "2024-11-03T16:56:59.298Z"
   },
   {
    "duration": 5,
    "start_time": "2024-11-03T16:56:59.304Z"
   },
   {
    "duration": 4,
    "start_time": "2024-11-03T16:56:59.310Z"
   },
   {
    "duration": 3,
    "start_time": "2024-11-03T16:56:59.316Z"
   },
   {
    "duration": 49,
    "start_time": "2024-11-03T16:56:59.321Z"
   },
   {
    "duration": 8,
    "start_time": "2024-11-03T16:56:59.372Z"
   },
   {
    "duration": 7,
    "start_time": "2024-11-03T16:56:59.381Z"
   },
   {
    "duration": 7,
    "start_time": "2024-11-03T16:56:59.389Z"
   },
   {
    "duration": 3,
    "start_time": "2024-11-03T16:56:59.398Z"
   },
   {
    "duration": 10,
    "start_time": "2024-11-03T16:56:59.403Z"
   },
   {
    "duration": 3,
    "start_time": "2024-11-03T16:56:59.415Z"
   },
   {
    "duration": 4,
    "start_time": "2024-11-03T16:56:59.420Z"
   },
   {
    "duration": 302,
    "start_time": "2024-11-03T16:56:59.425Z"
   },
   {
    "duration": 5,
    "start_time": "2024-11-03T16:56:59.729Z"
   },
   {
    "duration": 3,
    "start_time": "2024-11-03T16:56:59.735Z"
   },
   {
    "duration": 4,
    "start_time": "2024-11-03T16:56:59.739Z"
   },
   {
    "duration": 31,
    "start_time": "2024-11-03T16:56:59.745Z"
   },
   {
    "duration": 16,
    "start_time": "2024-11-03T16:56:59.778Z"
   },
   {
    "duration": 17,
    "start_time": "2024-11-03T16:56:59.795Z"
   },
   {
    "duration": 227,
    "start_time": "2024-11-03T16:56:59.813Z"
   },
   {
    "duration": 5,
    "start_time": "2024-11-03T16:57:00.045Z"
   },
   {
    "duration": 4,
    "start_time": "2024-11-03T16:57:00.051Z"
   },
   {
    "duration": 17,
    "start_time": "2024-11-03T16:57:00.057Z"
   },
   {
    "duration": 4,
    "start_time": "2024-11-03T16:57:00.076Z"
   },
   {
    "duration": 224,
    "start_time": "2024-11-03T16:57:00.082Z"
   },
   {
    "duration": 3,
    "start_time": "2024-11-03T16:57:00.308Z"
   },
   {
    "duration": 323,
    "start_time": "2024-11-03T16:57:00.312Z"
   },
   {
    "duration": 4,
    "start_time": "2024-11-03T16:57:00.637Z"
   },
   {
    "duration": 4,
    "start_time": "2024-11-03T16:57:00.643Z"
   },
   {
    "duration": 341,
    "start_time": "2024-11-03T16:57:00.648Z"
   },
   {
    "duration": 5,
    "start_time": "2024-11-03T16:57:00.990Z"
   },
   {
    "duration": 410,
    "start_time": "2024-11-03T16:57:00.996Z"
   },
   {
    "duration": 5,
    "start_time": "2024-11-03T16:57:01.408Z"
   },
   {
    "duration": 5,
    "start_time": "2024-11-03T16:57:01.415Z"
   },
   {
    "duration": 4,
    "start_time": "2024-11-03T16:57:01.421Z"
   },
   {
    "duration": 5,
    "start_time": "2024-11-03T16:57:01.427Z"
   },
   {
    "duration": 5,
    "start_time": "2024-11-03T16:57:01.434Z"
   },
   {
    "duration": 185,
    "start_time": "2024-11-03T16:57:01.441Z"
   },
   {
    "duration": 170,
    "start_time": "2024-11-03T16:57:01.628Z"
   },
   {
    "duration": 6,
    "start_time": "2024-11-03T16:57:01.800Z"
   },
   {
    "duration": 6,
    "start_time": "2024-11-03T16:57:01.807Z"
   },
   {
    "duration": 6,
    "start_time": "2024-11-03T16:57:01.815Z"
   },
   {
    "duration": 5,
    "start_time": "2024-11-03T16:57:01.823Z"
   },
   {
    "duration": 40,
    "start_time": "2024-11-03T16:57:01.830Z"
   },
   {
    "duration": 5,
    "start_time": "2024-11-03T16:57:01.872Z"
   },
   {
    "duration": 6,
    "start_time": "2024-11-03T16:57:01.879Z"
   },
   {
    "duration": 5,
    "start_time": "2024-11-03T16:57:01.886Z"
   },
   {
    "duration": 5,
    "start_time": "2024-11-03T16:57:01.892Z"
   },
   {
    "duration": 4,
    "start_time": "2024-11-03T16:57:01.898Z"
   },
   {
    "duration": 148,
    "start_time": "2024-11-03T16:57:01.903Z"
   },
   {
    "duration": 17,
    "start_time": "2024-11-03T16:57:02.053Z"
   },
   {
    "duration": 235,
    "start_time": "2024-11-03T16:57:02.071Z"
   },
   {
    "duration": 7,
    "start_time": "2024-11-03T16:57:02.309Z"
   },
   {
    "duration": 207,
    "start_time": "2024-11-03T16:57:02.318Z"
   },
   {
    "duration": 6,
    "start_time": "2024-11-03T16:57:02.527Z"
   },
   {
    "duration": 281,
    "start_time": "2024-11-03T16:57:02.534Z"
   },
   {
    "duration": 5,
    "start_time": "2024-11-03T16:57:52.060Z"
   },
   {
    "duration": 6,
    "start_time": "2024-11-03T17:01:08.476Z"
   },
   {
    "duration": 6,
    "start_time": "2024-11-03T17:21:06.647Z"
   },
   {
    "duration": 3,
    "start_time": "2024-11-03T17:29:12.924Z"
   },
   {
    "duration": 22,
    "start_time": "2024-11-03T17:29:12.936Z"
   },
   {
    "duration": 11,
    "start_time": "2024-11-03T17:29:12.960Z"
   },
   {
    "duration": 10,
    "start_time": "2024-11-03T17:29:12.972Z"
   },
   {
    "duration": 2,
    "start_time": "2024-11-03T17:29:12.984Z"
   },
   {
    "duration": 3,
    "start_time": "2024-11-03T17:29:12.988Z"
   },
   {
    "duration": 5,
    "start_time": "2024-11-03T17:29:12.993Z"
   },
   {
    "duration": 2,
    "start_time": "2024-11-03T17:29:13.001Z"
   },
   {
    "duration": 6,
    "start_time": "2024-11-03T17:29:13.005Z"
   },
   {
    "duration": 10,
    "start_time": "2024-11-03T17:29:13.012Z"
   },
   {
    "duration": 48,
    "start_time": "2024-11-03T17:29:13.023Z"
   },
   {
    "duration": 17,
    "start_time": "2024-11-03T17:29:13.073Z"
   },
   {
    "duration": 11,
    "start_time": "2024-11-03T17:29:13.092Z"
   },
   {
    "duration": 12,
    "start_time": "2024-11-03T17:29:13.105Z"
   },
   {
    "duration": 15,
    "start_time": "2024-11-03T17:29:13.121Z"
   },
   {
    "duration": 13,
    "start_time": "2024-11-03T17:29:13.170Z"
   },
   {
    "duration": 4,
    "start_time": "2024-11-03T17:29:13.184Z"
   },
   {
    "duration": 5,
    "start_time": "2024-11-03T17:29:13.190Z"
   },
   {
    "duration": 4,
    "start_time": "2024-11-03T17:29:13.196Z"
   },
   {
    "duration": 3,
    "start_time": "2024-11-03T17:29:13.202Z"
   },
   {
    "duration": 11,
    "start_time": "2024-11-03T17:29:13.206Z"
   },
   {
    "duration": 8,
    "start_time": "2024-11-03T17:29:13.218Z"
   },
   {
    "duration": 47,
    "start_time": "2024-11-03T17:29:13.227Z"
   },
   {
    "duration": 8,
    "start_time": "2024-11-03T17:29:13.276Z"
   },
   {
    "duration": 4,
    "start_time": "2024-11-03T17:29:13.285Z"
   },
   {
    "duration": 11,
    "start_time": "2024-11-03T17:29:13.291Z"
   },
   {
    "duration": 2,
    "start_time": "2024-11-03T17:29:13.304Z"
   },
   {
    "duration": 3,
    "start_time": "2024-11-03T17:29:13.308Z"
   },
   {
    "duration": 275,
    "start_time": "2024-11-03T17:29:13.314Z"
   },
   {
    "duration": 4,
    "start_time": "2024-11-03T17:29:13.591Z"
   },
   {
    "duration": 3,
    "start_time": "2024-11-03T17:29:13.597Z"
   },
   {
    "duration": 3,
    "start_time": "2024-11-03T17:29:13.602Z"
   },
   {
    "duration": 8,
    "start_time": "2024-11-03T17:29:13.607Z"
   },
   {
    "duration": 16,
    "start_time": "2024-11-03T17:29:13.616Z"
   },
   {
    "duration": 51,
    "start_time": "2024-11-03T17:29:13.634Z"
   },
   {
    "duration": 215,
    "start_time": "2024-11-03T17:29:13.686Z"
   },
   {
    "duration": 6,
    "start_time": "2024-11-03T17:29:13.903Z"
   },
   {
    "duration": 5,
    "start_time": "2024-11-03T17:29:13.910Z"
   },
   {
    "duration": 5,
    "start_time": "2024-11-03T17:29:13.916Z"
   },
   {
    "duration": 6,
    "start_time": "2024-11-03T17:29:13.924Z"
   },
   {
    "duration": 309,
    "start_time": "2024-11-03T17:29:13.931Z"
   },
   {
    "duration": 3,
    "start_time": "2024-11-03T17:29:14.246Z"
   },
   {
    "duration": 337,
    "start_time": "2024-11-03T17:29:14.250Z"
   },
   {
    "duration": 5,
    "start_time": "2024-11-03T17:29:14.589Z"
   },
   {
    "duration": 4,
    "start_time": "2024-11-03T17:29:14.595Z"
   },
   {
    "duration": 311,
    "start_time": "2024-11-03T17:29:14.600Z"
   },
   {
    "duration": 5,
    "start_time": "2024-11-03T17:29:14.912Z"
   },
   {
    "duration": 333,
    "start_time": "2024-11-03T17:29:14.919Z"
   },
   {
    "duration": 4,
    "start_time": "2024-11-03T17:29:15.254Z"
   },
   {
    "duration": 13,
    "start_time": "2024-11-03T17:29:15.260Z"
   },
   {
    "duration": 5,
    "start_time": "2024-11-03T17:29:15.274Z"
   },
   {
    "duration": 5,
    "start_time": "2024-11-03T17:29:15.280Z"
   },
   {
    "duration": 5,
    "start_time": "2024-11-03T17:29:15.287Z"
   },
   {
    "duration": 185,
    "start_time": "2024-11-03T17:29:15.293Z"
   },
   {
    "duration": 158,
    "start_time": "2024-11-03T17:29:15.480Z"
   },
   {
    "duration": 6,
    "start_time": "2024-11-03T17:29:15.640Z"
   },
   {
    "duration": 5,
    "start_time": "2024-11-03T17:29:15.647Z"
   },
   {
    "duration": 5,
    "start_time": "2024-11-03T17:29:15.670Z"
   },
   {
    "duration": 6,
    "start_time": "2024-11-03T17:29:15.677Z"
   },
   {
    "duration": 6,
    "start_time": "2024-11-03T17:29:15.684Z"
   },
   {
    "duration": 6,
    "start_time": "2024-11-03T17:29:15.691Z"
   },
   {
    "duration": 5,
    "start_time": "2024-11-03T17:29:15.699Z"
   },
   {
    "duration": 4,
    "start_time": "2024-11-03T17:29:15.706Z"
   },
   {
    "duration": 4,
    "start_time": "2024-11-03T17:29:15.711Z"
   },
   {
    "duration": 4,
    "start_time": "2024-11-03T17:29:15.717Z"
   },
   {
    "duration": 165,
    "start_time": "2024-11-03T17:29:15.722Z"
   },
   {
    "duration": 6,
    "start_time": "2024-11-03T17:29:15.889Z"
   },
   {
    "duration": 222,
    "start_time": "2024-11-03T17:29:15.896Z"
   },
   {
    "duration": 6,
    "start_time": "2024-11-03T17:29:16.120Z"
   },
   {
    "duration": 254,
    "start_time": "2024-11-03T17:29:16.129Z"
   },
   {
    "duration": 8,
    "start_time": "2024-11-03T17:29:16.385Z"
   },
   {
    "duration": 235,
    "start_time": "2024-11-03T17:29:16.394Z"
   },
   {
    "duration": 6,
    "start_time": "2024-11-03T17:29:16.631Z"
   },
   {
    "duration": 6,
    "start_time": "2024-11-03T17:29:16.639Z"
   },
   {
    "duration": 3,
    "start_time": "2024-11-03T17:52:59.801Z"
   },
   {
    "duration": 23,
    "start_time": "2024-11-03T17:52:59.806Z"
   },
   {
    "duration": 10,
    "start_time": "2024-11-03T17:52:59.831Z"
   },
   {
    "duration": 11,
    "start_time": "2024-11-03T17:52:59.844Z"
   },
   {
    "duration": 2,
    "start_time": "2024-11-03T17:52:59.857Z"
   },
   {
    "duration": 8,
    "start_time": "2024-11-03T17:52:59.861Z"
   },
   {
    "duration": 6,
    "start_time": "2024-11-03T17:52:59.871Z"
   },
   {
    "duration": 3,
    "start_time": "2024-11-03T17:52:59.878Z"
   },
   {
    "duration": 6,
    "start_time": "2024-11-03T17:52:59.885Z"
   },
   {
    "duration": 9,
    "start_time": "2024-11-03T17:52:59.893Z"
   },
   {
    "duration": 4,
    "start_time": "2024-11-03T17:52:59.904Z"
   },
   {
    "duration": 16,
    "start_time": "2024-11-03T17:52:59.909Z"
   },
   {
    "duration": 53,
    "start_time": "2024-11-03T17:52:59.926Z"
   },
   {
    "duration": 11,
    "start_time": "2024-11-03T17:52:59.981Z"
   },
   {
    "duration": 12,
    "start_time": "2024-11-03T17:52:59.994Z"
   },
   {
    "duration": 11,
    "start_time": "2024-11-03T17:53:00.007Z"
   },
   {
    "duration": 5,
    "start_time": "2024-11-03T17:53:00.020Z"
   },
   {
    "duration": 43,
    "start_time": "2024-11-03T17:53:00.027Z"
   },
   {
    "duration": 3,
    "start_time": "2024-11-03T17:53:00.072Z"
   },
   {
    "duration": 3,
    "start_time": "2024-11-03T17:53:00.078Z"
   },
   {
    "duration": 11,
    "start_time": "2024-11-03T17:53:00.082Z"
   },
   {
    "duration": 8,
    "start_time": "2024-11-03T17:53:00.094Z"
   },
   {
    "duration": 6,
    "start_time": "2024-11-03T17:53:00.103Z"
   },
   {
    "duration": 7,
    "start_time": "2024-11-03T17:53:00.113Z"
   },
   {
    "duration": 4,
    "start_time": "2024-11-03T17:53:00.121Z"
   },
   {
    "duration": 53,
    "start_time": "2024-11-03T17:53:00.126Z"
   },
   {
    "duration": 3,
    "start_time": "2024-11-03T17:53:00.181Z"
   },
   {
    "duration": 4,
    "start_time": "2024-11-03T17:53:00.186Z"
   },
   {
    "duration": 342,
    "start_time": "2024-11-03T17:53:00.192Z"
   },
   {
    "duration": 7,
    "start_time": "2024-11-03T17:53:00.535Z"
   },
   {
    "duration": 3,
    "start_time": "2024-11-03T17:53:00.543Z"
   },
   {
    "duration": 23,
    "start_time": "2024-11-03T17:53:00.548Z"
   },
   {
    "duration": 7,
    "start_time": "2024-11-03T17:53:00.573Z"
   },
   {
    "duration": 16,
    "start_time": "2024-11-03T17:53:00.582Z"
   },
   {
    "duration": 16,
    "start_time": "2024-11-03T17:53:00.600Z"
   },
   {
    "duration": 229,
    "start_time": "2024-11-03T17:53:00.618Z"
   },
   {
    "duration": 6,
    "start_time": "2024-11-03T17:53:00.848Z"
   },
   {
    "duration": 15,
    "start_time": "2024-11-03T17:53:00.856Z"
   },
   {
    "duration": 5,
    "start_time": "2024-11-03T17:53:00.872Z"
   },
   {
    "duration": 4,
    "start_time": "2024-11-03T17:53:00.879Z"
   },
   {
    "duration": 225,
    "start_time": "2024-11-03T17:53:00.885Z"
   },
   {
    "duration": 5,
    "start_time": "2024-11-03T17:53:01.111Z"
   },
   {
    "duration": 328,
    "start_time": "2024-11-03T17:53:01.118Z"
   },
   {
    "duration": 4,
    "start_time": "2024-11-03T17:53:01.448Z"
   },
   {
    "duration": 15,
    "start_time": "2024-11-03T17:53:01.454Z"
   },
   {
    "duration": 317,
    "start_time": "2024-11-03T17:53:01.471Z"
   },
   {
    "duration": 4,
    "start_time": "2024-11-03T17:53:01.790Z"
   },
   {
    "duration": 293,
    "start_time": "2024-11-03T17:53:01.796Z"
   },
   {
    "duration": 4,
    "start_time": "2024-11-03T17:53:02.091Z"
   },
   {
    "duration": 5,
    "start_time": "2024-11-03T17:53:02.097Z"
   },
   {
    "duration": 4,
    "start_time": "2024-11-03T17:53:02.103Z"
   },
   {
    "duration": 6,
    "start_time": "2024-11-03T17:53:02.109Z"
   },
   {
    "duration": 6,
    "start_time": "2024-11-03T17:53:02.116Z"
   },
   {
    "duration": 185,
    "start_time": "2024-11-03T17:53:02.127Z"
   },
   {
    "duration": 164,
    "start_time": "2024-11-03T17:53:02.314Z"
   },
   {
    "duration": 6,
    "start_time": "2024-11-03T17:53:02.479Z"
   },
   {
    "duration": 5,
    "start_time": "2024-11-03T17:53:02.487Z"
   },
   {
    "duration": 7,
    "start_time": "2024-11-03T17:53:02.494Z"
   },
   {
    "duration": 5,
    "start_time": "2024-11-03T17:53:02.503Z"
   },
   {
    "duration": 8,
    "start_time": "2024-11-03T17:53:02.510Z"
   },
   {
    "duration": 6,
    "start_time": "2024-11-03T17:53:02.519Z"
   },
   {
    "duration": 6,
    "start_time": "2024-11-03T17:53:02.570Z"
   },
   {
    "duration": 4,
    "start_time": "2024-11-03T17:53:02.578Z"
   },
   {
    "duration": 4,
    "start_time": "2024-11-03T17:53:02.584Z"
   },
   {
    "duration": 4,
    "start_time": "2024-11-03T17:53:02.589Z"
   },
   {
    "duration": 138,
    "start_time": "2024-11-03T17:53:02.595Z"
   },
   {
    "duration": 7,
    "start_time": "2024-11-03T17:53:02.734Z"
   },
   {
    "duration": 258,
    "start_time": "2024-11-03T17:53:02.743Z"
   },
   {
    "duration": 8,
    "start_time": "2024-11-03T17:53:03.003Z"
   },
   {
    "duration": 311,
    "start_time": "2024-11-03T17:53:03.012Z"
   },
   {
    "duration": 7,
    "start_time": "2024-11-03T17:53:03.325Z"
   },
   {
    "duration": 242,
    "start_time": "2024-11-03T17:53:03.334Z"
   },
   {
    "duration": 7,
    "start_time": "2024-11-03T17:53:03.578Z"
   },
   {
    "duration": 6,
    "start_time": "2024-11-03T17:53:03.587Z"
   },
   {
    "duration": 8,
    "start_time": "2024-11-04T14:06:22.049Z"
   },
   {
    "duration": 2613,
    "start_time": "2024-11-04T14:06:31.448Z"
   },
   {
    "duration": 39,
    "start_time": "2024-11-04T14:06:34.063Z"
   },
   {
    "duration": 13,
    "start_time": "2024-11-04T14:06:34.105Z"
   },
   {
    "duration": 12,
    "start_time": "2024-11-04T14:06:34.120Z"
   },
   {
    "duration": 3,
    "start_time": "2024-11-04T14:06:34.134Z"
   },
   {
    "duration": 3,
    "start_time": "2024-11-04T14:06:34.139Z"
   },
   {
    "duration": 6,
    "start_time": "2024-11-04T14:06:34.144Z"
   },
   {
    "duration": 3,
    "start_time": "2024-11-04T14:06:34.152Z"
   },
   {
    "duration": 6,
    "start_time": "2024-11-04T14:06:34.157Z"
   },
   {
    "duration": 52,
    "start_time": "2024-11-04T14:06:34.167Z"
   },
   {
    "duration": 5,
    "start_time": "2024-11-04T14:06:34.220Z"
   },
   {
    "duration": 17,
    "start_time": "2024-11-04T14:06:34.226Z"
   },
   {
    "duration": 11,
    "start_time": "2024-11-04T14:06:34.245Z"
   },
   {
    "duration": 14,
    "start_time": "2024-11-04T14:06:34.258Z"
   },
   {
    "duration": 42,
    "start_time": "2024-11-04T14:06:34.273Z"
   },
   {
    "duration": 12,
    "start_time": "2024-11-04T14:06:34.316Z"
   },
   {
    "duration": 4,
    "start_time": "2024-11-04T14:06:34.330Z"
   },
   {
    "duration": 6,
    "start_time": "2024-11-04T14:06:34.336Z"
   },
   {
    "duration": 4,
    "start_time": "2024-11-04T14:06:34.343Z"
   },
   {
    "duration": 2,
    "start_time": "2024-11-04T14:06:34.349Z"
   },
   {
    "duration": 10,
    "start_time": "2024-11-04T14:06:34.353Z"
   },
   {
    "duration": 48,
    "start_time": "2024-11-04T14:06:34.365Z"
   },
   {
    "duration": 6,
    "start_time": "2024-11-04T14:06:34.415Z"
   },
   {
    "duration": 8,
    "start_time": "2024-11-04T14:06:34.422Z"
   },
   {
    "duration": 4,
    "start_time": "2024-11-04T14:06:34.431Z"
   },
   {
    "duration": 11,
    "start_time": "2024-11-04T14:06:34.437Z"
   },
   {
    "duration": 3,
    "start_time": "2024-11-04T14:06:34.450Z"
   },
   {
    "duration": 4,
    "start_time": "2024-11-04T14:06:34.458Z"
   },
   {
    "duration": 298,
    "start_time": "2024-11-04T14:06:34.463Z"
   },
   {
    "duration": 6,
    "start_time": "2024-11-04T14:06:34.763Z"
   },
   {
    "duration": 3,
    "start_time": "2024-11-04T14:06:34.771Z"
   },
   {
    "duration": 5,
    "start_time": "2024-11-04T14:06:34.776Z"
   },
   {
    "duration": 33,
    "start_time": "2024-11-04T14:06:34.783Z"
   },
   {
    "duration": 17,
    "start_time": "2024-11-04T14:06:34.817Z"
   },
   {
    "duration": 17,
    "start_time": "2024-11-04T14:06:34.836Z"
   },
   {
    "duration": 251,
    "start_time": "2024-11-04T14:06:34.854Z"
   },
   {
    "duration": 4,
    "start_time": "2024-11-04T14:06:35.108Z"
   },
   {
    "duration": 0,
    "start_time": "2024-11-04T14:06:35.113Z"
   },
   {
    "duration": 0,
    "start_time": "2024-11-04T14:06:35.115Z"
   },
   {
    "duration": 0,
    "start_time": "2024-11-04T14:06:35.117Z"
   },
   {
    "duration": 0,
    "start_time": "2024-11-04T14:06:35.118Z"
   },
   {
    "duration": 0,
    "start_time": "2024-11-04T14:06:35.119Z"
   },
   {
    "duration": 0,
    "start_time": "2024-11-04T14:06:35.121Z"
   },
   {
    "duration": 0,
    "start_time": "2024-11-04T14:06:35.123Z"
   },
   {
    "duration": 0,
    "start_time": "2024-11-04T14:06:35.124Z"
   },
   {
    "duration": 0,
    "start_time": "2024-11-04T14:06:35.126Z"
   },
   {
    "duration": 0,
    "start_time": "2024-11-04T14:06:35.127Z"
   },
   {
    "duration": 0,
    "start_time": "2024-11-04T14:06:35.129Z"
   },
   {
    "duration": 0,
    "start_time": "2024-11-04T14:06:35.130Z"
   },
   {
    "duration": 0,
    "start_time": "2024-11-04T14:06:35.132Z"
   },
   {
    "duration": 0,
    "start_time": "2024-11-04T14:06:35.133Z"
   },
   {
    "duration": 0,
    "start_time": "2024-11-04T14:06:35.135Z"
   },
   {
    "duration": 0,
    "start_time": "2024-11-04T14:06:35.136Z"
   },
   {
    "duration": 0,
    "start_time": "2024-11-04T14:06:35.137Z"
   },
   {
    "duration": 0,
    "start_time": "2024-11-04T14:06:35.138Z"
   },
   {
    "duration": 0,
    "start_time": "2024-11-04T14:06:35.139Z"
   },
   {
    "duration": 0,
    "start_time": "2024-11-04T14:06:35.140Z"
   },
   {
    "duration": 0,
    "start_time": "2024-11-04T14:06:35.141Z"
   },
   {
    "duration": 0,
    "start_time": "2024-11-04T14:06:35.142Z"
   },
   {
    "duration": 0,
    "start_time": "2024-11-04T14:06:35.144Z"
   },
   {
    "duration": 0,
    "start_time": "2024-11-04T14:06:35.145Z"
   },
   {
    "duration": 0,
    "start_time": "2024-11-04T14:06:35.147Z"
   },
   {
    "duration": 0,
    "start_time": "2024-11-04T14:06:35.148Z"
   },
   {
    "duration": 0,
    "start_time": "2024-11-04T14:06:35.150Z"
   },
   {
    "duration": 0,
    "start_time": "2024-11-04T14:06:35.151Z"
   },
   {
    "duration": 0,
    "start_time": "2024-11-04T14:06:35.152Z"
   },
   {
    "duration": 0,
    "start_time": "2024-11-04T14:06:35.153Z"
   },
   {
    "duration": 0,
    "start_time": "2024-11-04T14:06:35.154Z"
   },
   {
    "duration": 0,
    "start_time": "2024-11-04T14:06:35.210Z"
   },
   {
    "duration": 0,
    "start_time": "2024-11-04T14:06:35.211Z"
   },
   {
    "duration": 0,
    "start_time": "2024-11-04T14:06:35.212Z"
   },
   {
    "duration": 0,
    "start_time": "2024-11-04T14:06:35.214Z"
   },
   {
    "duration": 0,
    "start_time": "2024-11-04T14:06:35.215Z"
   },
   {
    "duration": 0,
    "start_time": "2024-11-04T14:06:35.216Z"
   },
   {
    "duration": 0,
    "start_time": "2024-11-04T14:06:35.217Z"
   },
   {
    "duration": 3,
    "start_time": "2024-11-04T14:21:20.985Z"
   },
   {
    "duration": 26,
    "start_time": "2024-11-04T14:21:20.991Z"
   },
   {
    "duration": 11,
    "start_time": "2024-11-04T14:21:21.019Z"
   },
   {
    "duration": 11,
    "start_time": "2024-11-04T14:21:21.031Z"
   },
   {
    "duration": 3,
    "start_time": "2024-11-04T14:21:21.044Z"
   },
   {
    "duration": 4,
    "start_time": "2024-11-04T14:21:21.048Z"
   },
   {
    "duration": 6,
    "start_time": "2024-11-04T14:21:21.054Z"
   },
   {
    "duration": 4,
    "start_time": "2024-11-04T14:21:21.062Z"
   },
   {
    "duration": 41,
    "start_time": "2024-11-04T14:21:21.068Z"
   },
   {
    "duration": 12,
    "start_time": "2024-11-04T14:21:21.111Z"
   },
   {
    "duration": 4,
    "start_time": "2024-11-04T14:21:21.126Z"
   },
   {
    "duration": 15,
    "start_time": "2024-11-04T14:21:21.132Z"
   },
   {
    "duration": 11,
    "start_time": "2024-11-04T14:21:21.148Z"
   },
   {
    "duration": 48,
    "start_time": "2024-11-04T14:21:21.161Z"
   },
   {
    "duration": 13,
    "start_time": "2024-11-04T14:21:21.211Z"
   },
   {
    "duration": 10,
    "start_time": "2024-11-04T14:21:21.226Z"
   },
   {
    "duration": 4,
    "start_time": "2024-11-04T14:21:21.238Z"
   },
   {
    "duration": 5,
    "start_time": "2024-11-04T14:21:21.243Z"
   },
   {
    "duration": 5,
    "start_time": "2024-11-04T14:21:21.250Z"
   },
   {
    "duration": 3,
    "start_time": "2024-11-04T14:21:21.257Z"
   },
   {
    "duration": 55,
    "start_time": "2024-11-04T14:21:21.261Z"
   },
   {
    "duration": 9,
    "start_time": "2024-11-04T14:21:21.317Z"
   },
   {
    "duration": 7,
    "start_time": "2024-11-04T14:21:21.328Z"
   },
   {
    "duration": 8,
    "start_time": "2024-11-04T14:21:21.336Z"
   },
   {
    "duration": 4,
    "start_time": "2024-11-04T14:21:21.345Z"
   },
   {
    "duration": 11,
    "start_time": "2024-11-04T14:21:21.350Z"
   },
   {
    "duration": 4,
    "start_time": "2024-11-04T14:21:21.363Z"
   },
   {
    "duration": 41,
    "start_time": "2024-11-04T14:21:21.368Z"
   },
   {
    "duration": 263,
    "start_time": "2024-11-04T14:21:21.413Z"
   },
   {
    "duration": 5,
    "start_time": "2024-11-04T14:21:21.678Z"
   },
   {
    "duration": 3,
    "start_time": "2024-11-04T14:21:21.684Z"
   },
   {
    "duration": 4,
    "start_time": "2024-11-04T14:21:21.689Z"
   },
   {
    "duration": 9,
    "start_time": "2024-11-04T14:21:21.708Z"
   },
   {
    "duration": 16,
    "start_time": "2024-11-04T14:21:21.719Z"
   },
   {
    "duration": 16,
    "start_time": "2024-11-04T14:21:21.737Z"
   },
   {
    "duration": 235,
    "start_time": "2024-11-04T14:21:21.755Z"
   },
   {
    "duration": 5,
    "start_time": "2024-11-04T14:21:21.993Z"
   },
   {
    "duration": 5,
    "start_time": "2024-11-04T14:21:22.008Z"
   },
   {
    "duration": 5,
    "start_time": "2024-11-04T14:21:22.014Z"
   },
   {
    "duration": 4,
    "start_time": "2024-11-04T14:21:22.021Z"
   },
   {
    "duration": 235,
    "start_time": "2024-11-04T14:21:22.027Z"
   },
   {
    "duration": 4,
    "start_time": "2024-11-04T14:21:22.264Z"
   },
   {
    "duration": 373,
    "start_time": "2024-11-04T14:21:22.270Z"
   },
   {
    "duration": 5,
    "start_time": "2024-11-04T14:21:22.645Z"
   },
   {
    "duration": 4,
    "start_time": "2024-11-04T14:21:22.651Z"
   },
   {
    "duration": 336,
    "start_time": "2024-11-04T14:21:22.656Z"
   },
   {
    "duration": 5,
    "start_time": "2024-11-04T14:21:22.996Z"
   },
   {
    "duration": 320,
    "start_time": "2024-11-04T14:21:23.009Z"
   },
   {
    "duration": 5,
    "start_time": "2024-11-04T14:21:23.331Z"
   },
   {
    "duration": 4,
    "start_time": "2024-11-04T14:21:23.338Z"
   },
   {
    "duration": 4,
    "start_time": "2024-11-04T14:21:23.344Z"
   },
   {
    "duration": 5,
    "start_time": "2024-11-04T14:21:23.350Z"
   },
   {
    "duration": 5,
    "start_time": "2024-11-04T14:21:23.356Z"
   },
   {
    "duration": 190,
    "start_time": "2024-11-04T14:21:23.363Z"
   },
   {
    "duration": 166,
    "start_time": "2024-11-04T14:21:23.555Z"
   },
   {
    "duration": 6,
    "start_time": "2024-11-04T14:21:23.723Z"
   },
   {
    "duration": 5,
    "start_time": "2024-11-04T14:21:23.731Z"
   },
   {
    "duration": 5,
    "start_time": "2024-11-04T14:21:23.739Z"
   },
   {
    "duration": 6,
    "start_time": "2024-11-04T14:21:23.746Z"
   },
   {
    "duration": 5,
    "start_time": "2024-11-04T14:21:23.753Z"
   },
   {
    "duration": 7,
    "start_time": "2024-11-04T14:21:23.760Z"
   },
   {
    "duration": 42,
    "start_time": "2024-11-04T14:21:23.769Z"
   },
   {
    "duration": 4,
    "start_time": "2024-11-04T14:21:23.813Z"
   },
   {
    "duration": 5,
    "start_time": "2024-11-04T14:21:23.819Z"
   },
   {
    "duration": 5,
    "start_time": "2024-11-04T14:21:23.825Z"
   },
   {
    "duration": 137,
    "start_time": "2024-11-04T14:21:23.832Z"
   },
   {
    "duration": 6,
    "start_time": "2024-11-04T14:21:23.970Z"
   },
   {
    "duration": 250,
    "start_time": "2024-11-04T14:21:23.978Z"
   },
   {
    "duration": 5,
    "start_time": "2024-11-04T14:21:24.230Z"
   },
   {
    "duration": 224,
    "start_time": "2024-11-04T14:21:24.237Z"
   },
   {
    "duration": 5,
    "start_time": "2024-11-04T14:21:24.463Z"
   },
   {
    "duration": 264,
    "start_time": "2024-11-04T14:21:24.470Z"
   },
   {
    "duration": 7,
    "start_time": "2024-11-04T14:21:24.736Z"
   },
   {
    "duration": 7,
    "start_time": "2024-11-04T14:21:24.745Z"
   }
  ],
  "kernelspec": {
   "display_name": "Python 3 (ipykernel)",
   "language": "python",
   "name": "python3"
  },
  "language_info": {
   "codemirror_mode": {
    "name": "ipython",
    "version": 3
   },
   "file_extension": ".py",
   "mimetype": "text/x-python",
   "name": "python",
   "nbconvert_exporter": "python",
   "pygments_lexer": "ipython3",
   "version": "3.9.19"
  },
  "toc": {
   "base_numbering": 1,
   "nav_menu": {},
   "number_sections": true,
   "sideBar": true,
   "skip_h1_title": true,
   "title_cell": "Table of Contents",
   "title_sidebar": "Contents",
   "toc_cell": false,
   "toc_position": {},
   "toc_section_display": true,
   "toc_window_display": false
  }
 },
 "nbformat": 4,
 "nbformat_minor": 2
}
